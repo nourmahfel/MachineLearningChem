{
  "nbformat": 4,
  "nbformat_minor": 0,
  "metadata": {
    "colab": {
      "name": "Copy of Random Forest model new.ipynb",
      "provenance": []
    },
    "kernelspec": {
      "name": "python3",
      "display_name": "Python 3"
    },
    "language_info": {
      "name": "python"
    }
  },
  "cells": [
    {
      "cell_type": "code",
      "execution_count": 6,
      "metadata": {
        "colab": {
          "base_uri": "https://localhost:8080/"
        },
        "id": "iNq3Glo_qfY0",
        "outputId": "808df912-50e6-4028-fd0c-6797ce6dc8de"
      },
      "outputs": [
        {
          "output_type": "stream",
          "name": "stdout",
          "text": [
            "/content/drive/MyDrive/Colab_notebooks\n"
          ]
        }
      ],
      "source": [
        "% cd /content/drive/MyDrive/Colab_notebooks/"
      ]
    },
    {
      "cell_type": "markdown",
      "source": [
        "##Application of z-score in Machine learning\n",
        "To standardize the data as a part of data pre-processing.\n",
        "To compare the z-score values of different standard distributions for better results.\n"
      ],
      "metadata": {
        "id": "_F1QQREyD7Tk"
      }
    },
    {
      "cell_type": "code",
      "source": [
        "import numpy as np\n",
        "import matplotlib.pyplot as plt\n",
        "import pandas as pd"
      ],
      "metadata": {
        "id": "5Ofl5JR5D5mQ"
      },
      "execution_count": 7,
      "outputs": []
    },
    {
      "cell_type": "code",
      "source": [
        "df_y = pd.read_csv('cleaned_df.csv')"
      ],
      "metadata": {
        "id": "ubG6hIOwD-zR"
      },
      "execution_count": 8,
      "outputs": []
    },
    {
      "cell_type": "code",
      "source": [
        "Y = df_y['pIC50']"
      ],
      "metadata": {
        "id": "NOZSIhLAEB3C"
      },
      "execution_count": 9,
      "outputs": []
    },
    {
      "cell_type": "code",
      "source": [
        "import matplotlib.pyplot as plt\n",
        "from matplotlib import rcParams\n",
        "rcParams['figure.figsize'] = (16, 6)\n",
        "rcParams['axes.spines.top'] = False\n",
        "rcParams['axes.spines.right'] = False\n",
        "\n",
        "plt.hist(df_y['pIC50'], bins=100);"
      ],
      "metadata": {
        "colab": {
          "base_uri": "https://localhost:8080/",
          "height": 374
        },
        "id": "tH2Fy55qEFo5",
        "outputId": "36131d5f-f3c5-4afc-d664-2fc01042eeb3"
      },
      "execution_count": 10,
      "outputs": [
        {
          "output_type": "display_data",
          "data": {
            "text/plain": [
              "<Figure size 1152x432 with 1 Axes>"
            ],
            "image/png": "[encoded data removed]"
          },
          "metadata": {
            "needs_background": "light"
          }
        }
      ]
    },
    {
      "cell_type": "code",
      "source": [
        "from scipy import stats\n",
        "df_y['pIC50_z'] = np.abs(stats.zscore(df_y['pIC50']))"
      ],
      "metadata": {
        "id": "fnXH8MLpEJxV"
      },
      "execution_count": 11,
      "outputs": []
    },
    {
      "cell_type": "code",
      "source": [
        "df_y = df_y[df_y['pIC50_z'] <= 3]"
      ],
      "metadata": {
        "id": "eSLZPewlEMkU"
      },
      "execution_count": 12,
      "outputs": []
    },
    {
      "cell_type": "code",
      "source": [
        "df_y = df_y.drop('pIC50_z', axis=1)"
      ],
      "metadata": {
        "id": "Gda8Y04IEPDt"
      },
      "execution_count": 13,
      "outputs": []
    },
    {
      "cell_type": "code",
      "source": [
        "plt.hist(df_y['pIC50'], bins=100)"
      ],
      "metadata": {
        "colab": {
          "base_uri": "https://localhost:8080/",
          "height": 895
        },
        "id": "-c0IZWHhERpr",
        "outputId": "cebcb8ce-a1fa-475d-b6c4-6f36378aa7e4"
      },
      "execution_count": 14,
      "outputs": [
        {
          "output_type": "execute_result",
          "data": {
            "text/plain": [
              "(array([ 1.,  0.,  0.,  1.,  1.,  0.,  0.,  0.,  0.,  0.,  1.,  1.,  0.,\n",
              "         0.,  0.,  0., 12.,  1.,  1.,  2.,  5.,  6.,  9.,  2.,  8.,  4.,\n",
              "        78., 10.,  5., 10.,  3., 62., 18., 14., 14., 15., 15., 13., 23.,\n",
              "        24., 37., 21.,  7., 13.,  9., 37., 17., 10., 15., 12.,  6.,  8.,\n",
              "        14., 11., 11., 16., 11.,  1., 10.,  9.,  9.,  3.,  9.,  3.,  2.,\n",
              "         5.,  5.,  6.,  3.,  9.,  3.,  8.,  3.,  8.,  0.,  6.,  7.,  2.,\n",
              "         3.,  4.,  3.,  2.,  2.,  7.,  3.,  3.,  2.,  3.,  1.,  3.,  1.,\n",
              "         0.,  0.,  0.,  1.,  1.,  1.,  1.,  2.,  2.]),\n",
              " array([2.81247928, 2.88289321, 2.95330713, 3.02372106, 3.09413499,\n",
              "        3.16454891, 3.23496284, 3.30537677, 3.37579069, 3.44620462,\n",
              "        3.51661855, 3.58703247, 3.6574464 , 3.72786033, 3.79827425,\n",
              "        3.86868818, 3.93910211, 4.00951604, 4.07992996, 4.15034389,\n",
              "        4.22075782, 4.29117174, 4.36158567, 4.4319996 , 4.50241352,\n",
              "        4.57282745, 4.64324138, 4.7136553 , 4.78406923, 4.85448316,\n",
              "        4.92489708, 4.99531101, 5.06572494, 5.13613887, 5.20655279,\n",
              "        5.27696672, 5.34738065, 5.41779457, 5.4882085 , 5.55862243,\n",
              "        5.62903635, 5.69945028, 5.76986421, 5.84027813, 5.91069206,\n",
              "        5.98110599, 6.05151991, 6.12193384, 6.19234777, 6.26276169,\n",
              "        6.33317562, 6.40358955, 6.47400348, 6.5444174 , 6.61483133,\n",
              "        6.68524526, 6.75565918, 6.82607311, 6.89648704, 6.96690096,\n",
              "        7.03731489, 7.10772882, 7.17814274, 7.24855667, 7.3189706 ,\n",
              "        7.38938452, 7.45979845, 7.53021238, 7.6006263 , 7.67104023,\n",
              "        7.74145416, 7.81186809, 7.88228201, 7.95269594, 8.02310987,\n",
              "        8.09352379, 8.16393772, 8.23435165, 8.30476557, 8.3751795 ,\n",
              "        8.44559343, 8.51600735, 8.58642128, 8.65683521, 8.72724913,\n",
              "        8.79766306, 8.86807699, 8.93849091, 9.00890484, 9.07931877,\n",
              "        9.1497327 , 9.22014662, 9.29056055, 9.36097448, 9.4313884 ,\n",
              "        9.50180233, 9.57221626, 9.64263018, 9.71304411, 9.78345804,\n",
              "        9.85387196]),\n",
              " <a list of 100 Patch objects>)"
            ]
          },
          "metadata": {},
          "execution_count": 14
        },
        {
          "output_type": "display_data",
          "data": {
            "text/plain": [
              "<Figure size 1152x432 with 1 Axes>"
            ],
            "image/png": "[encoded data removed]"
          },
          "metadata": {
            "needs_background": "light"
          }
        }
      ]
    },
    {
      "cell_type": "code",
      "source": [
        "df_y = df_y.reset_index()\n",
        "df_y = df_y.drop('index', axis=1)"
      ],
      "metadata": {
        "id": "idh_xbe2GnrL"
      },
      "execution_count": 15,
      "outputs": []
    },
    {
      "cell_type": "code",
      "source": [
        "df_y1 = df_y[['Name']]\n",
        "df_y1"
      ],
      "metadata": {
        "colab": {
          "base_uri": "https://localhost:8080/",
          "height": 424
        },
        "id": "ufcuccPeE6MH",
        "outputId": "7591ec32-7a72-47e0-bd79-f7069afec14a"
      },
      "execution_count": 16,
      "outputs": [
        {
          "output_type": "execute_result",
          "data": {
            "text/plain": [
              "              Name\n",
              "0     CHEMBL368457\n",
              "1     CHEMBL305558\n",
              "2    CHEMBL4095361\n",
              "3    CHEMBL4087670\n",
              "4    CHEMBL1684581\n",
              "..             ...\n",
              "765  CHEMBL4465173\n",
              "766   CHEMBL388177\n",
              "767  CHEMBL4475573\n",
              "768  CHEMBL4542960\n",
              "769  CHEMBL4545079\n",
              "\n",
              "[770 rows x 1 columns]"
            ],
            "text/html": [
              "\n",
              "  <div id=\"df-c064a620-3a5c-45f1-bacc-92a9b85827f7\">\n",
              "    <div class=\"colab-df-container\">\n",
              "      <div>\n",
              "<style scoped>\n",
              "    .dataframe tbody tr th:only-of-type {\n",
              "        vertical-align: middle;\n",
              "    }\n",
              "\n",
              "    .dataframe tbody tr th {\n",
              "        vertical-align: top;\n",
              "    }\n",
              "\n",
              "    .dataframe thead th {\n",
              "        text-align: right;\n",
              "    }\n",
              "</style>\n",
              "<table border=\"1\" class=\"dataframe\">\n",
              "  <thead>\n",
              "    <tr style=\"text-align: right;\">\n",
              "      <th></th>\n",
              "      <th>Name</th>\n",
              "    </tr>\n",
              "  </thead>\n",
              "  <tbody>\n",
              "    <tr>\n",
              "      <th>0</th>\n",
              "      <td>CHEMBL368457</td>\n",
              "    </tr>\n",
              "    <tr>\n",
              "      <th>1</th>\n",
              "      <td>CHEMBL305558</td>\n",
              "    </tr>\n",
              "    <tr>\n",
              "      <th>2</th>\n",
              "      <td>CHEMBL4095361</td>\n",
              "    </tr>\n",
              "    <tr>\n",
              "      <th>3</th>\n",
              "      <td>CHEMBL4087670</td>\n",
              "    </tr>\n",
              "    <tr>\n",
              "      <th>4</th>\n",
              "      <td>CHEMBL1684581</td>\n",
              "    </tr>\n",
              "    <tr>\n",
              "      <th>...</th>\n",
              "      <td>...</td>\n",
              "    </tr>\n",
              "    <tr>\n",
              "      <th>765</th>\n",
              "      <td>CHEMBL4465173</td>\n",
              "    </tr>\n",
              "    <tr>\n",
              "      <th>766</th>\n",
              "      <td>CHEMBL388177</td>\n",
              "    </tr>\n",
              "    <tr>\n",
              "      <th>767</th>\n",
              "      <td>CHEMBL4475573</td>\n",
              "    </tr>\n",
              "    <tr>\n",
              "      <th>768</th>\n",
              "      <td>CHEMBL4542960</td>\n",
              "    </tr>\n",
              "    <tr>\n",
              "      <th>769</th>\n",
              "      <td>CHEMBL4545079</td>\n",
              "    </tr>\n",
              "  </tbody>\n",
              "</table>\n",
              "<p>770 rows × 1 columns</p>\n",
              "</div>\n",
              "      <button class=\"colab-df-convert\" onclick=\"convertToInteractive('df-c064a620-3a5c-45f1-bacc-92a9b85827f7')\"\n",
              "              title=\"Convert this dataframe to an interactive table.\"\n",
              "              style=\"display:none;\">\n",
              "        \n",
              "  <svg xmlns=\"http://www.w3.org/2000/svg\" height=\"24px\"viewBox=\"0 0 24 24\"\n",
              "       width=\"24px\">\n",
              "    <path d=\"M0 0h24v24H0V0z\" fill=\"none\"/>\n",
              "    <path d=\"M18.56 5.44l.94 2.06.94-2.06 2.06-.94-2.06-.94-.94-2.06-.94 2.06-2.06.94zm-11 1L8.5 8.5l.94-2.06 2.06-.94-2.06-.94L8.5 2.5l-.94 2.06-2.06.94zm10 10l.94 2.06.94-2.06 2.06-.94-2.06-.94-.94-2.06-.94 2.06-2.06.94z\"/><path d=\"M17.41 7.96l-1.37-1.37c-.4-.4-.92-.59-1.43-.59-.52 0-1.04.2-1.43.59L10.3 9.45l-7.72 7.72c-.78.78-.78 2.05 0 2.83L4 21.41c.39.39.9.59 1.41.59.51 0 1.02-.2 1.41-.59l7.78-7.78 2.81-2.81c.8-.78.8-2.07 0-2.86zM5.41 20L4 18.59l7.72-7.72 1.47 1.35L5.41 20z\"/>\n",
              "  </svg>\n",
              "      </button>\n",
              "      \n",
              "  <style>\n",
              "    .colab-df-container {\n",
              "      display:flex;\n",
              "      flex-wrap:wrap;\n",
              "      gap: 12px;\n",
              "    }\n",
              "\n",
              "    .colab-df-convert {\n",
              "      background-color: #E8F0FE;\n",
              "      border: none;\n",
              "      border-radius: 50%;\n",
              "      cursor: pointer;\n",
              "      display: none;\n",
              "      fill: #1967D2;\n",
              "      height: 32px;\n",
              "      padding: 0 0 0 0;\n",
              "      width: 32px;\n",
              "    }\n",
              "\n",
              "    .colab-df-convert:hover {\n",
              "      background-color: #E2EBFA;\n",
              "      box-shadow: 0px 1px 2px rgba(60, 64, 67, 0.3), 0px 1px 3px 1px rgba(60, 64, 67, 0.15);\n",
              "      fill: #174EA6;\n",
              "    }\n",
              "\n",
              "    [theme=dark] .colab-df-convert {\n",
              "      background-color: #3B4455;\n",
              "      fill: #D2E3FC;\n",
              "    }\n",
              "\n",
              "    [theme=dark] .colab-df-convert:hover {\n",
              "      background-color: #434B5C;\n",
              "      box-shadow: 0px 1px 3px 1px rgba(0, 0, 0, 0.15);\n",
              "      filter: drop-shadow(0px 1px 2px rgba(0, 0, 0, 0.3));\n",
              "      fill: #FFFFFF;\n",
              "    }\n",
              "  </style>\n",
              "\n",
              "      <script>\n",
              "        const buttonEl =\n",
              "          document.querySelector('#df-c064a620-3a5c-45f1-bacc-92a9b85827f7 button.colab-df-convert');\n",
              "        buttonEl.style.display =\n",
              "          google.colab.kernel.accessAllowed ? 'block' : 'none';\n",
              "\n",
              "        async function convertToInteractive(key) {\n",
              "          const element = document.querySelector('#df-c064a620-3a5c-45f1-bacc-92a9b85827f7');\n",
              "          const dataTable =\n",
              "            await google.colab.kernel.invokeFunction('convertToInteractive',\n",
              "                                                     [key], {});\n",
              "          if (!dataTable) return;\n",
              "\n",
              "          const docLinkHtml = 'Like what you see? Visit the ' +\n",
              "            '<a target=\"_blank\" href=https://colab.research.google.com/notebooks/data_table.ipynb>data table notebook</a>'\n",
              "            + ' to learn more about interactive tables.';\n",
              "          element.innerHTML = '';\n",
              "          dataTable['output_type'] = 'display_data';\n",
              "          await google.colab.output.renderOutput(dataTable, element);\n",
              "          const docLink = document.createElement('div');\n",
              "          docLink.innerHTML = docLinkHtml;\n",
              "          element.appendChild(docLink);\n",
              "        }\n",
              "      </script>\n",
              "    </div>\n",
              "  </div>\n",
              "  "
            ]
          },
          "metadata": {},
          "execution_count": 16
        }
      ]
    },
    {
      "cell_type": "code",
      "source": [
        "import pandas as pd\n",
        "import seaborn as sns\n",
        "import numpy as np\n",
        "from numpy import sqrt\n",
        "from sklearn.model_selection import train_test_split\n",
        "from sklearn.ensemble import RandomForestRegressor\n",
        "from sklearn.metrics import mean_squared_error, r2_score\n",
        "from sklearn.linear_model import BayesianRidge\n",
        "from sklearn import metrics"
      ],
      "metadata": {
        "id": "Rlxmkmdasz7o"
      },
      "execution_count": 17,
      "outputs": []
    },
    {
      "cell_type": "markdown",
      "source": [
        "##Fingerprint"
      ],
      "metadata": {
        "id": "ViJyCL-cNCty"
      }
    },
    {
      "cell_type": "markdown",
      "source": [
        "R² score tells us how well our model is fitted to the data by comparing it to the average line of the dependent variable. If the score is closer to 1, then it indicates that our model performs well versus if the score is farther from 1, then it indicates that our model does not perform so well. R-squared (R2) is a statistical measure that represents the proportion of the variance for a dependent variable that’s explained by an independent variable or variables in a regression model. Whereas correlation explains the strength of the relationship between an independent and dependent variable, R-squared explains to what extent the variance of one variable explains the variance of the second variable. So, if the R2 of a model is 0.50, then approximately half of the observed variation can be explained by the model’s inputs."
      ],
      "metadata": {
        "id": "tM3cFeiwtC_j"
      }
    },
    {
      "cell_type": "code",
      "source": [
        "df = pd.read_csv('Fingerprints.csv')"
      ],
      "metadata": {
        "id": "uJao1VLstAOb"
      },
      "execution_count": 18,
      "outputs": []
    },
    {
      "cell_type": "code",
      "source": [
        "df = pd.merge(df, df_y1, on=[\"Name\"])"
      ],
      "metadata": {
        "id": "XrsVpKcSFIys"
      },
      "execution_count": 19,
      "outputs": []
    },
    {
      "cell_type": "code",
      "source": [
        "X = df.drop('Name', axis=1)\n",
        "Y = df_y.pIC50\n",
        "Y"
      ],
      "metadata": {
        "colab": {
          "base_uri": "https://localhost:8080/"
        },
        "id": "BTWCeHAvtV2a",
        "outputId": "d2724a87-ff9a-4c2f-dcb4-07d5d1a95239"
      },
      "execution_count": 20,
      "outputs": [
        {
          "output_type": "execute_result",
          "data": {
            "text/plain": [
              "0      7.421361\n",
              "1      4.397940\n",
              "2      4.698970\n",
              "3      4.698970\n",
              "4      5.667562\n",
              "         ...   \n",
              "765    9.000000\n",
              "766    7.829738\n",
              "767    7.065502\n",
              "768    7.657577\n",
              "769    7.078834\n",
              "Name: pIC50, Length: 770, dtype: float64"
            ]
          },
          "metadata": {},
          "execution_count": 20
        }
      ]
    },
    {
      "cell_type": "code",
      "source": [
        "#from sklearn.utils import shuffle\n",
        "#import numpy as np\n",
        "#X, Y = shuffle(X, Y)"
      ],
      "metadata": {
        "id": "Vy0aFYjBXAVN"
      },
      "execution_count": 21,
      "outputs": []
    },
    {
      "cell_type": "code",
      "source": [
        "    \n",
        "# Splitting dataset into training and testing sets\n",
        "X_train, X_test, Y_train, Y_test = train_test_split(X, Y, test_size = 0.2, random_state = 42)\n",
        "   \n",
        "# Creating and training model\n",
        "np.random.seed(100)\n",
        "model = RandomForestRegressor(n_estimators=100,max_depth=6, min_samples_leaf=6,\n",
        "                               min_samples_split=2, random_state= 42)\n",
        "model.fit(X_train, Y_train)\n",
        "   \n",
        "# Model making a prediction on test data\n",
        "prediction = model.predict(X_test)\n",
        "   \n",
        "# Evaluation of r2 score of the model against the test set\n",
        "print(f\"r2 Score Of Test Set : {r2_score(Y_test, prediction)}\")\n"
      ],
      "metadata": {
        "colab": {
          "base_uri": "https://localhost:8080/"
        },
        "id": "xMknjSX5s20e",
        "outputId": "30ce61ca-c226-4598-97c5-737c6fa4d5c7"
      },
      "execution_count": 22,
      "outputs": [
        {
          "output_type": "stream",
          "name": "stdout",
          "text": [
            "r2 Score Of Test Set : 0.6701312023712317\n"
          ]
        }
      ]
    },
    {
      "cell_type": "code",
      "source": [
        "# df = new data from smiles\n",
        "# make a prediction\n",
        "#pIC50 = model.predict([df])\n",
        "# summarize prediction\n",
        "#print('Predicted: %.3f' % pIC50)"
      ],
      "metadata": {
        "id": "Ook3xvgkJdwl"
      },
      "execution_count": 23,
      "outputs": []
    },
    {
      "cell_type": "code",
      "source": [
        "Y_pred = model.predict(X_test)"
      ],
      "metadata": {
        "id": "l1rRYSlFtjrU"
      },
      "execution_count": 24,
      "outputs": []
    },
    {
      "cell_type": "markdown",
      "source": [
        "In statistical modeling and particularly regression analyses, a common way of measuring the quality of the fit of the model is the RMSE (also called Root Mean Square Deviation), given by where yi is the ith observation of y and ŷ the predicted y value given the model. If the predicted responses are very close to the true responses the RMSE will be small. If the predicted and true responses differ substantially — at least for some observations — the RMSE will be large. A value of zero would indicate a perfect fit to the data. Since the RMSE is measured on the same scale, with the same units as y, one can expect 68% of the y values to be within 1 RMSE — given the data is normally distributed. \n",
        "\n",
        "The mean absolute error (MAE) is a quantity used to measure how close predictions are to the outcomes. The mean absolute error is an average of the all absolute errors. The MSE is a measure of the quality of an estimator, it is always positive, and values which are closer to zero are better. https://gzipwtf.com/what-is-mean-absolute-error-in-python/"
      ],
      "metadata": {
        "id": "3tmcNFh9zdA_"
      }
    },
    {
      "cell_type": "code",
      "source": [
        "from sklearn.metrics import mean_squared_error\n",
        "mse = mean_squared_error(Y_test, prediction)\n",
        "rmse = sqrt(mse)\n",
        "mse"
      ],
      "metadata": {
        "colab": {
          "base_uri": "https://localhost:8080/"
        },
        "id": "IKKifrVhzj1r",
        "outputId": "993d090d-c18b-4616-9258-4f083450a4db"
      },
      "execution_count": 25,
      "outputs": [
        {
          "output_type": "execute_result",
          "data": {
            "text/plain": [
              "0.5127506209254287"
            ]
          },
          "metadata": {},
          "execution_count": 25
        }
      ]
    },
    {
      "cell_type": "markdown",
      "source": [
        "Differences among these evaluation metrics Mean Squared Error(MSE) and Root Mean Square Error penalizes the large prediction errors vi-a-vis Mean Absolute Error (MAE). MAE is more robust to data with outliers. The lower value of MAE, MSE, and RMSE implies higher accuracy of a regression model.In statistics, mean absolute error (MAE) is a measure of errors between paired observations expressing the same phenomenon. Examples of Y versus X include comparisons of predicted versus observed, subsequent time versus initial time, and one technique of measurement versus an alternative technique of measurement. https://machinelearningmastery.com/regression-metrics-for-machine-learning/"
      ],
      "metadata": {
        "id": "WyWoCSxA18tp"
      }
    },
    {
      "cell_type": "code",
      "source": [
        "# example of calculate the mean absolute error\n",
        "from sklearn.metrics import mean_absolute_error\n",
        "# calculate errors\n",
        "errors = mean_absolute_error(Y_test, prediction)\n",
        "print(errors)"
      ],
      "metadata": {
        "colab": {
          "base_uri": "https://localhost:8080/"
        },
        "id": "N3uyzAJE1AQb",
        "outputId": "000822aa-9416-44c4-f89c-713b7677ab48"
      },
      "execution_count": 26,
      "outputs": [
        {
          "output_type": "stream",
          "name": "stdout",
          "text": [
            "0.4757267628623454\n"
          ]
        }
      ]
    },
    {
      "cell_type": "code",
      "source": [
        "import seaborn as sns\n",
        "import matplotlib.pyplot as plt\n",
        "\n",
        "sns.set(color_codes=True)\n",
        "sns.set_style(\"white\")\n",
        "\n",
        "ax = sns.regplot(Y_test, Y_pred, scatter_kws={'alpha':0.4})\n",
        "ax.set_xlabel('Experimental pIC50', fontsize='large', fontweight='bold')\n",
        "ax.set_ylabel('Predicted pIC50', fontsize='large', fontweight='bold')\n",
        "ax.set(title='Fingerprints')\n",
        "ax.set_xlim(3, 10)\n",
        "ax.set_ylim(4, 10)\n",
        "ax.figure.set_size_inches(5, 5)\n",
        "plt.show"
      ],
      "metadata": {
        "colab": {
          "base_uri": "https://localhost:8080/",
          "height": 428
        },
        "id": "ym-B3Ezittkj",
        "outputId": "97a0f2c3-c67f-4b0b-a20e-275a11b86bc6"
      },
      "execution_count": 27,
      "outputs": [
        {
          "output_type": "stream",
          "name": "stderr",
          "text": [
            "/usr/local/lib/python3.7/dist-packages/seaborn/_decorators.py:43: FutureWarning: Pass the following variables as keyword args: x, y. From version 0.12, the only valid positional argument will be `data`, and passing other arguments without an explicit keyword will result in an error or misinterpretation.\n",
            "  FutureWarning\n"
          ]
        },
        {
          "output_type": "execute_result",
          "data": {
            "text/plain": [
              "<function matplotlib.pyplot.show>"
            ]
          },
          "metadata": {},
          "execution_count": 27
        },
        {
          "output_type": "display_data",
          "data": {
            "text/plain": [
              "<Figure size 360x360 with 1 Axes>"
            ],
            "image/png": "[encoded data removed]"
          },
          "metadata": {}
        }
      ]
    },
    {
      "cell_type": "code",
      "source": [
        "x_ax = range(len(Y_test))\n",
        "plt.scatter(x_ax, Y_test, s=5, color=\"blue\", label=\"original\")\n",
        "plt.plot(x_ax, prediction, lw=0.8, color=\"red\", label=\"predicted\")\n",
        "plt.title(\"Fingerprint features\")\n",
        "plt.ylabel(\"pIC50\")\n",
        "plt.legend()\n",
        "plt.show() "
      ],
      "metadata": {
        "colab": {
          "base_uri": "https://localhost:8080/",
          "height": 393
        },
        "id": "lceybuL1I7LG",
        "outputId": "e58fab08-3beb-45a5-acea-1db248e415eb"
      },
      "execution_count": 28,
      "outputs": [
        {
          "output_type": "display_data",
          "data": {
            "text/plain": [
              "<Figure size 1152x432 with 1 Axes>"
            ],
            "image/png": "[encoded data removed]"
          },
          "metadata": {}
        }
      ]
    },
    {
      "cell_type": "markdown",
      "source": [
        " Might be possible that there is a problem with pIC50 score. However the test score might contain values that are lower than in the training. Uneven distribution of activity. Toght binding limit. Membrane bound receptor. Biological measures become challenging due to an assumption that the concentration of molecules are higher than the enzyme."
      ],
      "metadata": {
        "id": "t-tRIRUNwa_m"
      }
    },
    {
      "cell_type": "markdown",
      "source": [
        "##2D"
      ],
      "metadata": {
        "id": "vLyDlz6eNJCT"
      }
    },
    {
      "cell_type": "code",
      "source": [
        "df1 = pd.read_csv('2D.csv')"
      ],
      "metadata": {
        "id": "jhGpx5LutvUd"
      },
      "execution_count": 29,
      "outputs": []
    },
    {
      "cell_type": "code",
      "source": [
        "df1 = pd.merge(df1, df_y1, on=[\"Name\"])"
      ],
      "metadata": {
        "id": "aiFyIhOxHGHs"
      },
      "execution_count": 30,
      "outputs": []
    },
    {
      "cell_type": "code",
      "source": [
        "df1 = df1.dropna(axis='columns')"
      ],
      "metadata": {
        "id": "RkaYfhgr6e4N"
      },
      "execution_count": 31,
      "outputs": []
    },
    {
      "cell_type": "code",
      "source": [
        "X1 = df1.drop('Name', axis=1)\n",
        "Y1 = df_y.pIC50\n",
        "X1"
      ],
      "metadata": {
        "colab": {
          "base_uri": "https://localhost:8080/",
          "height": 0
        },
        "id": "O-URhR7g5s8Z",
        "outputId": "4c826ece-558b-404e-c77c-e633ddbf7171"
      },
      "execution_count": 32,
      "outputs": [
        {
          "output_type": "execute_result",
          "data": {
            "text/plain": [
              "     nAcid   ALogP    ALogp2       AMR       apol  naAromAtom  nAromBond  \\\n",
              "0        0 -0.1340  0.017956   46.4096  55.007032          12         13   \n",
              "1        0 -1.0959  1.200997   38.0508  81.506411          29         31   \n",
              "2        0 -2.2119  4.892502   68.1652  89.330548          23         24   \n",
              "3        0 -1.4805  2.191880   73.8025  81.268962          17         17   \n",
              "4        0 -0.7933  0.629325   52.1166  93.020790          29         31   \n",
              "..     ...     ...       ...       ...        ...         ...        ...   \n",
              "765      0  1.0914  1.191154   23.9556  49.341895          18         19   \n",
              "766      0 -1.7768  3.157018   33.2659  55.802239          16         17   \n",
              "767      1 -3.0865  9.526482  122.2218  88.990099           6          6   \n",
              "768      0 -0.7588  0.575777  127.5922  93.766857           6          6   \n",
              "769      1 -1.9118  3.654979  111.7291  82.031720           6          6   \n",
              "\n",
              "     nAtom  nHeavyAtom  nH  ...       AMW     WTPT-1    WTPT-2     WTPT-3  \\\n",
              "0       48          24  24  ...  6.753829  48.801005  2.033375  11.561476   \n",
              "1       67          40  27  ...  8.331118  82.101708  2.052543  32.393034   \n",
              "2       77          41  36  ...  7.172531  85.040789  2.074166  27.431635   \n",
              "3       72          38  34  ...  7.281543  78.114446  2.055643  29.567184   \n",
              "4       75          45  30  ...  8.655574  92.424840  2.053885  30.655471   \n",
              "..     ...         ...  ..  ...       ...        ...       ...        ...   \n",
              "765     38          23  15  ...  9.028008  47.086177  2.047225  14.224156   \n",
              "766     48          25  23  ...  7.024329  50.787007  2.031480  10.576481   \n",
              "767     82          39  43  ...  7.234684  76.514322  1.961906  38.647673   \n",
              "768     88          39  49  ...  6.492376  76.514322  1.961906  31.261151   \n",
              "769     77          37  40  ...  7.120005  72.847846  1.968861  36.280193   \n",
              "\n",
              "        WTPT-4     WTPT-5   WPATH  WPOL  XLogP  Zagreb  \n",
              "0     5.563435   5.998041  1470.0  35.0  5.925   126.0  \n",
              "1     7.542754  18.831507  7240.0  60.0  5.045   210.0  \n",
              "2     8.199105  19.232530  7532.0  62.0  6.362   220.0  \n",
              "3     5.169271  19.601240  6154.0  55.0  5.046   200.0  \n",
              "4     7.573769   9.326881  9800.0  71.0  9.818   246.0  \n",
              "..         ...        ...     ...   ...    ...     ...  \n",
              "765   0.000000   9.195518  1468.0  32.0  4.623   116.0  \n",
              "766   7.584767   2.991715  1688.0  37.0  5.525   128.0  \n",
              "767  23.641209   8.807932  8008.0  44.0  0.216   174.0  \n",
              "768  19.453760   8.807932  8008.0  44.0  3.327   174.0  \n",
              "769  27.131258   5.949860  7392.0  41.0 -0.511   162.0  \n",
              "\n",
              "[770 rows x 1381 columns]"
            ],
            "text/html": [
              "\n",
              "  <div id=\"df-c8352ccc-86a5-4628-bc9d-6fa3e704cf82\">\n",
              "    <div class=\"colab-df-container\">\n",
              "      <div>\n",
              "<style scoped>\n",
              "    .dataframe tbody tr th:only-of-type {\n",
              "        vertical-align: middle;\n",
              "    }\n",
              "\n",
              "    .dataframe tbody tr th {\n",
              "        vertical-align: top;\n",
              "    }\n",
              "\n",
              "    .dataframe thead th {\n",
              "        text-align: right;\n",
              "    }\n",
              "</style>\n",
              "<table border=\"1\" class=\"dataframe\">\n",
              "  <thead>\n",
              "    <tr style=\"text-align: right;\">\n",
              "      <th></th>\n",
              "      <th>nAcid</th>\n",
              "      <th>ALogP</th>\n",
              "      <th>ALogp2</th>\n",
              "      <th>AMR</th>\n",
              "      <th>apol</th>\n",
              "      <th>naAromAtom</th>\n",
              "      <th>nAromBond</th>\n",
              "      <th>nAtom</th>\n",
              "      <th>nHeavyAtom</th>\n",
              "      <th>nH</th>\n",
              "      <th>...</th>\n",
              "      <th>AMW</th>\n",
              "      <th>WTPT-1</th>\n",
              "      <th>WTPT-2</th>\n",
              "      <th>WTPT-3</th>\n",
              "      <th>WTPT-4</th>\n",
              "      <th>WTPT-5</th>\n",
              "      <th>WPATH</th>\n",
              "      <th>WPOL</th>\n",
              "      <th>XLogP</th>\n",
              "      <th>Zagreb</th>\n",
              "    </tr>\n",
              "  </thead>\n",
              "  <tbody>\n",
              "    <tr>\n",
              "      <th>0</th>\n",
              "      <td>0</td>\n",
              "      <td>-0.1340</td>\n",
              "      <td>0.017956</td>\n",
              "      <td>46.4096</td>\n",
              "      <td>55.007032</td>\n",
              "      <td>12</td>\n",
              "      <td>13</td>\n",
              "      <td>48</td>\n",
              "      <td>24</td>\n",
              "      <td>24</td>\n",
              "      <td>...</td>\n",
              "      <td>6.753829</td>\n",
              "      <td>48.801005</td>\n",
              "      <td>2.033375</td>\n",
              "      <td>11.561476</td>\n",
              "      <td>5.563435</td>\n",
              "      <td>5.998041</td>\n",
              "      <td>1470.0</td>\n",
              "      <td>35.0</td>\n",
              "      <td>5.925</td>\n",
              "      <td>126.0</td>\n",
              "    </tr>\n",
              "    <tr>\n",
              "      <th>1</th>\n",
              "      <td>0</td>\n",
              "      <td>-1.0959</td>\n",
              "      <td>1.200997</td>\n",
              "      <td>38.0508</td>\n",
              "      <td>81.506411</td>\n",
              "      <td>29</td>\n",
              "      <td>31</td>\n",
              "      <td>67</td>\n",
              "      <td>40</td>\n",
              "      <td>27</td>\n",
              "      <td>...</td>\n",
              "      <td>8.331118</td>\n",
              "      <td>82.101708</td>\n",
              "      <td>2.052543</td>\n",
              "      <td>32.393034</td>\n",
              "      <td>7.542754</td>\n",
              "      <td>18.831507</td>\n",
              "      <td>7240.0</td>\n",
              "      <td>60.0</td>\n",
              "      <td>5.045</td>\n",
              "      <td>210.0</td>\n",
              "    </tr>\n",
              "    <tr>\n",
              "      <th>2</th>\n",
              "      <td>0</td>\n",
              "      <td>-2.2119</td>\n",
              "      <td>4.892502</td>\n",
              "      <td>68.1652</td>\n",
              "      <td>89.330548</td>\n",
              "      <td>23</td>\n",
              "      <td>24</td>\n",
              "      <td>77</td>\n",
              "      <td>41</td>\n",
              "      <td>36</td>\n",
              "      <td>...</td>\n",
              "      <td>7.172531</td>\n",
              "      <td>85.040789</td>\n",
              "      <td>2.074166</td>\n",
              "      <td>27.431635</td>\n",
              "      <td>8.199105</td>\n",
              "      <td>19.232530</td>\n",
              "      <td>7532.0</td>\n",
              "      <td>62.0</td>\n",
              "      <td>6.362</td>\n",
              "      <td>220.0</td>\n",
              "    </tr>\n",
              "    <tr>\n",
              "      <th>3</th>\n",
              "      <td>0</td>\n",
              "      <td>-1.4805</td>\n",
              "      <td>2.191880</td>\n",
              "      <td>73.8025</td>\n",
              "      <td>81.268962</td>\n",
              "      <td>17</td>\n",
              "      <td>17</td>\n",
              "      <td>72</td>\n",
              "      <td>38</td>\n",
              "      <td>34</td>\n",
              "      <td>...</td>\n",
              "      <td>7.281543</td>\n",
              "      <td>78.114446</td>\n",
              "      <td>2.055643</td>\n",
              "      <td>29.567184</td>\n",
              "      <td>5.169271</td>\n",
              "      <td>19.601240</td>\n",
              "      <td>6154.0</td>\n",
              "      <td>55.0</td>\n",
              "      <td>5.046</td>\n",
              "      <td>200.0</td>\n",
              "    </tr>\n",
              "    <tr>\n",
              "      <th>4</th>\n",
              "      <td>0</td>\n",
              "      <td>-0.7933</td>\n",
              "      <td>0.629325</td>\n",
              "      <td>52.1166</td>\n",
              "      <td>93.020790</td>\n",
              "      <td>29</td>\n",
              "      <td>31</td>\n",
              "      <td>75</td>\n",
              "      <td>45</td>\n",
              "      <td>30</td>\n",
              "      <td>...</td>\n",
              "      <td>8.655574</td>\n",
              "      <td>92.424840</td>\n",
              "      <td>2.053885</td>\n",
              "      <td>30.655471</td>\n",
              "      <td>7.573769</td>\n",
              "      <td>9.326881</td>\n",
              "      <td>9800.0</td>\n",
              "      <td>71.0</td>\n",
              "      <td>9.818</td>\n",
              "      <td>246.0</td>\n",
              "    </tr>\n",
              "    <tr>\n",
              "      <th>...</th>\n",
              "      <td>...</td>\n",
              "      <td>...</td>\n",
              "      <td>...</td>\n",
              "      <td>...</td>\n",
              "      <td>...</td>\n",
              "      <td>...</td>\n",
              "      <td>...</td>\n",
              "      <td>...</td>\n",
              "      <td>...</td>\n",
              "      <td>...</td>\n",
              "      <td>...</td>\n",
              "      <td>...</td>\n",
              "      <td>...</td>\n",
              "      <td>...</td>\n",
              "      <td>...</td>\n",
              "      <td>...</td>\n",
              "      <td>...</td>\n",
              "      <td>...</td>\n",
              "      <td>...</td>\n",
              "      <td>...</td>\n",
              "      <td>...</td>\n",
              "    </tr>\n",
              "    <tr>\n",
              "      <th>765</th>\n",
              "      <td>0</td>\n",
              "      <td>1.0914</td>\n",
              "      <td>1.191154</td>\n",
              "      <td>23.9556</td>\n",
              "      <td>49.341895</td>\n",
              "      <td>18</td>\n",
              "      <td>19</td>\n",
              "      <td>38</td>\n",
              "      <td>23</td>\n",
              "      <td>15</td>\n",
              "      <td>...</td>\n",
              "      <td>9.028008</td>\n",
              "      <td>47.086177</td>\n",
              "      <td>2.047225</td>\n",
              "      <td>14.224156</td>\n",
              "      <td>0.000000</td>\n",
              "      <td>9.195518</td>\n",
              "      <td>1468.0</td>\n",
              "      <td>32.0</td>\n",
              "      <td>4.623</td>\n",
              "      <td>116.0</td>\n",
              "    </tr>\n",
              "    <tr>\n",
              "      <th>766</th>\n",
              "      <td>0</td>\n",
              "      <td>-1.7768</td>\n",
              "      <td>3.157018</td>\n",
              "      <td>33.2659</td>\n",
              "      <td>55.802239</td>\n",
              "      <td>16</td>\n",
              "      <td>17</td>\n",
              "      <td>48</td>\n",
              "      <td>25</td>\n",
              "      <td>23</td>\n",
              "      <td>...</td>\n",
              "      <td>7.024329</td>\n",
              "      <td>50.787007</td>\n",
              "      <td>2.031480</td>\n",
              "      <td>10.576481</td>\n",
              "      <td>7.584767</td>\n",
              "      <td>2.991715</td>\n",
              "      <td>1688.0</td>\n",
              "      <td>37.0</td>\n",
              "      <td>5.525</td>\n",
              "      <td>128.0</td>\n",
              "    </tr>\n",
              "    <tr>\n",
              "      <th>767</th>\n",
              "      <td>1</td>\n",
              "      <td>-3.0865</td>\n",
              "      <td>9.526482</td>\n",
              "      <td>122.2218</td>\n",
              "      <td>88.990099</td>\n",
              "      <td>6</td>\n",
              "      <td>6</td>\n",
              "      <td>82</td>\n",
              "      <td>39</td>\n",
              "      <td>43</td>\n",
              "      <td>...</td>\n",
              "      <td>7.234684</td>\n",
              "      <td>76.514322</td>\n",
              "      <td>1.961906</td>\n",
              "      <td>38.647673</td>\n",
              "      <td>23.641209</td>\n",
              "      <td>8.807932</td>\n",
              "      <td>8008.0</td>\n",
              "      <td>44.0</td>\n",
              "      <td>0.216</td>\n",
              "      <td>174.0</td>\n",
              "    </tr>\n",
              "    <tr>\n",
              "      <th>768</th>\n",
              "      <td>0</td>\n",
              "      <td>-0.7588</td>\n",
              "      <td>0.575777</td>\n",
              "      <td>127.5922</td>\n",
              "      <td>93.766857</td>\n",
              "      <td>6</td>\n",
              "      <td>6</td>\n",
              "      <td>88</td>\n",
              "      <td>39</td>\n",
              "      <td>49</td>\n",
              "      <td>...</td>\n",
              "      <td>6.492376</td>\n",
              "      <td>76.514322</td>\n",
              "      <td>1.961906</td>\n",
              "      <td>31.261151</td>\n",
              "      <td>19.453760</td>\n",
              "      <td>8.807932</td>\n",
              "      <td>8008.0</td>\n",
              "      <td>44.0</td>\n",
              "      <td>3.327</td>\n",
              "      <td>174.0</td>\n",
              "    </tr>\n",
              "    <tr>\n",
              "      <th>769</th>\n",
              "      <td>1</td>\n",
              "      <td>-1.9118</td>\n",
              "      <td>3.654979</td>\n",
              "      <td>111.7291</td>\n",
              "      <td>82.031720</td>\n",
              "      <td>6</td>\n",
              "      <td>6</td>\n",
              "      <td>77</td>\n",
              "      <td>37</td>\n",
              "      <td>40</td>\n",
              "      <td>...</td>\n",
              "      <td>7.120005</td>\n",
              "      <td>72.847846</td>\n",
              "      <td>1.968861</td>\n",
              "      <td>36.280193</td>\n",
              "      <td>27.131258</td>\n",
              "      <td>5.949860</td>\n",
              "      <td>7392.0</td>\n",
              "      <td>41.0</td>\n",
              "      <td>-0.511</td>\n",
              "      <td>162.0</td>\n",
              "    </tr>\n",
              "  </tbody>\n",
              "</table>\n",
              "<p>770 rows × 1381 columns</p>\n",
              "</div>\n",
              "      <button class=\"colab-df-convert\" onclick=\"convertToInteractive('df-c8352ccc-86a5-4628-bc9d-6fa3e704cf82')\"\n",
              "              title=\"Convert this dataframe to an interactive table.\"\n",
              "              style=\"display:none;\">\n",
              "        \n",
              "  <svg xmlns=\"http://www.w3.org/2000/svg\" height=\"24px\"viewBox=\"0 0 24 24\"\n",
              "       width=\"24px\">\n",
              "    <path d=\"M0 0h24v24H0V0z\" fill=\"none\"/>\n",
              "    <path d=\"M18.56 5.44l.94 2.06.94-2.06 2.06-.94-2.06-.94-.94-2.06-.94 2.06-2.06.94zm-11 1L8.5 8.5l.94-2.06 2.06-.94-2.06-.94L8.5 2.5l-.94 2.06-2.06.94zm10 10l.94 2.06.94-2.06 2.06-.94-2.06-.94-.94-2.06-.94 2.06-2.06.94z\"/><path d=\"M17.41 7.96l-1.37-1.37c-.4-.4-.92-.59-1.43-.59-.52 0-1.04.2-1.43.59L10.3 9.45l-7.72 7.72c-.78.78-.78 2.05 0 2.83L4 21.41c.39.39.9.59 1.41.59.51 0 1.02-.2 1.41-.59l7.78-7.78 2.81-2.81c.8-.78.8-2.07 0-2.86zM5.41 20L4 18.59l7.72-7.72 1.47 1.35L5.41 20z\"/>\n",
              "  </svg>\n",
              "      </button>\n",
              "      \n",
              "  <style>\n",
              "    .colab-df-container {\n",
              "      display:flex;\n",
              "      flex-wrap:wrap;\n",
              "      gap: 12px;\n",
              "    }\n",
              "\n",
              "    .colab-df-convert {\n",
              "      background-color: #E8F0FE;\n",
              "      border: none;\n",
              "      border-radius: 50%;\n",
              "      cursor: pointer;\n",
              "      display: none;\n",
              "      fill: #1967D2;\n",
              "      height: 32px;\n",
              "      padding: 0 0 0 0;\n",
              "      width: 32px;\n",
              "    }\n",
              "\n",
              "    .colab-df-convert:hover {\n",
              "      background-color: #E2EBFA;\n",
              "      box-shadow: 0px 1px 2px rgba(60, 64, 67, 0.3), 0px 1px 3px 1px rgba(60, 64, 67, 0.15);\n",
              "      fill: #174EA6;\n",
              "    }\n",
              "\n",
              "    [theme=dark] .colab-df-convert {\n",
              "      background-color: #3B4455;\n",
              "      fill: #D2E3FC;\n",
              "    }\n",
              "\n",
              "    [theme=dark] .colab-df-convert:hover {\n",
              "      background-color: #434B5C;\n",
              "      box-shadow: 0px 1px 3px 1px rgba(0, 0, 0, 0.15);\n",
              "      filter: drop-shadow(0px 1px 2px rgba(0, 0, 0, 0.3));\n",
              "      fill: #FFFFFF;\n",
              "    }\n",
              "  </style>\n",
              "\n",
              "      <script>\n",
              "        const buttonEl =\n",
              "          document.querySelector('#df-c8352ccc-86a5-4628-bc9d-6fa3e704cf82 button.colab-df-convert');\n",
              "        buttonEl.style.display =\n",
              "          google.colab.kernel.accessAllowed ? 'block' : 'none';\n",
              "\n",
              "        async function convertToInteractive(key) {\n",
              "          const element = document.querySelector('#df-c8352ccc-86a5-4628-bc9d-6fa3e704cf82');\n",
              "          const dataTable =\n",
              "            await google.colab.kernel.invokeFunction('convertToInteractive',\n",
              "                                                     [key], {});\n",
              "          if (!dataTable) return;\n",
              "\n",
              "          const docLinkHtml = 'Like what you see? Visit the ' +\n",
              "            '<a target=\"_blank\" href=https://colab.research.google.com/notebooks/data_table.ipynb>data table notebook</a>'\n",
              "            + ' to learn more about interactive tables.';\n",
              "          element.innerHTML = '';\n",
              "          dataTable['output_type'] = 'display_data';\n",
              "          await google.colab.output.renderOutput(dataTable, element);\n",
              "          const docLink = document.createElement('div');\n",
              "          docLink.innerHTML = docLinkHtml;\n",
              "          element.appendChild(docLink);\n",
              "        }\n",
              "      </script>\n",
              "    </div>\n",
              "  </div>\n",
              "  "
            ]
          },
          "metadata": {},
          "execution_count": 32
        }
      ]
    },
    {
      "cell_type": "code",
      "source": [
        "from sklearn.feature_selection import VarianceThreshold\n",
        "selection = VarianceThreshold(threshold=(.8 * (1 - .8)))    \n",
        "X1 = selection.fit_transform(X1) #Remove low variance features"
      ],
      "metadata": {
        "id": "xRbm92lM5y-A"
      },
      "execution_count": 33,
      "outputs": []
    },
    {
      "cell_type": "code",
      "source": [
        "    \n",
        "# Splitting dataset into training and testing sets\n",
        "X1_train, X1_test, Y1_train, Y1_test = train_test_split(X1, Y1, test_size = 0.2, random_state = 42)\n",
        "   \n",
        "# Creating and training model\n",
        "np.random.seed(100)\n",
        "model1 = RandomForestRegressor(n_estimators=100)\n",
        "model1.fit(X1_train, Y1_train)\n",
        "   \n",
        "# Model making a prediction on test data\n",
        "prediction1 = model1.predict(X1_test)\n",
        "   \n",
        "# Evaluation of r2 score of the model against the test set\n",
        "print(f\"r2 Score Of Test Set : {r2_score(Y1_test, prediction1)}\")"
      ],
      "metadata": {
        "colab": {
          "base_uri": "https://localhost:8080/"
        },
        "id": "sHBzS6hz52jd",
        "outputId": "9d0761c9-3a12-4aca-8ba5-5ffed8edc9ff"
      },
      "execution_count": 34,
      "outputs": [
        {
          "output_type": "stream",
          "name": "stdout",
          "text": [
            "r2 Score Of Test Set : 0.6438531557140716\n"
          ]
        }
      ]
    },
    {
      "cell_type": "markdown",
      "source": [
        "Overtraining of the model when there is a big change in the r2 score between the test and training set. Overfitting of data - diagnosis of the problem. "
      ],
      "metadata": {
        "id": "nqkfXZrnxWhh"
      }
    },
    {
      "cell_type": "code",
      "source": [
        "from sklearn.metrics import r2_score\n",
        "r2_score(Y1_test, prediction1)"
      ],
      "metadata": {
        "colab": {
          "base_uri": "https://localhost:8080/"
        },
        "id": "qtNNteMl-NWV",
        "outputId": "def3319b-49f1-4e7a-f450-c51e82c96665"
      },
      "execution_count": 35,
      "outputs": [
        {
          "output_type": "execute_result",
          "data": {
            "text/plain": [
              "0.6438531557140716"
            ]
          },
          "metadata": {},
          "execution_count": 35
        }
      ]
    },
    {
      "cell_type": "code",
      "source": [
        "from sklearn.metrics import mean_squared_error\n",
        "mse = mean_squared_error(Y_test, prediction1)\n",
        "#rmse = sqrt(mse)\n",
        "mse"
      ],
      "metadata": {
        "colab": {
          "base_uri": "https://localhost:8080/"
        },
        "id": "5m3eBJju6Kvr",
        "outputId": "fb5ae11f-c1cd-4cab-bcda-8ba53edb8049"
      },
      "execution_count": 36,
      "outputs": [
        {
          "output_type": "execute_result",
          "data": {
            "text/plain": [
              "0.5535974207349997"
            ]
          },
          "metadata": {},
          "execution_count": 36
        }
      ]
    },
    {
      "cell_type": "code",
      "source": [
        "# example of calculate the mean absolute error\n",
        "from sklearn.metrics import mean_absolute_error\n",
        "# calculate errors\n",
        "errors = mean_absolute_error(Y_test, prediction1)\n",
        "print(errors)"
      ],
      "metadata": {
        "colab": {
          "base_uri": "https://localhost:8080/"
        },
        "id": "Vo3CQyTo6y-B",
        "outputId": "591a10ad-7355-411b-c84f-78b7e6ab8c33"
      },
      "execution_count": 37,
      "outputs": [
        {
          "output_type": "stream",
          "name": "stdout",
          "text": [
            "0.5081610706922891\n"
          ]
        }
      ]
    },
    {
      "cell_type": "code",
      "source": [
        "import seaborn as sns\n",
        "import matplotlib.pyplot as plt\n",
        "\n",
        "sns.set(color_codes=True)\n",
        "sns.set_style(\"white\")\n",
        "\n",
        "ax = sns.regplot(Y_test, prediction1, scatter_kws={'alpha':0.4})\n",
        "ax.set_xlabel('Experimental pIC50', fontsize='large', fontweight='bold')\n",
        "ax.set_ylabel('Predicted pIC50', fontsize='large', fontweight='bold')\n",
        "ax.set(title='1D+2D')\n",
        "ax.set_xlim(3, 10)\n",
        "ax.set_ylim(4, 10)\n",
        "ax.figure.set_size_inches(5, 5)\n",
        "plt.show"
      ],
      "metadata": {
        "colab": {
          "base_uri": "https://localhost:8080/",
          "height": 0
        },
        "id": "9yS9v52i7tyr",
        "outputId": "c8042690-69e1-475e-ba2b-f7fa3fddc0a6"
      },
      "execution_count": 38,
      "outputs": [
        {
          "output_type": "stream",
          "name": "stderr",
          "text": [
            "/usr/local/lib/python3.7/dist-packages/seaborn/_decorators.py:43: FutureWarning: Pass the following variables as keyword args: x, y. From version 0.12, the only valid positional argument will be `data`, and passing other arguments without an explicit keyword will result in an error or misinterpretation.\n",
            "  FutureWarning\n"
          ]
        },
        {
          "output_type": "execute_result",
          "data": {
            "text/plain": [
              "<function matplotlib.pyplot.show>"
            ]
          },
          "metadata": {},
          "execution_count": 38
        },
        {
          "output_type": "display_data",
          "data": {
            "text/plain": [
              "<Figure size 360x360 with 1 Axes>"
            ],
            "image/png": "[encoded data removed]"
          },
          "metadata": {}
        }
      ]
    },
    {
      "cell_type": "code",
      "source": [
        "x_ax = range(len(Y_test))\n",
        "plt.scatter(x_ax, Y_test, s=5, color=\"blue\", label=\"original\")\n",
        "plt.plot(x_ax, prediction1, lw=0.8, color=\"red\", label=\"predicted\")\n",
        "plt.title(\"2D\")\n",
        "plt.ylabel(\"pIC50\")\n",
        "plt.legend()\n",
        "plt.show() "
      ],
      "metadata": {
        "colab": {
          "base_uri": "https://localhost:8080/",
          "height": 0
        },
        "id": "GnBYJMJ7cu8T",
        "outputId": "f514b797-61a6-466e-d2a5-b9c8b88defb0"
      },
      "execution_count": 39,
      "outputs": [
        {
          "output_type": "display_data",
          "data": {
            "text/plain": [
              "<Figure size 1152x432 with 1 Axes>"
            ],
            "image/png": "[encoded data removed]"
          },
          "metadata": {}
        }
      ]
    },
    {
      "cell_type": "markdown",
      "source": [
        "##3D"
      ],
      "metadata": {
        "id": "QIaMedqKNME_"
      }
    },
    {
      "cell_type": "code",
      "source": [
        "df2 = pd.read_csv('3D.csv')"
      ],
      "metadata": {
        "id": "xlb8fy5368kp"
      },
      "execution_count": 40,
      "outputs": []
    },
    {
      "cell_type": "code",
      "source": [
        "df2 = pd.merge(df2, df_y1, on=[\"Name\"])"
      ],
      "metadata": {
        "id": "D8JwTtIDHTNL"
      },
      "execution_count": 41,
      "outputs": []
    },
    {
      "cell_type": "code",
      "source": [
        "df2"
      ],
      "metadata": {
        "colab": {
          "base_uri": "https://localhost:8080/",
          "height": 424
        },
        "id": "pI-hXivIiXmU",
        "outputId": "c9fe3547-214f-41d1-8d01-100e0dc537d4"
      },
      "execution_count": 42,
      "outputs": [
        {
          "output_type": "execute_result",
          "data": {
            "text/plain": [
              "              Name     TDB1u     TDB2u     TDB3u     TDB4u     TDB5u  \\\n",
              "0     CHEMBL368457  1.263087  2.213772  3.067684  3.795635  4.835887   \n",
              "1     CHEMBL305558  1.281502  2.271699  3.105024  3.948396  4.837981   \n",
              "2    CHEMBL4095361  1.272791  2.228076  3.047907  3.861145  4.750282   \n",
              "3    CHEMBL4087670  1.275247  2.225649  3.031699  3.834690  4.709406   \n",
              "4    CHEMBL1684581  1.305534  2.302159  3.126679  3.957892  4.892466   \n",
              "..             ...       ...       ...       ...       ...       ...   \n",
              "765  CHEMBL4465173  1.293954  2.274893  3.115294  3.981363  5.002704   \n",
              "766   CHEMBL388177  1.255809  2.230321  3.036714  3.816633  4.721168   \n",
              "767  CHEMBL4475573  1.263234  2.194343  2.956736  3.746233  4.845544   \n",
              "768  CHEMBL4542960  1.249471  2.165005  2.946639  3.682748  4.766693   \n",
              "769  CHEMBL4545079  1.256070  2.180184  2.931949  3.741270  4.798816   \n",
              "\n",
              "        TDB6u     TDB7u     TDB8u     TDB9u  ...       P1s       P2s  \\\n",
              "0    5.862947  6.562342  7.745256  8.650767  ...  0.840189  0.135543   \n",
              "1    5.801962  6.639571  7.545545  8.532861  ...  0.863471  0.107429   \n",
              "2    5.546655  6.397271  7.171556  7.710522  ...  0.697043  0.199940   \n",
              "3    5.525507  6.389674  7.204710  7.814361  ...  0.885563  0.092530   \n",
              "4    5.744646  6.568685  7.324457  8.058796  ...  0.812606  0.106545   \n",
              "..        ...       ...       ...       ...  ...       ...       ...   \n",
              "765  5.902476  6.987887  7.867927  8.795647  ...  0.854325  0.076205   \n",
              "766  5.527827  6.134158  6.766008  7.258394  ...  0.661971  0.215487   \n",
              "767  5.782048  6.740555  7.695721  8.565649  ...  0.773830  0.200030   \n",
              "768  5.730793  6.645514  7.649009  8.577870  ...  0.782789  0.190521   \n",
              "769  5.691051  6.582207  7.370550  8.165516  ...  0.924635  0.039728   \n",
              "\n",
              "          E1s       E2s       E3s         Ts          As           Vs  \\\n",
              "0    0.633989  0.335856  0.234206  26.442340   96.181953   173.720274   \n",
              "1    0.531981  0.436635  0.433203  52.473404  333.208877   775.688308   \n",
              "2    0.664555  0.401713  0.446637  33.048866  253.146736   804.441768   \n",
              "3    0.582566  0.354198  0.419757  43.745290  197.810300   391.828006   \n",
              "4    0.575021  0.523626  0.401330  49.307849  391.169069  1279.615826   \n",
              "..        ...       ...       ...        ...         ...          ...   \n",
              "765  0.568053  0.421117  0.408899  23.762793   73.264902   157.715173   \n",
              "766  0.518928  0.398162  0.375722  17.409774   75.827005   185.477639   \n",
              "767  0.680893  0.542107  0.381504  63.854530  734.933217  1852.223463   \n",
              "768  0.667738  0.530499  0.365604  67.766071  804.173380  2110.665999   \n",
              "769  0.590047  0.423514  0.416184  70.591577  354.309996   885.404330   \n",
              "\n",
              "           Ks        Ds  \n",
              "0    0.760284  1.204051  \n",
              "1    0.795207  1.401819  \n",
              "2    0.545565  1.512906  \n",
              "3    0.828345  1.356521  \n",
              "4    0.718910  1.499977  \n",
              "..        ...       ...  \n",
              "765  0.781487  1.398069  \n",
              "766  0.492957  1.292812  \n",
              "767  0.660746  1.604505  \n",
              "768  0.674183  1.563841  \n",
              "769  0.886952  1.429745  \n",
              "\n",
              "[770 rows x 432 columns]"
            ],
            "text/html": [
              "\n",
              "  <div id=\"df-5f3fcce4-fcc7-499d-a915-65dab27d159c\">\n",
              "    <div class=\"colab-df-container\">\n",
              "      <div>\n",
              "<style scoped>\n",
              "    .dataframe tbody tr th:only-of-type {\n",
              "        vertical-align: middle;\n",
              "    }\n",
              "\n",
              "    .dataframe tbody tr th {\n",
              "        vertical-align: top;\n",
              "    }\n",
              "\n",
              "    .dataframe thead th {\n",
              "        text-align: right;\n",
              "    }\n",
              "</style>\n",
              "<table border=\"1\" class=\"dataframe\">\n",
              "  <thead>\n",
              "    <tr style=\"text-align: right;\">\n",
              "      <th></th>\n",
              "      <th>Name</th>\n",
              "      <th>TDB1u</th>\n",
              "      <th>TDB2u</th>\n",
              "      <th>TDB3u</th>\n",
              "      <th>TDB4u</th>\n",
              "      <th>TDB5u</th>\n",
              "      <th>TDB6u</th>\n",
              "      <th>TDB7u</th>\n",
              "      <th>TDB8u</th>\n",
              "      <th>TDB9u</th>\n",
              "      <th>...</th>\n",
              "      <th>P1s</th>\n",
              "      <th>P2s</th>\n",
              "      <th>E1s</th>\n",
              "      <th>E2s</th>\n",
              "      <th>E3s</th>\n",
              "      <th>Ts</th>\n",
              "      <th>As</th>\n",
              "      <th>Vs</th>\n",
              "      <th>Ks</th>\n",
              "      <th>Ds</th>\n",
              "    </tr>\n",
              "  </thead>\n",
              "  <tbody>\n",
              "    <tr>\n",
              "      <th>0</th>\n",
              "      <td>CHEMBL368457</td>\n",
              "      <td>1.263087</td>\n",
              "      <td>2.213772</td>\n",
              "      <td>3.067684</td>\n",
              "      <td>3.795635</td>\n",
              "      <td>4.835887</td>\n",
              "      <td>5.862947</td>\n",
              "      <td>6.562342</td>\n",
              "      <td>7.745256</td>\n",
              "      <td>8.650767</td>\n",
              "      <td>...</td>\n",
              "      <td>0.840189</td>\n",
              "      <td>0.135543</td>\n",
              "      <td>0.633989</td>\n",
              "      <td>0.335856</td>\n",
              "      <td>0.234206</td>\n",
              "      <td>26.442340</td>\n",
              "      <td>96.181953</td>\n",
              "      <td>173.720274</td>\n",
              "      <td>0.760284</td>\n",
              "      <td>1.204051</td>\n",
              "    </tr>\n",
              "    <tr>\n",
              "      <th>1</th>\n",
              "      <td>CHEMBL305558</td>\n",
              "      <td>1.281502</td>\n",
              "      <td>2.271699</td>\n",
              "      <td>3.105024</td>\n",
              "      <td>3.948396</td>\n",
              "      <td>4.837981</td>\n",
              "      <td>5.801962</td>\n",
              "      <td>6.639571</td>\n",
              "      <td>7.545545</td>\n",
              "      <td>8.532861</td>\n",
              "      <td>...</td>\n",
              "      <td>0.863471</td>\n",
              "      <td>0.107429</td>\n",
              "      <td>0.531981</td>\n",
              "      <td>0.436635</td>\n",
              "      <td>0.433203</td>\n",
              "      <td>52.473404</td>\n",
              "      <td>333.208877</td>\n",
              "      <td>775.688308</td>\n",
              "      <td>0.795207</td>\n",
              "      <td>1.401819</td>\n",
              "    </tr>\n",
              "    <tr>\n",
              "      <th>2</th>\n",
              "      <td>CHEMBL4095361</td>\n",
              "      <td>1.272791</td>\n",
              "      <td>2.228076</td>\n",
              "      <td>3.047907</td>\n",
              "      <td>3.861145</td>\n",
              "      <td>4.750282</td>\n",
              "      <td>5.546655</td>\n",
              "      <td>6.397271</td>\n",
              "      <td>7.171556</td>\n",
              "      <td>7.710522</td>\n",
              "      <td>...</td>\n",
              "      <td>0.697043</td>\n",
              "      <td>0.199940</td>\n",
              "      <td>0.664555</td>\n",
              "      <td>0.401713</td>\n",
              "      <td>0.446637</td>\n",
              "      <td>33.048866</td>\n",
              "      <td>253.146736</td>\n",
              "      <td>804.441768</td>\n",
              "      <td>0.545565</td>\n",
              "      <td>1.512906</td>\n",
              "    </tr>\n",
              "    <tr>\n",
              "      <th>3</th>\n",
              "      <td>CHEMBL4087670</td>\n",
              "      <td>1.275247</td>\n",
              "      <td>2.225649</td>\n",
              "      <td>3.031699</td>\n",
              "      <td>3.834690</td>\n",
              "      <td>4.709406</td>\n",
              "      <td>5.525507</td>\n",
              "      <td>6.389674</td>\n",
              "      <td>7.204710</td>\n",
              "      <td>7.814361</td>\n",
              "      <td>...</td>\n",
              "      <td>0.885563</td>\n",
              "      <td>0.092530</td>\n",
              "      <td>0.582566</td>\n",
              "      <td>0.354198</td>\n",
              "      <td>0.419757</td>\n",
              "      <td>43.745290</td>\n",
              "      <td>197.810300</td>\n",
              "      <td>391.828006</td>\n",
              "      <td>0.828345</td>\n",
              "      <td>1.356521</td>\n",
              "    </tr>\n",
              "    <tr>\n",
              "      <th>4</th>\n",
              "      <td>CHEMBL1684581</td>\n",
              "      <td>1.305534</td>\n",
              "      <td>2.302159</td>\n",
              "      <td>3.126679</td>\n",
              "      <td>3.957892</td>\n",
              "      <td>4.892466</td>\n",
              "      <td>5.744646</td>\n",
              "      <td>6.568685</td>\n",
              "      <td>7.324457</td>\n",
              "      <td>8.058796</td>\n",
              "      <td>...</td>\n",
              "      <td>0.812606</td>\n",
              "      <td>0.106545</td>\n",
              "      <td>0.575021</td>\n",
              "      <td>0.523626</td>\n",
              "      <td>0.401330</td>\n",
              "      <td>49.307849</td>\n",
              "      <td>391.169069</td>\n",
              "      <td>1279.615826</td>\n",
              "      <td>0.718910</td>\n",
              "      <td>1.499977</td>\n",
              "    </tr>\n",
              "    <tr>\n",
              "      <th>...</th>\n",
              "      <td>...</td>\n",
              "      <td>...</td>\n",
              "      <td>...</td>\n",
              "      <td>...</td>\n",
              "      <td>...</td>\n",
              "      <td>...</td>\n",
              "      <td>...</td>\n",
              "      <td>...</td>\n",
              "      <td>...</td>\n",
              "      <td>...</td>\n",
              "      <td>...</td>\n",
              "      <td>...</td>\n",
              "      <td>...</td>\n",
              "      <td>...</td>\n",
              "      <td>...</td>\n",
              "      <td>...</td>\n",
              "      <td>...</td>\n",
              "      <td>...</td>\n",
              "      <td>...</td>\n",
              "      <td>...</td>\n",
              "      <td>...</td>\n",
              "    </tr>\n",
              "    <tr>\n",
              "      <th>765</th>\n",
              "      <td>CHEMBL4465173</td>\n",
              "      <td>1.293954</td>\n",
              "      <td>2.274893</td>\n",
              "      <td>3.115294</td>\n",
              "      <td>3.981363</td>\n",
              "      <td>5.002704</td>\n",
              "      <td>5.902476</td>\n",
              "      <td>6.987887</td>\n",
              "      <td>7.867927</td>\n",
              "      <td>8.795647</td>\n",
              "      <td>...</td>\n",
              "      <td>0.854325</td>\n",
              "      <td>0.076205</td>\n",
              "      <td>0.568053</td>\n",
              "      <td>0.421117</td>\n",
              "      <td>0.408899</td>\n",
              "      <td>23.762793</td>\n",
              "      <td>73.264902</td>\n",
              "      <td>157.715173</td>\n",
              "      <td>0.781487</td>\n",
              "      <td>1.398069</td>\n",
              "    </tr>\n",
              "    <tr>\n",
              "      <th>766</th>\n",
              "      <td>CHEMBL388177</td>\n",
              "      <td>1.255809</td>\n",
              "      <td>2.230321</td>\n",
              "      <td>3.036714</td>\n",
              "      <td>3.816633</td>\n",
              "      <td>4.721168</td>\n",
              "      <td>5.527827</td>\n",
              "      <td>6.134158</td>\n",
              "      <td>6.766008</td>\n",
              "      <td>7.258394</td>\n",
              "      <td>...</td>\n",
              "      <td>0.661971</td>\n",
              "      <td>0.215487</td>\n",
              "      <td>0.518928</td>\n",
              "      <td>0.398162</td>\n",
              "      <td>0.375722</td>\n",
              "      <td>17.409774</td>\n",
              "      <td>75.827005</td>\n",
              "      <td>185.477639</td>\n",
              "      <td>0.492957</td>\n",
              "      <td>1.292812</td>\n",
              "    </tr>\n",
              "    <tr>\n",
              "      <th>767</th>\n",
              "      <td>CHEMBL4475573</td>\n",
              "      <td>1.263234</td>\n",
              "      <td>2.194343</td>\n",
              "      <td>2.956736</td>\n",
              "      <td>3.746233</td>\n",
              "      <td>4.845544</td>\n",
              "      <td>5.782048</td>\n",
              "      <td>6.740555</td>\n",
              "      <td>7.695721</td>\n",
              "      <td>8.565649</td>\n",
              "      <td>...</td>\n",
              "      <td>0.773830</td>\n",
              "      <td>0.200030</td>\n",
              "      <td>0.680893</td>\n",
              "      <td>0.542107</td>\n",
              "      <td>0.381504</td>\n",
              "      <td>63.854530</td>\n",
              "      <td>734.933217</td>\n",
              "      <td>1852.223463</td>\n",
              "      <td>0.660746</td>\n",
              "      <td>1.604505</td>\n",
              "    </tr>\n",
              "    <tr>\n",
              "      <th>768</th>\n",
              "      <td>CHEMBL4542960</td>\n",
              "      <td>1.249471</td>\n",
              "      <td>2.165005</td>\n",
              "      <td>2.946639</td>\n",
              "      <td>3.682748</td>\n",
              "      <td>4.766693</td>\n",
              "      <td>5.730793</td>\n",
              "      <td>6.645514</td>\n",
              "      <td>7.649009</td>\n",
              "      <td>8.577870</td>\n",
              "      <td>...</td>\n",
              "      <td>0.782789</td>\n",
              "      <td>0.190521</td>\n",
              "      <td>0.667738</td>\n",
              "      <td>0.530499</td>\n",
              "      <td>0.365604</td>\n",
              "      <td>67.766071</td>\n",
              "      <td>804.173380</td>\n",
              "      <td>2110.665999</td>\n",
              "      <td>0.674183</td>\n",
              "      <td>1.563841</td>\n",
              "    </tr>\n",
              "    <tr>\n",
              "      <th>769</th>\n",
              "      <td>CHEMBL4545079</td>\n",
              "      <td>1.256070</td>\n",
              "      <td>2.180184</td>\n",
              "      <td>2.931949</td>\n",
              "      <td>3.741270</td>\n",
              "      <td>4.798816</td>\n",
              "      <td>5.691051</td>\n",
              "      <td>6.582207</td>\n",
              "      <td>7.370550</td>\n",
              "      <td>8.165516</td>\n",
              "      <td>...</td>\n",
              "      <td>0.924635</td>\n",
              "      <td>0.039728</td>\n",
              "      <td>0.590047</td>\n",
              "      <td>0.423514</td>\n",
              "      <td>0.416184</td>\n",
              "      <td>70.591577</td>\n",
              "      <td>354.309996</td>\n",
              "      <td>885.404330</td>\n",
              "      <td>0.886952</td>\n",
              "      <td>1.429745</td>\n",
              "    </tr>\n",
              "  </tbody>\n",
              "</table>\n",
              "<p>770 rows × 432 columns</p>\n",
              "</div>\n",
              "      <button class=\"colab-df-convert\" onclick=\"convertToInteractive('df-5f3fcce4-fcc7-499d-a915-65dab27d159c')\"\n",
              "              title=\"Convert this dataframe to an interactive table.\"\n",
              "              style=\"display:none;\">\n",
              "        \n",
              "  <svg xmlns=\"http://www.w3.org/2000/svg\" height=\"24px\"viewBox=\"0 0 24 24\"\n",
              "       width=\"24px\">\n",
              "    <path d=\"M0 0h24v24H0V0z\" fill=\"none\"/>\n",
              "    <path d=\"M18.56 5.44l.94 2.06.94-2.06 2.06-.94-2.06-.94-.94-2.06-.94 2.06-2.06.94zm-11 1L8.5 8.5l.94-2.06 2.06-.94-2.06-.94L8.5 2.5l-.94 2.06-2.06.94zm10 10l.94 2.06.94-2.06 2.06-.94-2.06-.94-.94-2.06-.94 2.06-2.06.94z\"/><path d=\"M17.41 7.96l-1.37-1.37c-.4-.4-.92-.59-1.43-.59-.52 0-1.04.2-1.43.59L10.3 9.45l-7.72 7.72c-.78.78-.78 2.05 0 2.83L4 21.41c.39.39.9.59 1.41.59.51 0 1.02-.2 1.41-.59l7.78-7.78 2.81-2.81c.8-.78.8-2.07 0-2.86zM5.41 20L4 18.59l7.72-7.72 1.47 1.35L5.41 20z\"/>\n",
              "  </svg>\n",
              "      </button>\n",
              "      \n",
              "  <style>\n",
              "    .colab-df-container {\n",
              "      display:flex;\n",
              "      flex-wrap:wrap;\n",
              "      gap: 12px;\n",
              "    }\n",
              "\n",
              "    .colab-df-convert {\n",
              "      background-color: #E8F0FE;\n",
              "      border: none;\n",
              "      border-radius: 50%;\n",
              "      cursor: pointer;\n",
              "      display: none;\n",
              "      fill: #1967D2;\n",
              "      height: 32px;\n",
              "      padding: 0 0 0 0;\n",
              "      width: 32px;\n",
              "    }\n",
              "\n",
              "    .colab-df-convert:hover {\n",
              "      background-color: #E2EBFA;\n",
              "      box-shadow: 0px 1px 2px rgba(60, 64, 67, 0.3), 0px 1px 3px 1px rgba(60, 64, 67, 0.15);\n",
              "      fill: #174EA6;\n",
              "    }\n",
              "\n",
              "    [theme=dark] .colab-df-convert {\n",
              "      background-color: #3B4455;\n",
              "      fill: #D2E3FC;\n",
              "    }\n",
              "\n",
              "    [theme=dark] .colab-df-convert:hover {\n",
              "      background-color: #434B5C;\n",
              "      box-shadow: 0px 1px 3px 1px rgba(0, 0, 0, 0.15);\n",
              "      filter: drop-shadow(0px 1px 2px rgba(0, 0, 0, 0.3));\n",
              "      fill: #FFFFFF;\n",
              "    }\n",
              "  </style>\n",
              "\n",
              "      <script>\n",
              "        const buttonEl =\n",
              "          document.querySelector('#df-5f3fcce4-fcc7-499d-a915-65dab27d159c button.colab-df-convert');\n",
              "        buttonEl.style.display =\n",
              "          google.colab.kernel.accessAllowed ? 'block' : 'none';\n",
              "\n",
              "        async function convertToInteractive(key) {\n",
              "          const element = document.querySelector('#df-5f3fcce4-fcc7-499d-a915-65dab27d159c');\n",
              "          const dataTable =\n",
              "            await google.colab.kernel.invokeFunction('convertToInteractive',\n",
              "                                                     [key], {});\n",
              "          if (!dataTable) return;\n",
              "\n",
              "          const docLinkHtml = 'Like what you see? Visit the ' +\n",
              "            '<a target=\"_blank\" href=https://colab.research.google.com/notebooks/data_table.ipynb>data table notebook</a>'\n",
              "            + ' to learn more about interactive tables.';\n",
              "          element.innerHTML = '';\n",
              "          dataTable['output_type'] = 'display_data';\n",
              "          await google.colab.output.renderOutput(dataTable, element);\n",
              "          const docLink = document.createElement('div');\n",
              "          docLink.innerHTML = docLinkHtml;\n",
              "          element.appendChild(docLink);\n",
              "        }\n",
              "      </script>\n",
              "    </div>\n",
              "  </div>\n",
              "  "
            ]
          },
          "metadata": {},
          "execution_count": 42
        }
      ]
    },
    {
      "cell_type": "code",
      "source": [
        "X2 = df2.drop('Name', axis=1)\n",
        "Y2 = df_y.pIC50\n",
        "X2"
      ],
      "metadata": {
        "colab": {
          "base_uri": "https://localhost:8080/",
          "height": 424
        },
        "id": "71gnpP9J6_LA",
        "outputId": "567e6bc5-780c-4739-8078-4a46616b254e"
      },
      "execution_count": 43,
      "outputs": [
        {
          "output_type": "execute_result",
          "data": {
            "text/plain": [
              "        TDB1u     TDB2u     TDB3u     TDB4u     TDB5u     TDB6u     TDB7u  \\\n",
              "0    1.263087  2.213772  3.067684  3.795635  4.835887  5.862947  6.562342   \n",
              "1    1.281502  2.271699  3.105024  3.948396  4.837981  5.801962  6.639571   \n",
              "2    1.272791  2.228076  3.047907  3.861145  4.750282  5.546655  6.397271   \n",
              "3    1.275247  2.225649  3.031699  3.834690  4.709406  5.525507  6.389674   \n",
              "4    1.305534  2.302159  3.126679  3.957892  4.892466  5.744646  6.568685   \n",
              "..        ...       ...       ...       ...       ...       ...       ...   \n",
              "765  1.293954  2.274893  3.115294  3.981363  5.002704  5.902476  6.987887   \n",
              "766  1.255809  2.230321  3.036714  3.816633  4.721168  5.527827  6.134158   \n",
              "767  1.263234  2.194343  2.956736  3.746233  4.845544  5.782048  6.740555   \n",
              "768  1.249471  2.165005  2.946639  3.682748  4.766693  5.730793  6.645514   \n",
              "769  1.256070  2.180184  2.931949  3.741270  4.798816  5.691051  6.582207   \n",
              "\n",
              "        TDB8u     TDB9u    TDB10u  ...       P1s       P2s       E1s  \\\n",
              "0    7.745256  8.650767  9.775657  ...  0.840189  0.135543  0.633989   \n",
              "1    7.545545  8.532861  9.297230  ...  0.863471  0.107429  0.531981   \n",
              "2    7.171556  7.710522  8.211494  ...  0.697043  0.199940  0.664555   \n",
              "3    7.204710  7.814361  8.515878  ...  0.885563  0.092530  0.582566   \n",
              "4    7.324457  8.058796  8.645912  ...  0.812606  0.106545  0.575021   \n",
              "..        ...       ...       ...  ...       ...       ...       ...   \n",
              "765  7.867927  8.795647  9.880930  ...  0.854325  0.076205  0.568053   \n",
              "766  6.766008  7.258394  7.721846  ...  0.661971  0.215487  0.518928   \n",
              "767  7.695721  8.565649  9.493728  ...  0.773830  0.200030  0.680893   \n",
              "768  7.649009  8.577870  9.399860  ...  0.782789  0.190521  0.667738   \n",
              "769  7.370550  8.165516  9.068005  ...  0.924635  0.039728  0.590047   \n",
              "\n",
              "          E2s       E3s         Ts          As           Vs        Ks  \\\n",
              "0    0.335856  0.234206  26.442340   96.181953   173.720274  0.760284   \n",
              "1    0.436635  0.433203  52.473404  333.208877   775.688308  0.795207   \n",
              "2    0.401713  0.446637  33.048866  253.146736   804.441768  0.545565   \n",
              "3    0.354198  0.419757  43.745290  197.810300   391.828006  0.828345   \n",
              "4    0.523626  0.401330  49.307849  391.169069  1279.615826  0.718910   \n",
              "..        ...       ...        ...         ...          ...       ...   \n",
              "765  0.421117  0.408899  23.762793   73.264902   157.715173  0.781487   \n",
              "766  0.398162  0.375722  17.409774   75.827005   185.477639  0.492957   \n",
              "767  0.542107  0.381504  63.854530  734.933217  1852.223463  0.660746   \n",
              "768  0.530499  0.365604  67.766071  804.173380  2110.665999  0.674183   \n",
              "769  0.423514  0.416184  70.591577  354.309996   885.404330  0.886952   \n",
              "\n",
              "           Ds  \n",
              "0    1.204051  \n",
              "1    1.401819  \n",
              "2    1.512906  \n",
              "3    1.356521  \n",
              "4    1.499977  \n",
              "..        ...  \n",
              "765  1.398069  \n",
              "766  1.292812  \n",
              "767  1.604505  \n",
              "768  1.563841  \n",
              "769  1.429745  \n",
              "\n",
              "[770 rows x 431 columns]"
            ],
            "text/html": [
              "\n",
              "  <div id=\"df-95b019f7-6c52-461a-a13c-f1ebb43dcfa4\">\n",
              "    <div class=\"colab-df-container\">\n",
              "      <div>\n",
              "<style scoped>\n",
              "    .dataframe tbody tr th:only-of-type {\n",
              "        vertical-align: middle;\n",
              "    }\n",
              "\n",
              "    .dataframe tbody tr th {\n",
              "        vertical-align: top;\n",
              "    }\n",
              "\n",
              "    .dataframe thead th {\n",
              "        text-align: right;\n",
              "    }\n",
              "</style>\n",
              "<table border=\"1\" class=\"dataframe\">\n",
              "  <thead>\n",
              "    <tr style=\"text-align: right;\">\n",
              "      <th></th>\n",
              "      <th>TDB1u</th>\n",
              "      <th>TDB2u</th>\n",
              "      <th>TDB3u</th>\n",
              "      <th>TDB4u</th>\n",
              "      <th>TDB5u</th>\n",
              "      <th>TDB6u</th>\n",
              "      <th>TDB7u</th>\n",
              "      <th>TDB8u</th>\n",
              "      <th>TDB9u</th>\n",
              "      <th>TDB10u</th>\n",
              "      <th>...</th>\n",
              "      <th>P1s</th>\n",
              "      <th>P2s</th>\n",
              "      <th>E1s</th>\n",
              "      <th>E2s</th>\n",
              "      <th>E3s</th>\n",
              "      <th>Ts</th>\n",
              "      <th>As</th>\n",
              "      <th>Vs</th>\n",
              "      <th>Ks</th>\n",
              "      <th>Ds</th>\n",
              "    </tr>\n",
              "  </thead>\n",
              "  <tbody>\n",
              "    <tr>\n",
              "      <th>0</th>\n",
              "      <td>1.263087</td>\n",
              "      <td>2.213772</td>\n",
              "      <td>3.067684</td>\n",
              "      <td>3.795635</td>\n",
              "      <td>4.835887</td>\n",
              "      <td>5.862947</td>\n",
              "      <td>6.562342</td>\n",
              "      <td>7.745256</td>\n",
              "      <td>8.650767</td>\n",
              "      <td>9.775657</td>\n",
              "      <td>...</td>\n",
              "      <td>0.840189</td>\n",
              "      <td>0.135543</td>\n",
              "      <td>0.633989</td>\n",
              "      <td>0.335856</td>\n",
              "      <td>0.234206</td>\n",
              "      <td>26.442340</td>\n",
              "      <td>96.181953</td>\n",
              "      <td>173.720274</td>\n",
              "      <td>0.760284</td>\n",
              "      <td>1.204051</td>\n",
              "    </tr>\n",
              "    <tr>\n",
              "      <th>1</th>\n",
              "      <td>1.281502</td>\n",
              "      <td>2.271699</td>\n",
              "      <td>3.105024</td>\n",
              "      <td>3.948396</td>\n",
              "      <td>4.837981</td>\n",
              "      <td>5.801962</td>\n",
              "      <td>6.639571</td>\n",
              "      <td>7.545545</td>\n",
              "      <td>8.532861</td>\n",
              "      <td>9.297230</td>\n",
              "      <td>...</td>\n",
              "      <td>0.863471</td>\n",
              "      <td>0.107429</td>\n",
              "      <td>0.531981</td>\n",
              "      <td>0.436635</td>\n",
              "      <td>0.433203</td>\n",
              "      <td>52.473404</td>\n",
              "      <td>333.208877</td>\n",
              "      <td>775.688308</td>\n",
              "      <td>0.795207</td>\n",
              "      <td>1.401819</td>\n",
              "    </tr>\n",
              "    <tr>\n",
              "      <th>2</th>\n",
              "      <td>1.272791</td>\n",
              "      <td>2.228076</td>\n",
              "      <td>3.047907</td>\n",
              "      <td>3.861145</td>\n",
              "      <td>4.750282</td>\n",
              "      <td>5.546655</td>\n",
              "      <td>6.397271</td>\n",
              "      <td>7.171556</td>\n",
              "      <td>7.710522</td>\n",
              "      <td>8.211494</td>\n",
              "      <td>...</td>\n",
              "      <td>0.697043</td>\n",
              "      <td>0.199940</td>\n",
              "      <td>0.664555</td>\n",
              "      <td>0.401713</td>\n",
              "      <td>0.446637</td>\n",
              "      <td>33.048866</td>\n",
              "      <td>253.146736</td>\n",
              "      <td>804.441768</td>\n",
              "      <td>0.545565</td>\n",
              "      <td>1.512906</td>\n",
              "    </tr>\n",
              "    <tr>\n",
              "      <th>3</th>\n",
              "      <td>1.275247</td>\n",
              "      <td>2.225649</td>\n",
              "      <td>3.031699</td>\n",
              "      <td>3.834690</td>\n",
              "      <td>4.709406</td>\n",
              "      <td>5.525507</td>\n",
              "      <td>6.389674</td>\n",
              "      <td>7.204710</td>\n",
              "      <td>7.814361</td>\n",
              "      <td>8.515878</td>\n",
              "      <td>...</td>\n",
              "      <td>0.885563</td>\n",
              "      <td>0.092530</td>\n",
              "      <td>0.582566</td>\n",
              "      <td>0.354198</td>\n",
              "      <td>0.419757</td>\n",
              "      <td>43.745290</td>\n",
              "      <td>197.810300</td>\n",
              "      <td>391.828006</td>\n",
              "      <td>0.828345</td>\n",
              "      <td>1.356521</td>\n",
              "    </tr>\n",
              "    <tr>\n",
              "      <th>4</th>\n",
              "      <td>1.305534</td>\n",
              "      <td>2.302159</td>\n",
              "      <td>3.126679</td>\n",
              "      <td>3.957892</td>\n",
              "      <td>4.892466</td>\n",
              "      <td>5.744646</td>\n",
              "      <td>6.568685</td>\n",
              "      <td>7.324457</td>\n",
              "      <td>8.058796</td>\n",
              "      <td>8.645912</td>\n",
              "      <td>...</td>\n",
              "      <td>0.812606</td>\n",
              "      <td>0.106545</td>\n",
              "      <td>0.575021</td>\n",
              "      <td>0.523626</td>\n",
              "      <td>0.401330</td>\n",
              "      <td>49.307849</td>\n",
              "      <td>391.169069</td>\n",
              "      <td>1279.615826</td>\n",
              "      <td>0.718910</td>\n",
              "      <td>1.499977</td>\n",
              "    </tr>\n",
              "    <tr>\n",
              "      <th>...</th>\n",
              "      <td>...</td>\n",
              "      <td>...</td>\n",
              "      <td>...</td>\n",
              "      <td>...</td>\n",
              "      <td>...</td>\n",
              "      <td>...</td>\n",
              "      <td>...</td>\n",
              "      <td>...</td>\n",
              "      <td>...</td>\n",
              "      <td>...</td>\n",
              "      <td>...</td>\n",
              "      <td>...</td>\n",
              "      <td>...</td>\n",
              "      <td>...</td>\n",
              "      <td>...</td>\n",
              "      <td>...</td>\n",
              "      <td>...</td>\n",
              "      <td>...</td>\n",
              "      <td>...</td>\n",
              "      <td>...</td>\n",
              "      <td>...</td>\n",
              "    </tr>\n",
              "    <tr>\n",
              "      <th>765</th>\n",
              "      <td>1.293954</td>\n",
              "      <td>2.274893</td>\n",
              "      <td>3.115294</td>\n",
              "      <td>3.981363</td>\n",
              "      <td>5.002704</td>\n",
              "      <td>5.902476</td>\n",
              "      <td>6.987887</td>\n",
              "      <td>7.867927</td>\n",
              "      <td>8.795647</td>\n",
              "      <td>9.880930</td>\n",
              "      <td>...</td>\n",
              "      <td>0.854325</td>\n",
              "      <td>0.076205</td>\n",
              "      <td>0.568053</td>\n",
              "      <td>0.421117</td>\n",
              "      <td>0.408899</td>\n",
              "      <td>23.762793</td>\n",
              "      <td>73.264902</td>\n",
              "      <td>157.715173</td>\n",
              "      <td>0.781487</td>\n",
              "      <td>1.398069</td>\n",
              "    </tr>\n",
              "    <tr>\n",
              "      <th>766</th>\n",
              "      <td>1.255809</td>\n",
              "      <td>2.230321</td>\n",
              "      <td>3.036714</td>\n",
              "      <td>3.816633</td>\n",
              "      <td>4.721168</td>\n",
              "      <td>5.527827</td>\n",
              "      <td>6.134158</td>\n",
              "      <td>6.766008</td>\n",
              "      <td>7.258394</td>\n",
              "      <td>7.721846</td>\n",
              "      <td>...</td>\n",
              "      <td>0.661971</td>\n",
              "      <td>0.215487</td>\n",
              "      <td>0.518928</td>\n",
              "      <td>0.398162</td>\n",
              "      <td>0.375722</td>\n",
              "      <td>17.409774</td>\n",
              "      <td>75.827005</td>\n",
              "      <td>185.477639</td>\n",
              "      <td>0.492957</td>\n",
              "      <td>1.292812</td>\n",
              "    </tr>\n",
              "    <tr>\n",
              "      <th>767</th>\n",
              "      <td>1.263234</td>\n",
              "      <td>2.194343</td>\n",
              "      <td>2.956736</td>\n",
              "      <td>3.746233</td>\n",
              "      <td>4.845544</td>\n",
              "      <td>5.782048</td>\n",
              "      <td>6.740555</td>\n",
              "      <td>7.695721</td>\n",
              "      <td>8.565649</td>\n",
              "      <td>9.493728</td>\n",
              "      <td>...</td>\n",
              "      <td>0.773830</td>\n",
              "      <td>0.200030</td>\n",
              "      <td>0.680893</td>\n",
              "      <td>0.542107</td>\n",
              "      <td>0.381504</td>\n",
              "      <td>63.854530</td>\n",
              "      <td>734.933217</td>\n",
              "      <td>1852.223463</td>\n",
              "      <td>0.660746</td>\n",
              "      <td>1.604505</td>\n",
              "    </tr>\n",
              "    <tr>\n",
              "      <th>768</th>\n",
              "      <td>1.249471</td>\n",
              "      <td>2.165005</td>\n",
              "      <td>2.946639</td>\n",
              "      <td>3.682748</td>\n",
              "      <td>4.766693</td>\n",
              "      <td>5.730793</td>\n",
              "      <td>6.645514</td>\n",
              "      <td>7.649009</td>\n",
              "      <td>8.577870</td>\n",
              "      <td>9.399860</td>\n",
              "      <td>...</td>\n",
              "      <td>0.782789</td>\n",
              "      <td>0.190521</td>\n",
              "      <td>0.667738</td>\n",
              "      <td>0.530499</td>\n",
              "      <td>0.365604</td>\n",
              "      <td>67.766071</td>\n",
              "      <td>804.173380</td>\n",
              "      <td>2110.665999</td>\n",
              "      <td>0.674183</td>\n",
              "      <td>1.563841</td>\n",
              "    </tr>\n",
              "    <tr>\n",
              "      <th>769</th>\n",
              "      <td>1.256070</td>\n",
              "      <td>2.180184</td>\n",
              "      <td>2.931949</td>\n",
              "      <td>3.741270</td>\n",
              "      <td>4.798816</td>\n",
              "      <td>5.691051</td>\n",
              "      <td>6.582207</td>\n",
              "      <td>7.370550</td>\n",
              "      <td>8.165516</td>\n",
              "      <td>9.068005</td>\n",
              "      <td>...</td>\n",
              "      <td>0.924635</td>\n",
              "      <td>0.039728</td>\n",
              "      <td>0.590047</td>\n",
              "      <td>0.423514</td>\n",
              "      <td>0.416184</td>\n",
              "      <td>70.591577</td>\n",
              "      <td>354.309996</td>\n",
              "      <td>885.404330</td>\n",
              "      <td>0.886952</td>\n",
              "      <td>1.429745</td>\n",
              "    </tr>\n",
              "  </tbody>\n",
              "</table>\n",
              "<p>770 rows × 431 columns</p>\n",
              "</div>\n",
              "      <button class=\"colab-df-convert\" onclick=\"convertToInteractive('df-95b019f7-6c52-461a-a13c-f1ebb43dcfa4')\"\n",
              "              title=\"Convert this dataframe to an interactive table.\"\n",
              "              style=\"display:none;\">\n",
              "        \n",
              "  <svg xmlns=\"http://www.w3.org/2000/svg\" height=\"24px\"viewBox=\"0 0 24 24\"\n",
              "       width=\"24px\">\n",
              "    <path d=\"M0 0h24v24H0V0z\" fill=\"none\"/>\n",
              "    <path d=\"M18.56 5.44l.94 2.06.94-2.06 2.06-.94-2.06-.94-.94-2.06-.94 2.06-2.06.94zm-11 1L8.5 8.5l.94-2.06 2.06-.94-2.06-.94L8.5 2.5l-.94 2.06-2.06.94zm10 10l.94 2.06.94-2.06 2.06-.94-2.06-.94-.94-2.06-.94 2.06-2.06.94z\"/><path d=\"M17.41 7.96l-1.37-1.37c-.4-.4-.92-.59-1.43-.59-.52 0-1.04.2-1.43.59L10.3 9.45l-7.72 7.72c-.78.78-.78 2.05 0 2.83L4 21.41c.39.39.9.59 1.41.59.51 0 1.02-.2 1.41-.59l7.78-7.78 2.81-2.81c.8-.78.8-2.07 0-2.86zM5.41 20L4 18.59l7.72-7.72 1.47 1.35L5.41 20z\"/>\n",
              "  </svg>\n",
              "      </button>\n",
              "      \n",
              "  <style>\n",
              "    .colab-df-container {\n",
              "      display:flex;\n",
              "      flex-wrap:wrap;\n",
              "      gap: 12px;\n",
              "    }\n",
              "\n",
              "    .colab-df-convert {\n",
              "      background-color: #E8F0FE;\n",
              "      border: none;\n",
              "      border-radius: 50%;\n",
              "      cursor: pointer;\n",
              "      display: none;\n",
              "      fill: #1967D2;\n",
              "      height: 32px;\n",
              "      padding: 0 0 0 0;\n",
              "      width: 32px;\n",
              "    }\n",
              "\n",
              "    .colab-df-convert:hover {\n",
              "      background-color: #E2EBFA;\n",
              "      box-shadow: 0px 1px 2px rgba(60, 64, 67, 0.3), 0px 1px 3px 1px rgba(60, 64, 67, 0.15);\n",
              "      fill: #174EA6;\n",
              "    }\n",
              "\n",
              "    [theme=dark] .colab-df-convert {\n",
              "      background-color: #3B4455;\n",
              "      fill: #D2E3FC;\n",
              "    }\n",
              "\n",
              "    [theme=dark] .colab-df-convert:hover {\n",
              "      background-color: #434B5C;\n",
              "      box-shadow: 0px 1px 3px 1px rgba(0, 0, 0, 0.15);\n",
              "      filter: drop-shadow(0px 1px 2px rgba(0, 0, 0, 0.3));\n",
              "      fill: #FFFFFF;\n",
              "    }\n",
              "  </style>\n",
              "\n",
              "      <script>\n",
              "        const buttonEl =\n",
              "          document.querySelector('#df-95b019f7-6c52-461a-a13c-f1ebb43dcfa4 button.colab-df-convert');\n",
              "        buttonEl.style.display =\n",
              "          google.colab.kernel.accessAllowed ? 'block' : 'none';\n",
              "\n",
              "        async function convertToInteractive(key) {\n",
              "          const element = document.querySelector('#df-95b019f7-6c52-461a-a13c-f1ebb43dcfa4');\n",
              "          const dataTable =\n",
              "            await google.colab.kernel.invokeFunction('convertToInteractive',\n",
              "                                                     [key], {});\n",
              "          if (!dataTable) return;\n",
              "\n",
              "          const docLinkHtml = 'Like what you see? Visit the ' +\n",
              "            '<a target=\"_blank\" href=https://colab.research.google.com/notebooks/data_table.ipynb>data table notebook</a>'\n",
              "            + ' to learn more about interactive tables.';\n",
              "          element.innerHTML = '';\n",
              "          dataTable['output_type'] = 'display_data';\n",
              "          await google.colab.output.renderOutput(dataTable, element);\n",
              "          const docLink = document.createElement('div');\n",
              "          docLink.innerHTML = docLinkHtml;\n",
              "          element.appendChild(docLink);\n",
              "        }\n",
              "      </script>\n",
              "    </div>\n",
              "  </div>\n",
              "  "
            ]
          },
          "metadata": {},
          "execution_count": 43
        }
      ]
    },
    {
      "cell_type": "code",
      "source": [
        "from sklearn.utils import shuffle\n",
        "import numpy as np\n",
        "X2, Y2 = shuffle(X2, Y2)"
      ],
      "metadata": {
        "id": "ySAln1PwWF4Y"
      },
      "execution_count": 44,
      "outputs": []
    },
    {
      "cell_type": "code",
      "source": [
        "from sklearn.feature_selection import VarianceThreshold\n",
        "selection = VarianceThreshold(threshold=(.8 * (1 - .8)))    \n",
        "X2 = selection.fit_transform(X2) #Remove low variance features"
      ],
      "metadata": {
        "id": "C2pSo6OO7a4J"
      },
      "execution_count": 45,
      "outputs": []
    },
    {
      "cell_type": "code",
      "source": [
        "    \n",
        "# Splitting dataset into training and testing sets\n",
        "X2_train, X2_test, Y2_train, Y2_test = train_test_split(X2, Y2, test_size = 0.2, random_state = 42)\n",
        "   \n",
        "# Creating and training model\n",
        "model2 = RandomForestRegressor(n_estimators=100, random_state= 0)\n",
        "model2.fit(X2_train, Y2_train)\n",
        "   \n",
        "# Model making a prediction on test data\n",
        "prediction2 = model2.predict(X2_test)\n",
        "   \n"
      ],
      "metadata": {
        "id": "hRRWCfwo7ENy"
      },
      "execution_count": 46,
      "outputs": []
    },
    {
      "cell_type": "code",
      "source": [
        "# example of calculate the mean absolute error\n",
        "from sklearn.metrics import mean_absolute_error\n",
        "# calculate errors\n",
        "errors = mean_absolute_error(Y2_test, prediction2)\n",
        "print(errors)"
      ],
      "metadata": {
        "colab": {
          "base_uri": "https://localhost:8080/"
        },
        "id": "3zIkoq5G7lg1",
        "outputId": "4f92f655-a0c1-4164-fd80-1f099be4cee2"
      },
      "execution_count": 48,
      "outputs": [
        {
          "output_type": "stream",
          "name": "stdout",
          "text": [
            "0.5461787971927868\n"
          ]
        }
      ]
    },
    {
      "cell_type": "code",
      "source": [
        "import seaborn as sns\n",
        "import matplotlib.pyplot as plt\n",
        "\n",
        "sns.set(color_codes=True)\n",
        "sns.set_style(\"white\")\n",
        "\n",
        "ax = sns.regplot(Y2_test, prediction2, scatter_kws={'alpha':0.4})\n",
        "ax.set_xlabel('Experimental pIC50', fontsize='large', fontweight='bold')\n",
        "ax.set_ylabel('Predicted pIC50', fontsize='large', fontweight='bold')\n",
        "ax.set(title='3D')\n",
        "ax.set_xlim(3, 10)\n",
        "ax.set_ylim(4, 10)\n",
        "ax.figure.set_size_inches(5, 5)\n",
        "plt.show"
      ],
      "metadata": {
        "colab": {
          "base_uri": "https://localhost:8080/",
          "height": 428
        },
        "id": "8R9A_JFO7qBP",
        "outputId": "6bc42c8a-cb58-46cc-9066-f654898c6fbd"
      },
      "execution_count": 49,
      "outputs": [
        {
          "output_type": "stream",
          "name": "stderr",
          "text": [
            "/usr/local/lib/python3.7/dist-packages/seaborn/_decorators.py:43: FutureWarning: Pass the following variables as keyword args: x, y. From version 0.12, the only valid positional argument will be `data`, and passing other arguments without an explicit keyword will result in an error or misinterpretation.\n",
            "  FutureWarning\n"
          ]
        },
        {
          "output_type": "execute_result",
          "data": {
            "text/plain": [
              "<function matplotlib.pyplot.show>"
            ]
          },
          "metadata": {},
          "execution_count": 49
        },
        {
          "output_type": "display_data",
          "data": {
            "text/plain": [
              "<Figure size 360x360 with 1 Axes>"
            ],
            "image/png": "[encoded data removed]"
          },
          "metadata": {}
        }
      ]
    },
    {
      "cell_type": "code",
      "source": [
        "x_ax = range(len(Y_test))\n",
        "plt.scatter(x_ax, Y_test, s=5, color=\"blue\", label=\"original\")\n",
        "plt.plot(x_ax, prediction2, lw=0.8, color=\"red\", label=\"predicted\")\n",
        "plt.title(\"3D\")\n",
        "plt.ylabel(\"pIC50\")\n",
        "plt.legend()\n",
        "plt.show() "
      ],
      "metadata": {
        "colab": {
          "base_uri": "https://localhost:8080/",
          "height": 393
        },
        "id": "eUHCl5fmdCai",
        "outputId": "9bfa98fa-a8f8-4266-e200-1eec52136d3f"
      },
      "execution_count": 50,
      "outputs": [
        {
          "output_type": "display_data",
          "data": {
            "text/plain": [
              "<Figure size 1152x432 with 1 Axes>"
            ],
            "image/png": "[encoded data removed]"
          },
          "metadata": {}
        }
      ]
    },
    {
      "cell_type": "code",
      "source": [
        ""
      ],
      "metadata": {
        "id": "kPD9oAXGiU7e"
      },
      "execution_count": 50,
      "outputs": []
    },
    {
      "cell_type": "markdown",
      "source": [
        "##2D+3D"
      ],
      "metadata": {
        "id": "u4VoW8HjNO68"
      }
    },
    {
      "cell_type": "code",
      "source": [
        "df3= pd.merge(df1, df2, how=\"left\", on=[\"Name\"])"
      ],
      "metadata": {
        "id": "DvqVW-t074rF"
      },
      "execution_count": 51,
      "outputs": []
    },
    {
      "cell_type": "code",
      "source": [
        "df3 = pd.merge(df3, df_y1, on=[\"Name\"])"
      ],
      "metadata": {
        "id": "QN0vkBxQHc1q"
      },
      "execution_count": 52,
      "outputs": []
    },
    {
      "cell_type": "code",
      "source": [
        "df3.to_csv('2D+3D.csv', index=False)"
      ],
      "metadata": {
        "id": "QScDpnoAwMKL"
      },
      "execution_count": 53,
      "outputs": []
    },
    {
      "cell_type": "code",
      "source": [
        "Y3 = df_y.pIC50"
      ],
      "metadata": {
        "id": "PlP5_WPhP5fI"
      },
      "execution_count": 54,
      "outputs": []
    },
    {
      "cell_type": "code",
      "source": [
        "Y3"
      ],
      "metadata": {
        "colab": {
          "base_uri": "https://localhost:8080/"
        },
        "id": "enBv74Q-QQjm",
        "outputId": "ab8bc5df-07e1-4162-ed2c-831334534c95"
      },
      "execution_count": 55,
      "outputs": [
        {
          "output_type": "execute_result",
          "data": {
            "text/plain": [
              "0      7.421361\n",
              "1      4.397940\n",
              "2      4.698970\n",
              "3      4.698970\n",
              "4      5.667562\n",
              "         ...   \n",
              "765    9.000000\n",
              "766    7.829738\n",
              "767    7.065502\n",
              "768    7.657577\n",
              "769    7.078834\n",
              "Name: pIC50, Length: 770, dtype: float64"
            ]
          },
          "metadata": {},
          "execution_count": 55
        }
      ]
    },
    {
      "cell_type": "code",
      "source": [
        "df3 = df3.dropna(axis='columns')"
      ],
      "metadata": {
        "id": "1Ur8aXSe8DRX"
      },
      "execution_count": 56,
      "outputs": []
    },
    {
      "cell_type": "code",
      "source": [
        "X3= df3.drop('Name', axis=1)\n",
        "X3"
      ],
      "metadata": {
        "colab": {
          "base_uri": "https://localhost:8080/",
          "height": 424
        },
        "id": "DSx5OVID8G6B",
        "outputId": "c8d1db05-a302-474e-fcee-5b48240510d7"
      },
      "execution_count": 57,
      "outputs": [
        {
          "output_type": "execute_result",
          "data": {
            "text/plain": [
              "     nAcid   ALogP    ALogp2       AMR       apol  naAromAtom  nAromBond  \\\n",
              "0        0 -0.1340  0.017956   46.4096  55.007032          12         13   \n",
              "1        0 -1.0959  1.200997   38.0508  81.506411          29         31   \n",
              "2        0 -2.2119  4.892502   68.1652  89.330548          23         24   \n",
              "3        0 -1.4805  2.191880   73.8025  81.268962          17         17   \n",
              "4        0 -0.7933  0.629325   52.1166  93.020790          29         31   \n",
              "..     ...     ...       ...       ...        ...         ...        ...   \n",
              "765      0  1.0914  1.191154   23.9556  49.341895          18         19   \n",
              "766      0 -1.7768  3.157018   33.2659  55.802239          16         17   \n",
              "767      1 -3.0865  9.526482  122.2218  88.990099           6          6   \n",
              "768      0 -0.7588  0.575777  127.5922  93.766857           6          6   \n",
              "769      1 -1.9118  3.654979  111.7291  82.031720           6          6   \n",
              "\n",
              "     nAtom  nHeavyAtom  nH  ...       P1s       P2s       E1s       E2s  \\\n",
              "0       48          24  24  ...  0.840189  0.135543  0.633989  0.335856   \n",
              "1       67          40  27  ...  0.863471  0.107429  0.531981  0.436635   \n",
              "2       77          41  36  ...  0.697043  0.199940  0.664555  0.401713   \n",
              "3       72          38  34  ...  0.885563  0.092530  0.582566  0.354198   \n",
              "4       75          45  30  ...  0.812606  0.106545  0.575021  0.523626   \n",
              "..     ...         ...  ..  ...       ...       ...       ...       ...   \n",
              "765     38          23  15  ...  0.854325  0.076205  0.568053  0.421117   \n",
              "766     48          25  23  ...  0.661971  0.215487  0.518928  0.398162   \n",
              "767     82          39  43  ...  0.773830  0.200030  0.680893  0.542107   \n",
              "768     88          39  49  ...  0.782789  0.190521  0.667738  0.530499   \n",
              "769     77          37  40  ...  0.924635  0.039728  0.590047  0.423514   \n",
              "\n",
              "          E3s         Ts          As           Vs        Ks        Ds  \n",
              "0    0.234206  26.442340   96.181953   173.720274  0.760284  1.204051  \n",
              "1    0.433203  52.473404  333.208877   775.688308  0.795207  1.401819  \n",
              "2    0.446637  33.048866  253.146736   804.441768  0.545565  1.512906  \n",
              "3    0.419757  43.745290  197.810300   391.828006  0.828345  1.356521  \n",
              "4    0.401330  49.307849  391.169069  1279.615826  0.718910  1.499977  \n",
              "..        ...        ...         ...          ...       ...       ...  \n",
              "765  0.408899  23.762793   73.264902   157.715173  0.781487  1.398069  \n",
              "766  0.375722  17.409774   75.827005   185.477639  0.492957  1.292812  \n",
              "767  0.381504  63.854530  734.933217  1852.223463  0.660746  1.604505  \n",
              "768  0.365604  67.766071  804.173380  2110.665999  0.674183  1.563841  \n",
              "769  0.416184  70.591577  354.309996   885.404330  0.886952  1.429745  \n",
              "\n",
              "[770 rows x 1812 columns]"
            ],
            "text/html": [
              "\n",
              "  <div id=\"df-db955acb-f284-472b-9609-722f8589084b\">\n",
              "    <div class=\"colab-df-container\">\n",
              "      <div>\n",
              "<style scoped>\n",
              "    .dataframe tbody tr th:only-of-type {\n",
              "        vertical-align: middle;\n",
              "    }\n",
              "\n",
              "    .dataframe tbody tr th {\n",
              "        vertical-align: top;\n",
              "    }\n",
              "\n",
              "    .dataframe thead th {\n",
              "        text-align: right;\n",
              "    }\n",
              "</style>\n",
              "<table border=\"1\" class=\"dataframe\">\n",
              "  <thead>\n",
              "    <tr style=\"text-align: right;\">\n",
              "      <th></th>\n",
              "      <th>nAcid</th>\n",
              "      <th>ALogP</th>\n",
              "      <th>ALogp2</th>\n",
              "      <th>AMR</th>\n",
              "      <th>apol</th>\n",
              "      <th>naAromAtom</th>\n",
              "      <th>nAromBond</th>\n",
              "      <th>nAtom</th>\n",
              "      <th>nHeavyAtom</th>\n",
              "      <th>nH</th>\n",
              "      <th>...</th>\n",
              "      <th>P1s</th>\n",
              "      <th>P2s</th>\n",
              "      <th>E1s</th>\n",
              "      <th>E2s</th>\n",
              "      <th>E3s</th>\n",
              "      <th>Ts</th>\n",
              "      <th>As</th>\n",
              "      <th>Vs</th>\n",
              "      <th>Ks</th>\n",
              "      <th>Ds</th>\n",
              "    </tr>\n",
              "  </thead>\n",
              "  <tbody>\n",
              "    <tr>\n",
              "      <th>0</th>\n",
              "      <td>0</td>\n",
              "      <td>-0.1340</td>\n",
              "      <td>0.017956</td>\n",
              "      <td>46.4096</td>\n",
              "      <td>55.007032</td>\n",
              "      <td>12</td>\n",
              "      <td>13</td>\n",
              "      <td>48</td>\n",
              "      <td>24</td>\n",
              "      <td>24</td>\n",
              "      <td>...</td>\n",
              "      <td>0.840189</td>\n",
              "      <td>0.135543</td>\n",
              "      <td>0.633989</td>\n",
              "      <td>0.335856</td>\n",
              "      <td>0.234206</td>\n",
              "      <td>26.442340</td>\n",
              "      <td>96.181953</td>\n",
              "      <td>173.720274</td>\n",
              "      <td>0.760284</td>\n",
              "      <td>1.204051</td>\n",
              "    </tr>\n",
              "    <tr>\n",
              "      <th>1</th>\n",
              "      <td>0</td>\n",
              "      <td>-1.0959</td>\n",
              "      <td>1.200997</td>\n",
              "      <td>38.0508</td>\n",
              "      <td>81.506411</td>\n",
              "      <td>29</td>\n",
              "      <td>31</td>\n",
              "      <td>67</td>\n",
              "      <td>40</td>\n",
              "      <td>27</td>\n",
              "      <td>...</td>\n",
              "      <td>0.863471</td>\n",
              "      <td>0.107429</td>\n",
              "      <td>0.531981</td>\n",
              "      <td>0.436635</td>\n",
              "      <td>0.433203</td>\n",
              "      <td>52.473404</td>\n",
              "      <td>333.208877</td>\n",
              "      <td>775.688308</td>\n",
              "      <td>0.795207</td>\n",
              "      <td>1.401819</td>\n",
              "    </tr>\n",
              "    <tr>\n",
              "      <th>2</th>\n",
              "      <td>0</td>\n",
              "      <td>-2.2119</td>\n",
              "      <td>4.892502</td>\n",
              "      <td>68.1652</td>\n",
              "      <td>89.330548</td>\n",
              "      <td>23</td>\n",
              "      <td>24</td>\n",
              "      <td>77</td>\n",
              "      <td>41</td>\n",
              "      <td>36</td>\n",
              "      <td>...</td>\n",
              "      <td>0.697043</td>\n",
              "      <td>0.199940</td>\n",
              "      <td>0.664555</td>\n",
              "      <td>0.401713</td>\n",
              "      <td>0.446637</td>\n",
              "      <td>33.048866</td>\n",
              "      <td>253.146736</td>\n",
              "      <td>804.441768</td>\n",
              "      <td>0.545565</td>\n",
              "      <td>1.512906</td>\n",
              "    </tr>\n",
              "    <tr>\n",
              "      <th>3</th>\n",
              "      <td>0</td>\n",
              "      <td>-1.4805</td>\n",
              "      <td>2.191880</td>\n",
              "      <td>73.8025</td>\n",
              "      <td>81.268962</td>\n",
              "      <td>17</td>\n",
              "      <td>17</td>\n",
              "      <td>72</td>\n",
              "      <td>38</td>\n",
              "      <td>34</td>\n",
              "      <td>...</td>\n",
              "      <td>0.885563</td>\n",
              "      <td>0.092530</td>\n",
              "      <td>0.582566</td>\n",
              "      <td>0.354198</td>\n",
              "      <td>0.419757</td>\n",
              "      <td>43.745290</td>\n",
              "      <td>197.810300</td>\n",
              "      <td>391.828006</td>\n",
              "      <td>0.828345</td>\n",
              "      <td>1.356521</td>\n",
              "    </tr>\n",
              "    <tr>\n",
              "      <th>4</th>\n",
              "      <td>0</td>\n",
              "      <td>-0.7933</td>\n",
              "      <td>0.629325</td>\n",
              "      <td>52.1166</td>\n",
              "      <td>93.020790</td>\n",
              "      <td>29</td>\n",
              "      <td>31</td>\n",
              "      <td>75</td>\n",
              "      <td>45</td>\n",
              "      <td>30</td>\n",
              "      <td>...</td>\n",
              "      <td>0.812606</td>\n",
              "      <td>0.106545</td>\n",
              "      <td>0.575021</td>\n",
              "      <td>0.523626</td>\n",
              "      <td>0.401330</td>\n",
              "      <td>49.307849</td>\n",
              "      <td>391.169069</td>\n",
              "      <td>1279.615826</td>\n",
              "      <td>0.718910</td>\n",
              "      <td>1.499977</td>\n",
              "    </tr>\n",
              "    <tr>\n",
              "      <th>...</th>\n",
              "      <td>...</td>\n",
              "      <td>...</td>\n",
              "      <td>...</td>\n",
              "      <td>...</td>\n",
              "      <td>...</td>\n",
              "      <td>...</td>\n",
              "      <td>...</td>\n",
              "      <td>...</td>\n",
              "      <td>...</td>\n",
              "      <td>...</td>\n",
              "      <td>...</td>\n",
              "      <td>...</td>\n",
              "      <td>...</td>\n",
              "      <td>...</td>\n",
              "      <td>...</td>\n",
              "      <td>...</td>\n",
              "      <td>...</td>\n",
              "      <td>...</td>\n",
              "      <td>...</td>\n",
              "      <td>...</td>\n",
              "      <td>...</td>\n",
              "    </tr>\n",
              "    <tr>\n",
              "      <th>765</th>\n",
              "      <td>0</td>\n",
              "      <td>1.0914</td>\n",
              "      <td>1.191154</td>\n",
              "      <td>23.9556</td>\n",
              "      <td>49.341895</td>\n",
              "      <td>18</td>\n",
              "      <td>19</td>\n",
              "      <td>38</td>\n",
              "      <td>23</td>\n",
              "      <td>15</td>\n",
              "      <td>...</td>\n",
              "      <td>0.854325</td>\n",
              "      <td>0.076205</td>\n",
              "      <td>0.568053</td>\n",
              "      <td>0.421117</td>\n",
              "      <td>0.408899</td>\n",
              "      <td>23.762793</td>\n",
              "      <td>73.264902</td>\n",
              "      <td>157.715173</td>\n",
              "      <td>0.781487</td>\n",
              "      <td>1.398069</td>\n",
              "    </tr>\n",
              "    <tr>\n",
              "      <th>766</th>\n",
              "      <td>0</td>\n",
              "      <td>-1.7768</td>\n",
              "      <td>3.157018</td>\n",
              "      <td>33.2659</td>\n",
              "      <td>55.802239</td>\n",
              "      <td>16</td>\n",
              "      <td>17</td>\n",
              "      <td>48</td>\n",
              "      <td>25</td>\n",
              "      <td>23</td>\n",
              "      <td>...</td>\n",
              "      <td>0.661971</td>\n",
              "      <td>0.215487</td>\n",
              "      <td>0.518928</td>\n",
              "      <td>0.398162</td>\n",
              "      <td>0.375722</td>\n",
              "      <td>17.409774</td>\n",
              "      <td>75.827005</td>\n",
              "      <td>185.477639</td>\n",
              "      <td>0.492957</td>\n",
              "      <td>1.292812</td>\n",
              "    </tr>\n",
              "    <tr>\n",
              "      <th>767</th>\n",
              "      <td>1</td>\n",
              "      <td>-3.0865</td>\n",
              "      <td>9.526482</td>\n",
              "      <td>122.2218</td>\n",
              "      <td>88.990099</td>\n",
              "      <td>6</td>\n",
              "      <td>6</td>\n",
              "      <td>82</td>\n",
              "      <td>39</td>\n",
              "      <td>43</td>\n",
              "      <td>...</td>\n",
              "      <td>0.773830</td>\n",
              "      <td>0.200030</td>\n",
              "      <td>0.680893</td>\n",
              "      <td>0.542107</td>\n",
              "      <td>0.381504</td>\n",
              "      <td>63.854530</td>\n",
              "      <td>734.933217</td>\n",
              "      <td>1852.223463</td>\n",
              "      <td>0.660746</td>\n",
              "      <td>1.604505</td>\n",
              "    </tr>\n",
              "    <tr>\n",
              "      <th>768</th>\n",
              "      <td>0</td>\n",
              "      <td>-0.7588</td>\n",
              "      <td>0.575777</td>\n",
              "      <td>127.5922</td>\n",
              "      <td>93.766857</td>\n",
              "      <td>6</td>\n",
              "      <td>6</td>\n",
              "      <td>88</td>\n",
              "      <td>39</td>\n",
              "      <td>49</td>\n",
              "      <td>...</td>\n",
              "      <td>0.782789</td>\n",
              "      <td>0.190521</td>\n",
              "      <td>0.667738</td>\n",
              "      <td>0.530499</td>\n",
              "      <td>0.365604</td>\n",
              "      <td>67.766071</td>\n",
              "      <td>804.173380</td>\n",
              "      <td>2110.665999</td>\n",
              "      <td>0.674183</td>\n",
              "      <td>1.563841</td>\n",
              "    </tr>\n",
              "    <tr>\n",
              "      <th>769</th>\n",
              "      <td>1</td>\n",
              "      <td>-1.9118</td>\n",
              "      <td>3.654979</td>\n",
              "      <td>111.7291</td>\n",
              "      <td>82.031720</td>\n",
              "      <td>6</td>\n",
              "      <td>6</td>\n",
              "      <td>77</td>\n",
              "      <td>37</td>\n",
              "      <td>40</td>\n",
              "      <td>...</td>\n",
              "      <td>0.924635</td>\n",
              "      <td>0.039728</td>\n",
              "      <td>0.590047</td>\n",
              "      <td>0.423514</td>\n",
              "      <td>0.416184</td>\n",
              "      <td>70.591577</td>\n",
              "      <td>354.309996</td>\n",
              "      <td>885.404330</td>\n",
              "      <td>0.886952</td>\n",
              "      <td>1.429745</td>\n",
              "    </tr>\n",
              "  </tbody>\n",
              "</table>\n",
              "<p>770 rows × 1812 columns</p>\n",
              "</div>\n",
              "      <button class=\"colab-df-convert\" onclick=\"convertToInteractive('df-db955acb-f284-472b-9609-722f8589084b')\"\n",
              "              title=\"Convert this dataframe to an interactive table.\"\n",
              "              style=\"display:none;\">\n",
              "        \n",
              "  <svg xmlns=\"http://www.w3.org/2000/svg\" height=\"24px\"viewBox=\"0 0 24 24\"\n",
              "       width=\"24px\">\n",
              "    <path d=\"M0 0h24v24H0V0z\" fill=\"none\"/>\n",
              "    <path d=\"M18.56 5.44l.94 2.06.94-2.06 2.06-.94-2.06-.94-.94-2.06-.94 2.06-2.06.94zm-11 1L8.5 8.5l.94-2.06 2.06-.94-2.06-.94L8.5 2.5l-.94 2.06-2.06.94zm10 10l.94 2.06.94-2.06 2.06-.94-2.06-.94-.94-2.06-.94 2.06-2.06.94z\"/><path d=\"M17.41 7.96l-1.37-1.37c-.4-.4-.92-.59-1.43-.59-.52 0-1.04.2-1.43.59L10.3 9.45l-7.72 7.72c-.78.78-.78 2.05 0 2.83L4 21.41c.39.39.9.59 1.41.59.51 0 1.02-.2 1.41-.59l7.78-7.78 2.81-2.81c.8-.78.8-2.07 0-2.86zM5.41 20L4 18.59l7.72-7.72 1.47 1.35L5.41 20z\"/>\n",
              "  </svg>\n",
              "      </button>\n",
              "      \n",
              "  <style>\n",
              "    .colab-df-container {\n",
              "      display:flex;\n",
              "      flex-wrap:wrap;\n",
              "      gap: 12px;\n",
              "    }\n",
              "\n",
              "    .colab-df-convert {\n",
              "      background-color: #E8F0FE;\n",
              "      border: none;\n",
              "      border-radius: 50%;\n",
              "      cursor: pointer;\n",
              "      display: none;\n",
              "      fill: #1967D2;\n",
              "      height: 32px;\n",
              "      padding: 0 0 0 0;\n",
              "      width: 32px;\n",
              "    }\n",
              "\n",
              "    .colab-df-convert:hover {\n",
              "      background-color: #E2EBFA;\n",
              "      box-shadow: 0px 1px 2px rgba(60, 64, 67, 0.3), 0px 1px 3px 1px rgba(60, 64, 67, 0.15);\n",
              "      fill: #174EA6;\n",
              "    }\n",
              "\n",
              "    [theme=dark] .colab-df-convert {\n",
              "      background-color: #3B4455;\n",
              "      fill: #D2E3FC;\n",
              "    }\n",
              "\n",
              "    [theme=dark] .colab-df-convert:hover {\n",
              "      background-color: #434B5C;\n",
              "      box-shadow: 0px 1px 3px 1px rgba(0, 0, 0, 0.15);\n",
              "      filter: drop-shadow(0px 1px 2px rgba(0, 0, 0, 0.3));\n",
              "      fill: #FFFFFF;\n",
              "    }\n",
              "  </style>\n",
              "\n",
              "      <script>\n",
              "        const buttonEl =\n",
              "          document.querySelector('#df-db955acb-f284-472b-9609-722f8589084b button.colab-df-convert');\n",
              "        buttonEl.style.display =\n",
              "          google.colab.kernel.accessAllowed ? 'block' : 'none';\n",
              "\n",
              "        async function convertToInteractive(key) {\n",
              "          const element = document.querySelector('#df-db955acb-f284-472b-9609-722f8589084b');\n",
              "          const dataTable =\n",
              "            await google.colab.kernel.invokeFunction('convertToInteractive',\n",
              "                                                     [key], {});\n",
              "          if (!dataTable) return;\n",
              "\n",
              "          const docLinkHtml = 'Like what you see? Visit the ' +\n",
              "            '<a target=\"_blank\" href=https://colab.research.google.com/notebooks/data_table.ipynb>data table notebook</a>'\n",
              "            + ' to learn more about interactive tables.';\n",
              "          element.innerHTML = '';\n",
              "          dataTable['output_type'] = 'display_data';\n",
              "          await google.colab.output.renderOutput(dataTable, element);\n",
              "          const docLink = document.createElement('div');\n",
              "          docLink.innerHTML = docLinkHtml;\n",
              "          element.appendChild(docLink);\n",
              "        }\n",
              "      </script>\n",
              "    </div>\n",
              "  </div>\n",
              "  "
            ]
          },
          "metadata": {},
          "execution_count": 57
        }
      ]
    },
    {
      "cell_type": "code",
      "source": [
        "X3.shape"
      ],
      "metadata": {
        "colab": {
          "base_uri": "https://localhost:8080/"
        },
        "id": "a9GQaFg6WU7M",
        "outputId": "98966f95-f734-4a5f-f902-a91c02f77be6"
      },
      "execution_count": 58,
      "outputs": [
        {
          "output_type": "execute_result",
          "data": {
            "text/plain": [
              "(770, 1812)"
            ]
          },
          "metadata": {},
          "execution_count": 58
        }
      ]
    },
    {
      "cell_type": "code",
      "source": [
        "from sklearn.feature_selection import VarianceThreshold\n",
        "selection = VarianceThreshold(threshold=(.8 * (1 - .8)))    \n",
        "X3 = selection.fit_transform(X3)"
      ],
      "metadata": {
        "id": "SqPH5URz8cnA"
      },
      "execution_count": 59,
      "outputs": []
    },
    {
      "cell_type": "code",
      "source": [
        "    \n",
        "# Splitting dataset into training and testing sets\n",
        "X3_train, X3_test, Y3_train, Y3_test = train_test_split(X3, Y3, test_size = 0.2, random_state = 42)\n",
        "   \n",
        "# Creating and training model\n",
        "model3 = RandomForestRegressor(n_estimators=100, random_state= 0)\n",
        "model3.fit(X3_train, Y3_train)\n",
        "   \n",
        "# Model making a prediction on test data\n",
        "prediction3 = model3.predict(X3_test)\n",
        "   \n",
        "# Evaluation of r2 score of the model against the test set\n",
        "print(f\"r2 Score Of Test Set : {r2_score(Y3_test, prediction3)}\")"
      ],
      "metadata": {
        "colab": {
          "base_uri": "https://localhost:8080/"
        },
        "id": "oI13GvYT8gUc",
        "outputId": "e841d1cd-6bab-4e57-ed3e-ff5a4ea79f88"
      },
      "execution_count": 60,
      "outputs": [
        {
          "output_type": "stream",
          "name": "stdout",
          "text": [
            "r2 Score Of Test Set : 0.6469818418547824\n"
          ]
        }
      ]
    },
    {
      "cell_type": "code",
      "source": [
        "from sklearn.metrics import mean_squared_error\n",
        "mse = mean_squared_error(Y3_test, prediction3)\n",
        "#rmse = sqrt(mse)\n",
        "mse"
      ],
      "metadata": {
        "colab": {
          "base_uri": "https://localhost:8080/"
        },
        "id": "I7mq_-M_CniY",
        "outputId": "49d12d47-5494-4846-ce9b-700ccd0df6ff"
      },
      "execution_count": 61,
      "outputs": [
        {
          "output_type": "execute_result",
          "data": {
            "text/plain": [
              "0.5487341666992678"
            ]
          },
          "metadata": {},
          "execution_count": 61
        }
      ]
    },
    {
      "cell_type": "code",
      "source": [
        "# example of calculate the mean absolute error\n",
        "from sklearn.metrics import mean_absolute_error\n",
        "# calculate errors\n",
        "errors = mean_absolute_error(Y3_test, prediction3)\n",
        "print(errors)"
      ],
      "metadata": {
        "colab": {
          "base_uri": "https://localhost:8080/"
        },
        "id": "SD8FN5MZC0uG",
        "outputId": "f30882c7-3bbc-49bd-a7df-7a5a949d6b90"
      },
      "execution_count": 62,
      "outputs": [
        {
          "output_type": "stream",
          "name": "stdout",
          "text": [
            "0.4880517278284098\n"
          ]
        }
      ]
    },
    {
      "cell_type": "code",
      "source": [
        "import seaborn as sns\n",
        "import matplotlib.pyplot as plt\n",
        "\n",
        "sns.set(color_codes=True)\n",
        "sns.set_style(\"white\")\n",
        "\n",
        "ax = sns.regplot(Y_test, prediction3, scatter_kws={'alpha':0.4})\n",
        "ax.set_xlabel('Experimental pIC50', fontsize='large', fontweight='bold')\n",
        "ax.set_ylabel('Predicted pIC50', fontsize='large', fontweight='bold')\n",
        "ax.set(title='1D+2D+3D')\n",
        "ax.set_xlim(3, 10)\n",
        "ax.set_ylim(4, 10)\n",
        "ax.figure.set_size_inches(5, 5)\n",
        "plt.show"
      ],
      "metadata": {
        "colab": {
          "base_uri": "https://localhost:8080/",
          "height": 428
        },
        "id": "cHsGFct8C4b6",
        "outputId": "bcc3e3c9-4f6e-42dc-c7df-aae7755b14c9"
      },
      "execution_count": 63,
      "outputs": [
        {
          "output_type": "stream",
          "name": "stderr",
          "text": [
            "/usr/local/lib/python3.7/dist-packages/seaborn/_decorators.py:43: FutureWarning: Pass the following variables as keyword args: x, y. From version 0.12, the only valid positional argument will be `data`, and passing other arguments without an explicit keyword will result in an error or misinterpretation.\n",
            "  FutureWarning\n"
          ]
        },
        {
          "output_type": "execute_result",
          "data": {
            "text/plain": [
              "<function matplotlib.pyplot.show>"
            ]
          },
          "metadata": {},
          "execution_count": 63
        },
        {
          "output_type": "display_data",
          "data": {
            "text/plain": [
              "<Figure size 360x360 with 1 Axes>"
            ],
            "image/png": "[encoded data removed]"
          },
          "metadata": {}
        }
      ]
    },
    {
      "cell_type": "code",
      "source": [
        "x_ax = range(len(Y_test))\n",
        "plt.scatter(x_ax, Y_test, s=5, color=\"blue\", label=\"original\")\n",
        "plt.plot(x_ax, prediction3, lw=0.8, color=\"red\", label=\"predicted\")\n",
        "plt.title(\"1D+2D+3D\")\n",
        "plt.ylabel(\"pIC50\")\n",
        "plt.legend()\n",
        "plt.show() "
      ],
      "metadata": {
        "colab": {
          "base_uri": "https://localhost:8080/",
          "height": 393
        },
        "id": "49qs2M7vdUcE",
        "outputId": "e03dcea9-13a9-4bf4-fe32-00cdb2c61594"
      },
      "execution_count": 64,
      "outputs": [
        {
          "output_type": "display_data",
          "data": {
            "text/plain": [
              "<Figure size 1152x432 with 1 Axes>"
            ],
            "image/png": "[encoded data removed]"
          },
          "metadata": {}
        }
      ]
    },
    {
      "cell_type": "markdown",
      "source": [
        "##2D+3D+F"
      ],
      "metadata": {
        "id": "Qu69QNJtNTCi"
      }
    },
    {
      "cell_type": "code",
      "source": [
        "df4 = pd.merge(df, df3, how=\"left\", on=[\"Name\"])"
      ],
      "metadata": {
        "id": "BtclsA75Hxxf"
      },
      "execution_count": 65,
      "outputs": []
    },
    {
      "cell_type": "code",
      "source": [
        "X4= df4.drop('Name', axis=1)\n",
        "X4"
      ],
      "metadata": {
        "colab": {
          "base_uri": "https://localhost:8080/",
          "height": 424
        },
        "id": "Ju3DsEpZIjWV",
        "outputId": "c80664bb-8651-4643-b604-4836f9434365"
      },
      "execution_count": 66,
      "outputs": [
        {
          "output_type": "execute_result",
          "data": {
            "text/plain": [
              "     FP1  FP2  FP3  FP4  FP5  FP6  FP7  FP8  FP9  FP10  ...       P1s  \\\n",
              "0      1    0    0    1    0    0    0    0    0     0  ...  0.840189   \n",
              "1      0    0    0    0    1    0    1    0    1     0  ...  0.863471   \n",
              "2      0    0    0    0    1    0    1    0    0     1  ...  0.697043   \n",
              "3      0    0    0    0    1    0    0    1    0     0  ...  0.885563   \n",
              "4      1    1    1    0    1    0    1    1    1     0  ...  0.812606   \n",
              "..   ...  ...  ...  ...  ...  ...  ...  ...  ...   ...  ...       ...   \n",
              "765    0    1    1    0    0    0    0    0    0     0  ...  0.854325   \n",
              "766    0    0    0    0    1    0    0    0    0     0  ...  0.661971   \n",
              "767    1    0    0    0    1    1    0    0    1     0  ...  0.773830   \n",
              "768    1    0    0    0    1    1    0    0    1     0  ...  0.782789   \n",
              "769    1    0    0    0    0    0    0    0    1     0  ...  0.924635   \n",
              "\n",
              "          P2s       E1s       E2s       E3s         Ts          As  \\\n",
              "0    0.135543  0.633989  0.335856  0.234206  26.442340   96.181953   \n",
              "1    0.107429  0.531981  0.436635  0.433203  52.473404  333.208877   \n",
              "2    0.199940  0.664555  0.401713  0.446637  33.048866  253.146736   \n",
              "3    0.092530  0.582566  0.354198  0.419757  43.745290  197.810300   \n",
              "4    0.106545  0.575021  0.523626  0.401330  49.307849  391.169069   \n",
              "..        ...       ...       ...       ...        ...         ...   \n",
              "765  0.076205  0.568053  0.421117  0.408899  23.762793   73.264902   \n",
              "766  0.215487  0.518928  0.398162  0.375722  17.409774   75.827005   \n",
              "767  0.200030  0.680893  0.542107  0.381504  63.854530  734.933217   \n",
              "768  0.190521  0.667738  0.530499  0.365604  67.766071  804.173380   \n",
              "769  0.039728  0.590047  0.423514  0.416184  70.591577  354.309996   \n",
              "\n",
              "              Vs        Ks        Ds  \n",
              "0     173.720274  0.760284  1.204051  \n",
              "1     775.688308  0.795207  1.401819  \n",
              "2     804.441768  0.545565  1.512906  \n",
              "3     391.828006  0.828345  1.356521  \n",
              "4    1279.615826  0.718910  1.499977  \n",
              "..           ...       ...       ...  \n",
              "765   157.715173  0.781487  1.398069  \n",
              "766   185.477639  0.492957  1.292812  \n",
              "767  1852.223463  0.660746  1.604505  \n",
              "768  2110.665999  0.674183  1.563841  \n",
              "769   885.404330  0.886952  1.429745  \n",
              "\n",
              "[770 rows x 17904 columns]"
            ],
            "text/html": [
              "\n",
              "  <div id=\"df-bff372cf-f994-40d4-b6f6-e6a333e8d66f\">\n",
              "    <div class=\"colab-df-container\">\n",
              "      <div>\n",
              "<style scoped>\n",
              "    .dataframe tbody tr th:only-of-type {\n",
              "        vertical-align: middle;\n",
              "    }\n",
              "\n",
              "    .dataframe tbody tr th {\n",
              "        vertical-align: top;\n",
              "    }\n",
              "\n",
              "    .dataframe thead th {\n",
              "        text-align: right;\n",
              "    }\n",
              "</style>\n",
              "<table border=\"1\" class=\"dataframe\">\n",
              "  <thead>\n",
              "    <tr style=\"text-align: right;\">\n",
              "      <th></th>\n",
              "      <th>FP1</th>\n",
              "      <th>FP2</th>\n",
              "      <th>FP3</th>\n",
              "      <th>FP4</th>\n",
              "      <th>FP5</th>\n",
              "      <th>FP6</th>\n",
              "      <th>FP7</th>\n",
              "      <th>FP8</th>\n",
              "      <th>FP9</th>\n",
              "      <th>FP10</th>\n",
              "      <th>...</th>\n",
              "      <th>P1s</th>\n",
              "      <th>P2s</th>\n",
              "      <th>E1s</th>\n",
              "      <th>E2s</th>\n",
              "      <th>E3s</th>\n",
              "      <th>Ts</th>\n",
              "      <th>As</th>\n",
              "      <th>Vs</th>\n",
              "      <th>Ks</th>\n",
              "      <th>Ds</th>\n",
              "    </tr>\n",
              "  </thead>\n",
              "  <tbody>\n",
              "    <tr>\n",
              "      <th>0</th>\n",
              "      <td>1</td>\n",
              "      <td>0</td>\n",
              "      <td>0</td>\n",
              "      <td>1</td>\n",
              "      <td>0</td>\n",
              "      <td>0</td>\n",
              "      <td>0</td>\n",
              "      <td>0</td>\n",
              "      <td>0</td>\n",
              "      <td>0</td>\n",
              "      <td>...</td>\n",
              "      <td>0.840189</td>\n",
              "      <td>0.135543</td>\n",
              "      <td>0.633989</td>\n",
              "      <td>0.335856</td>\n",
              "      <td>0.234206</td>\n",
              "      <td>26.442340</td>\n",
              "      <td>96.181953</td>\n",
              "      <td>173.720274</td>\n",
              "      <td>0.760284</td>\n",
              "      <td>1.204051</td>\n",
              "    </tr>\n",
              "    <tr>\n",
              "      <th>1</th>\n",
              "      <td>0</td>\n",
              "      <td>0</td>\n",
              "      <td>0</td>\n",
              "      <td>0</td>\n",
              "      <td>1</td>\n",
              "      <td>0</td>\n",
              "      <td>1</td>\n",
              "      <td>0</td>\n",
              "      <td>1</td>\n",
              "      <td>0</td>\n",
              "      <td>...</td>\n",
              "      <td>0.863471</td>\n",
              "      <td>0.107429</td>\n",
              "      <td>0.531981</td>\n",
              "      <td>0.436635</td>\n",
              "      <td>0.433203</td>\n",
              "      <td>52.473404</td>\n",
              "      <td>333.208877</td>\n",
              "      <td>775.688308</td>\n",
              "      <td>0.795207</td>\n",
              "      <td>1.401819</td>\n",
              "    </tr>\n",
              "    <tr>\n",
              "      <th>2</th>\n",
              "      <td>0</td>\n",
              "      <td>0</td>\n",
              "      <td>0</td>\n",
              "      <td>0</td>\n",
              "      <td>1</td>\n",
              "      <td>0</td>\n",
              "      <td>1</td>\n",
              "      <td>0</td>\n",
              "      <td>0</td>\n",
              "      <td>1</td>\n",
              "      <td>...</td>\n",
              "      <td>0.697043</td>\n",
              "      <td>0.199940</td>\n",
              "      <td>0.664555</td>\n",
              "      <td>0.401713</td>\n",
              "      <td>0.446637</td>\n",
              "      <td>33.048866</td>\n",
              "      <td>253.146736</td>\n",
              "      <td>804.441768</td>\n",
              "      <td>0.545565</td>\n",
              "      <td>1.512906</td>\n",
              "    </tr>\n",
              "    <tr>\n",
              "      <th>3</th>\n",
              "      <td>0</td>\n",
              "      <td>0</td>\n",
              "      <td>0</td>\n",
              "      <td>0</td>\n",
              "      <td>1</td>\n",
              "      <td>0</td>\n",
              "      <td>0</td>\n",
              "      <td>1</td>\n",
              "      <td>0</td>\n",
              "      <td>0</td>\n",
              "      <td>...</td>\n",
              "      <td>0.885563</td>\n",
              "      <td>0.092530</td>\n",
              "      <td>0.582566</td>\n",
              "      <td>0.354198</td>\n",
              "      <td>0.419757</td>\n",
              "      <td>43.745290</td>\n",
              "      <td>197.810300</td>\n",
              "      <td>391.828006</td>\n",
              "      <td>0.828345</td>\n",
              "      <td>1.356521</td>\n",
              "    </tr>\n",
              "    <tr>\n",
              "      <th>4</th>\n",
              "      <td>1</td>\n",
              "      <td>1</td>\n",
              "      <td>1</td>\n",
              "      <td>0</td>\n",
              "      <td>1</td>\n",
              "      <td>0</td>\n",
              "      <td>1</td>\n",
              "      <td>1</td>\n",
              "      <td>1</td>\n",
              "      <td>0</td>\n",
              "      <td>...</td>\n",
              "      <td>0.812606</td>\n",
              "      <td>0.106545</td>\n",
              "      <td>0.575021</td>\n",
              "      <td>0.523626</td>\n",
              "      <td>0.401330</td>\n",
              "      <td>49.307849</td>\n",
              "      <td>391.169069</td>\n",
              "      <td>1279.615826</td>\n",
              "      <td>0.718910</td>\n",
              "      <td>1.499977</td>\n",
              "    </tr>\n",
              "    <tr>\n",
              "      <th>...</th>\n",
              "      <td>...</td>\n",
              "      <td>...</td>\n",
              "      <td>...</td>\n",
              "      <td>...</td>\n",
              "      <td>...</td>\n",
              "      <td>...</td>\n",
              "      <td>...</td>\n",
              "      <td>...</td>\n",
              "      <td>...</td>\n",
              "      <td>...</td>\n",
              "      <td>...</td>\n",
              "      <td>...</td>\n",
              "      <td>...</td>\n",
              "      <td>...</td>\n",
              "      <td>...</td>\n",
              "      <td>...</td>\n",
              "      <td>...</td>\n",
              "      <td>...</td>\n",
              "      <td>...</td>\n",
              "      <td>...</td>\n",
              "      <td>...</td>\n",
              "    </tr>\n",
              "    <tr>\n",
              "      <th>765</th>\n",
              "      <td>0</td>\n",
              "      <td>1</td>\n",
              "      <td>1</td>\n",
              "      <td>0</td>\n",
              "      <td>0</td>\n",
              "      <td>0</td>\n",
              "      <td>0</td>\n",
              "      <td>0</td>\n",
              "      <td>0</td>\n",
              "      <td>0</td>\n",
              "      <td>...</td>\n",
              "      <td>0.854325</td>\n",
              "      <td>0.076205</td>\n",
              "      <td>0.568053</td>\n",
              "      <td>0.421117</td>\n",
              "      <td>0.408899</td>\n",
              "      <td>23.762793</td>\n",
              "      <td>73.264902</td>\n",
              "      <td>157.715173</td>\n",
              "      <td>0.781487</td>\n",
              "      <td>1.398069</td>\n",
              "    </tr>\n",
              "    <tr>\n",
              "      <th>766</th>\n",
              "      <td>0</td>\n",
              "      <td>0</td>\n",
              "      <td>0</td>\n",
              "      <td>0</td>\n",
              "      <td>1</td>\n",
              "      <td>0</td>\n",
              "      <td>0</td>\n",
              "      <td>0</td>\n",
              "      <td>0</td>\n",
              "      <td>0</td>\n",
              "      <td>...</td>\n",
              "      <td>0.661971</td>\n",
              "      <td>0.215487</td>\n",
              "      <td>0.518928</td>\n",
              "      <td>0.398162</td>\n",
              "      <td>0.375722</td>\n",
              "      <td>17.409774</td>\n",
              "      <td>75.827005</td>\n",
              "      <td>185.477639</td>\n",
              "      <td>0.492957</td>\n",
              "      <td>1.292812</td>\n",
              "    </tr>\n",
              "    <tr>\n",
              "      <th>767</th>\n",
              "      <td>1</td>\n",
              "      <td>0</td>\n",
              "      <td>0</td>\n",
              "      <td>0</td>\n",
              "      <td>1</td>\n",
              "      <td>1</td>\n",
              "      <td>0</td>\n",
              "      <td>0</td>\n",
              "      <td>1</td>\n",
              "      <td>0</td>\n",
              "      <td>...</td>\n",
              "      <td>0.773830</td>\n",
              "      <td>0.200030</td>\n",
              "      <td>0.680893</td>\n",
              "      <td>0.542107</td>\n",
              "      <td>0.381504</td>\n",
              "      <td>63.854530</td>\n",
              "      <td>734.933217</td>\n",
              "      <td>1852.223463</td>\n",
              "      <td>0.660746</td>\n",
              "      <td>1.604505</td>\n",
              "    </tr>\n",
              "    <tr>\n",
              "      <th>768</th>\n",
              "      <td>1</td>\n",
              "      <td>0</td>\n",
              "      <td>0</td>\n",
              "      <td>0</td>\n",
              "      <td>1</td>\n",
              "      <td>1</td>\n",
              "      <td>0</td>\n",
              "      <td>0</td>\n",
              "      <td>1</td>\n",
              "      <td>0</td>\n",
              "      <td>...</td>\n",
              "      <td>0.782789</td>\n",
              "      <td>0.190521</td>\n",
              "      <td>0.667738</td>\n",
              "      <td>0.530499</td>\n",
              "      <td>0.365604</td>\n",
              "      <td>67.766071</td>\n",
              "      <td>804.173380</td>\n",
              "      <td>2110.665999</td>\n",
              "      <td>0.674183</td>\n",
              "      <td>1.563841</td>\n",
              "    </tr>\n",
              "    <tr>\n",
              "      <th>769</th>\n",
              "      <td>1</td>\n",
              "      <td>0</td>\n",
              "      <td>0</td>\n",
              "      <td>0</td>\n",
              "      <td>0</td>\n",
              "      <td>0</td>\n",
              "      <td>0</td>\n",
              "      <td>0</td>\n",
              "      <td>1</td>\n",
              "      <td>0</td>\n",
              "      <td>...</td>\n",
              "      <td>0.924635</td>\n",
              "      <td>0.039728</td>\n",
              "      <td>0.590047</td>\n",
              "      <td>0.423514</td>\n",
              "      <td>0.416184</td>\n",
              "      <td>70.591577</td>\n",
              "      <td>354.309996</td>\n",
              "      <td>885.404330</td>\n",
              "      <td>0.886952</td>\n",
              "      <td>1.429745</td>\n",
              "    </tr>\n",
              "  </tbody>\n",
              "</table>\n",
              "<p>770 rows × 17904 columns</p>\n",
              "</div>\n",
              "      <button class=\"colab-df-convert\" onclick=\"convertToInteractive('df-bff372cf-f994-40d4-b6f6-e6a333e8d66f')\"\n",
              "              title=\"Convert this dataframe to an interactive table.\"\n",
              "              style=\"display:none;\">\n",
              "        \n",
              "  <svg xmlns=\"http://www.w3.org/2000/svg\" height=\"24px\"viewBox=\"0 0 24 24\"\n",
              "       width=\"24px\">\n",
              "    <path d=\"M0 0h24v24H0V0z\" fill=\"none\"/>\n",
              "    <path d=\"M18.56 5.44l.94 2.06.94-2.06 2.06-.94-2.06-.94-.94-2.06-.94 2.06-2.06.94zm-11 1L8.5 8.5l.94-2.06 2.06-.94-2.06-.94L8.5 2.5l-.94 2.06-2.06.94zm10 10l.94 2.06.94-2.06 2.06-.94-2.06-.94-.94-2.06-.94 2.06-2.06.94z\"/><path d=\"M17.41 7.96l-1.37-1.37c-.4-.4-.92-.59-1.43-.59-.52 0-1.04.2-1.43.59L10.3 9.45l-7.72 7.72c-.78.78-.78 2.05 0 2.83L4 21.41c.39.39.9.59 1.41.59.51 0 1.02-.2 1.41-.59l7.78-7.78 2.81-2.81c.8-.78.8-2.07 0-2.86zM5.41 20L4 18.59l7.72-7.72 1.47 1.35L5.41 20z\"/>\n",
              "  </svg>\n",
              "      </button>\n",
              "      \n",
              "  <style>\n",
              "    .colab-df-container {\n",
              "      display:flex;\n",
              "      flex-wrap:wrap;\n",
              "      gap: 12px;\n",
              "    }\n",
              "\n",
              "    .colab-df-convert {\n",
              "      background-color: #E8F0FE;\n",
              "      border: none;\n",
              "      border-radius: 50%;\n",
              "      cursor: pointer;\n",
              "      display: none;\n",
              "      fill: #1967D2;\n",
              "      height: 32px;\n",
              "      padding: 0 0 0 0;\n",
              "      width: 32px;\n",
              "    }\n",
              "\n",
              "    .colab-df-convert:hover {\n",
              "      background-color: #E2EBFA;\n",
              "      box-shadow: 0px 1px 2px rgba(60, 64, 67, 0.3), 0px 1px 3px 1px rgba(60, 64, 67, 0.15);\n",
              "      fill: #174EA6;\n",
              "    }\n",
              "\n",
              "    [theme=dark] .colab-df-convert {\n",
              "      background-color: #3B4455;\n",
              "      fill: #D2E3FC;\n",
              "    }\n",
              "\n",
              "    [theme=dark] .colab-df-convert:hover {\n",
              "      background-color: #434B5C;\n",
              "      box-shadow: 0px 1px 3px 1px rgba(0, 0, 0, 0.15);\n",
              "      filter: drop-shadow(0px 1px 2px rgba(0, 0, 0, 0.3));\n",
              "      fill: #FFFFFF;\n",
              "    }\n",
              "  </style>\n",
              "\n",
              "      <script>\n",
              "        const buttonEl =\n",
              "          document.querySelector('#df-bff372cf-f994-40d4-b6f6-e6a333e8d66f button.colab-df-convert');\n",
              "        buttonEl.style.display =\n",
              "          google.colab.kernel.accessAllowed ? 'block' : 'none';\n",
              "\n",
              "        async function convertToInteractive(key) {\n",
              "          const element = document.querySelector('#df-bff372cf-f994-40d4-b6f6-e6a333e8d66f');\n",
              "          const dataTable =\n",
              "            await google.colab.kernel.invokeFunction('convertToInteractive',\n",
              "                                                     [key], {});\n",
              "          if (!dataTable) return;\n",
              "\n",
              "          const docLinkHtml = 'Like what you see? Visit the ' +\n",
              "            '<a target=\"_blank\" href=https://colab.research.google.com/notebooks/data_table.ipynb>data table notebook</a>'\n",
              "            + ' to learn more about interactive tables.';\n",
              "          element.innerHTML = '';\n",
              "          dataTable['output_type'] = 'display_data';\n",
              "          await google.colab.output.renderOutput(dataTable, element);\n",
              "          const docLink = document.createElement('div');\n",
              "          docLink.innerHTML = docLinkHtml;\n",
              "          element.appendChild(docLink);\n",
              "        }\n",
              "      </script>\n",
              "    </div>\n",
              "  </div>\n",
              "  "
            ]
          },
          "metadata": {},
          "execution_count": 66
        }
      ]
    },
    {
      "cell_type": "code",
      "source": [
        "from sklearn.feature_selection import VarianceThreshold\n",
        "selection = VarianceThreshold(threshold=(.8 * (1 - .8)))    \n",
        "X4 = selection.fit_transform(X4)"
      ],
      "metadata": {
        "id": "VUS7EkzWItRq"
      },
      "execution_count": 67,
      "outputs": []
    },
    {
      "cell_type": "code",
      "source": [
        "X4.shape"
      ],
      "metadata": {
        "colab": {
          "base_uri": "https://localhost:8080/"
        },
        "id": "QPbNotvjaLWA",
        "outputId": "cb6670dc-9182-4069-93f6-686ff58a7d3d"
      },
      "execution_count": 68,
      "outputs": [
        {
          "output_type": "execute_result",
          "data": {
            "text/plain": [
              "(770, 2893)"
            ]
          },
          "metadata": {},
          "execution_count": 68
        }
      ]
    },
    {
      "cell_type": "code",
      "source": [
        "Y"
      ],
      "metadata": {
        "colab": {
          "base_uri": "https://localhost:8080/"
        },
        "id": "mFQ0h9OaI4ma",
        "outputId": "e3594131-ca02-46fb-f839-88d4a5c17cd2"
      },
      "execution_count": 69,
      "outputs": [
        {
          "output_type": "execute_result",
          "data": {
            "text/plain": [
              "0      7.421361\n",
              "1      4.397940\n",
              "2      4.698970\n",
              "3      4.698970\n",
              "4      5.667562\n",
              "         ...   \n",
              "765    9.000000\n",
              "766    7.829738\n",
              "767    7.065502\n",
              "768    7.657577\n",
              "769    7.078834\n",
              "Name: pIC50, Length: 770, dtype: float64"
            ]
          },
          "metadata": {},
          "execution_count": 69
        }
      ]
    },
    {
      "cell_type": "code",
      "source": [
        "# Splitting dataset into training and testing sets\n",
        "X4_train, X4_test, Y_train, Y_test = train_test_split(X4, Y, test_size = 0.2, random_state = 42)\n",
        "   \n",
        "# Creating and training model\n",
        "model4 = RandomForestRegressor(n_estimators=100, random_state= 0)\n",
        "model4.fit(X4_train, Y_train)\n",
        "   \n",
        "# Model making a prediction on test data\n",
        "prediction4 = model4.predict(X4_test)\n",
        "   \n",
        "# Evaluation of r2 score of the model against the test set\n",
        "print(f\"r2 Score Of Test Set : {r2_score(Y_test, prediction4)}\")"
      ],
      "metadata": {
        "colab": {
          "base_uri": "https://localhost:8080/"
        },
        "id": "SPv9X7TcIx-N",
        "outputId": "18bfdb1d-73b8-42f7-eef9-2e5f9439a832"
      },
      "execution_count": 70,
      "outputs": [
        {
          "output_type": "stream",
          "name": "stdout",
          "text": [
            "r2 Score Of Test Set : 0.6709106192472531\n"
          ]
        }
      ]
    },
    {
      "cell_type": "code",
      "source": [
        "from sklearn.metrics import mean_squared_error\n",
        "mse = mean_squared_error(Y_test, prediction4)\n",
        "#rmse = sqrt(mse)\n",
        "mse"
      ],
      "metadata": {
        "colab": {
          "base_uri": "https://localhost:8080/"
        },
        "id": "pdAbKqxaJDtO",
        "outputId": "976315f2-ad8d-4492-fe0f-a53b0955d220"
      },
      "execution_count": 72,
      "outputs": [
        {
          "output_type": "execute_result",
          "data": {
            "text/plain": [
              "0.5115390892800818"
            ]
          },
          "metadata": {},
          "execution_count": 72
        }
      ]
    },
    {
      "cell_type": "code",
      "source": [
        "# example of calculate the mean absolute error\n",
        "from sklearn.metrics import mean_absolute_error\n",
        "# calculate errors\n",
        "errors = mean_absolute_error(Y_test, prediction4)\n",
        "print(errors)"
      ],
      "metadata": {
        "colab": {
          "base_uri": "https://localhost:8080/"
        },
        "id": "RPBZT74dJs_4",
        "outputId": "deeeccd7-fe34-4fbb-cc51-2f8192465754"
      },
      "execution_count": 73,
      "outputs": [
        {
          "output_type": "stream",
          "name": "stdout",
          "text": [
            "0.4678242472131324\n"
          ]
        }
      ]
    },
    {
      "cell_type": "code",
      "source": [
        "x_ax = range(len(Y_test))\n",
        "plt.scatter(x_ax, Y_test, s=5, color=\"blue\", label=\"original\")\n",
        "plt.plot(x_ax, prediction4, lw=0.8, color=\"red\", label=\"predicted\")\n",
        "plt.title(\"1D+2D+3D+CF\")\n",
        "plt.ylabel(\"pIC50\")\n",
        "plt.legend()\n",
        "plt.show() "
      ],
      "metadata": {
        "colab": {
          "base_uri": "https://localhost:8080/",
          "height": 393
        },
        "id": "zGyScpyIeGZH",
        "outputId": "b3481457-c706-4352-cdc4-3a2122cac8d3"
      },
      "execution_count": 74,
      "outputs": [
        {
          "output_type": "display_data",
          "data": {
            "text/plain": [
              "<Figure size 1152x432 with 1 Axes>"
            ],
            "image/png": "[encoded data removed]"
          },
          "metadata": {}
        }
      ]
    },
    {
      "cell_type": "code",
      "source": [
        "import seaborn as sns\n",
        "import matplotlib.pyplot as plt\n",
        "\n",
        "sns.set(color_codes=True)\n",
        "sns.set_style(\"white\")\n",
        "\n",
        "ax = sns.regplot(Y_test, prediction4, scatter_kws={'alpha':0.4})\n",
        "ax.set_xlabel('Experimental pIC50', fontsize='large', fontweight='bold')\n",
        "ax.set_ylabel('Predicted pIC50', fontsize='large', fontweight='bold')\n",
        "ax.set(title='1D+2D+3D+CF')\n",
        "ax.set_xlim(3, 10)\n",
        "ax.set_ylim(3, 10)\n",
        "ax.figure.set_size_inches(5, 5)\n",
        "plt.show"
      ],
      "metadata": {
        "colab": {
          "base_uri": "https://localhost:8080/",
          "height": 428
        },
        "id": "VtuI69F1J6Bd",
        "outputId": "2fe867ac-7fc2-4687-ad8c-b3ac78d71706"
      },
      "execution_count": 75,
      "outputs": [
        {
          "output_type": "stream",
          "name": "stderr",
          "text": [
            "/usr/local/lib/python3.7/dist-packages/seaborn/_decorators.py:43: FutureWarning: Pass the following variables as keyword args: x, y. From version 0.12, the only valid positional argument will be `data`, and passing other arguments without an explicit keyword will result in an error or misinterpretation.\n",
            "  FutureWarning\n"
          ]
        },
        {
          "output_type": "execute_result",
          "data": {
            "text/plain": [
              "<function matplotlib.pyplot.show>"
            ]
          },
          "metadata": {},
          "execution_count": 75
        },
        {
          "output_type": "display_data",
          "data": {
            "text/plain": [
              "<Figure size 360x360 with 1 Axes>"
            ],
            "image/png": "[encoded data removed]"
          },
          "metadata": {}
        }
      ]
    },
    {
      "cell_type": "markdown",
      "source": [
        "##2D+3D+F+USR"
      ],
      "metadata": {
        "id": "cgJvzB5PNZJG"
      }
    },
    {
      "cell_type": "code",
      "source": [
        "df5= pd.read_csv('USR_df.csv')"
      ],
      "metadata": {
        "id": "5RV5XqA8J8Y_"
      },
      "execution_count": null,
      "outputs": []
    },
    {
      "cell_type": "code",
      "source": [
        "df5 = pd.merge(df5, df4, on=[\"Name\"])"
      ],
      "metadata": {
        "id": "pPnoC9tHKIWk"
      },
      "execution_count": null,
      "outputs": []
    },
    {
      "cell_type": "code",
      "source": [
        "df_y2 = df_y[['Name', 'pIC50']]"
      ],
      "metadata": {
        "id": "lEaZN94PLSE5"
      },
      "execution_count": null,
      "outputs": []
    },
    {
      "cell_type": "code",
      "source": [
        "Y5= pd.merge(df5['Name'], df_y2, on=[\"Name\"])"
      ],
      "metadata": {
        "id": "t7n3IU5LK5gK"
      },
      "execution_count": null,
      "outputs": []
    },
    {
      "cell_type": "code",
      "source": [
        "df5 = pd.merge(df5, Y5, on=[\"Name\"])"
      ],
      "metadata": {
        "id": "A4yGAzwACn1Q"
      },
      "execution_count": null,
      "outputs": []
    },
    {
      "cell_type": "code",
      "source": [
        "df5"
      ],
      "metadata": {
        "colab": {
          "base_uri": "https://localhost:8080/",
          "height": 487
        },
        "id": "hD-tdPPdihCM",
        "outputId": "08ca75fb-c1f5-4933-fc54-002a2cb5bb2a"
      },
      "execution_count": null,
      "outputs": [
        {
          "output_type": "execute_result",
          "data": {
            "text/plain": [
              "             Name     USR_1     USR_2     USR_3     USR_4     USR_5     USR_6  \\\n",
              "0    CHEMBL100624  5.111275  2.327562  0.521235  5.182383  2.412567  0.261987   \n",
              "1    CHEMBL102194  7.633311  3.713499  0.441644  7.719860  3.774694  0.069655   \n",
              "2       CHEMBL104  3.316825  1.164268 -0.652970  3.320040  1.202429 -0.684216   \n",
              "3    CHEMBL104061  6.317170  2.388525  0.542856  6.389362  2.895002  0.329128   \n",
              "4    CHEMBL104076  6.719421  2.934223  0.454294  6.840300  3.259092  0.102403   \n",
              "..            ...       ...       ...       ...       ...       ...       ...   \n",
              "764    CHEMBL9841  2.808262  1.018666 -0.523950  2.794226  1.137191  0.246597   \n",
              "765   CHEMBL98773  4.720246  2.070812  0.541490  4.801094  2.184815  0.000605   \n",
              "766   CHEMBL98975  4.881656  2.179786  0.357767  4.939153  2.259584  0.357407   \n",
              "767   CHEMBL99331  5.254545  2.658496  0.540513  5.272849  2.706642  0.513514   \n",
              "768   CHEMBL99585  5.564692  2.757722  0.537166  5.571316  2.880955  0.561133   \n",
              "\n",
              "         USR_7     USR_8     USR_9  ...       P2s       E1s       E2s  \\\n",
              "0    10.162094  4.857588 -0.587224  ...  0.035630  0.578233  0.466584   \n",
              "1    15.348278  7.987874 -0.198167  ...  0.051874  0.528309  0.450719   \n",
              "2     5.936920  2.267223 -0.921915  ...  0.363760  0.381778  0.347660   \n",
              "3    11.733123  5.730873 -0.738715  ...  0.143069  0.526620  0.428187   \n",
              "4    12.968726  6.691988 -0.536921  ...  0.070443  0.511753  0.418066   \n",
              "..         ...       ...       ...  ...       ...       ...       ...   \n",
              "764   5.211146  2.421948 -0.745038  ...  0.234007  0.539117  0.513825   \n",
              "765   9.403594  4.431506 -0.695848  ...  0.053305  0.563321  0.348926   \n",
              "766   9.725440  4.714075 -0.643144  ...  0.043330  0.546161  0.451717   \n",
              "767  10.339657  5.324793 -0.246769  ...  0.063015  0.551476  0.472611   \n",
              "768  11.339257  5.670711 -0.498089  ...  0.033208  0.576617  0.456166   \n",
              "\n",
              "          E3s         Ts          As          Vs        Ks        Ds     pIC50  \n",
              "0    0.461906  41.495050  101.302079  205.098132  0.907431  1.506723  4.480172  \n",
              "1    0.414840  92.272509  496.130483  958.762968  0.907663  1.393868  7.568636  \n",
              "2    0.354429  12.294133   49.742955  128.054407  0.111979  1.083867  4.947729  \n",
              "3    0.454695  47.080681  323.850715  721.837563  0.742848  1.409502  5.698970  \n",
              "4    0.431086  63.396541  351.071219  806.993652  0.858104  1.360906  5.154902  \n",
              "..        ...        ...         ...         ...       ...       ...       ...  \n",
              "764  0.364002   8.290396   15.247158   29.216612  0.558451  1.416945  4.920819  \n",
              "765  0.327525  32.689484   81.954914  163.485736  0.877189  1.239773  6.096910  \n",
              "766  0.378027  37.253539   79.454247  152.099873  0.909791  1.375905  7.397940  \n",
              "767  0.317871  37.700077  110.363174  210.885417  0.875033  1.341959  4.716699  \n",
              "768  0.385645  48.505846  115.904037  229.431228  0.923062  1.418427  5.619789  \n",
              "\n",
              "[769 rows x 17918 columns]"
            ],
            "text/html": [
              "\n",
              "  <div id=\"df-9af28c9a-f501-4831-87f4-721111d59613\">\n",
              "    <div class=\"colab-df-container\">\n",
              "      <div>\n",
              "<style scoped>\n",
              "    .dataframe tbody tr th:only-of-type {\n",
              "        vertical-align: middle;\n",
              "    }\n",
              "\n",
              "    .dataframe tbody tr th {\n",
              "        vertical-align: top;\n",
              "    }\n",
              "\n",
              "    .dataframe thead th {\n",
              "        text-align: right;\n",
              "    }\n",
              "</style>\n",
              "<table border=\"1\" class=\"dataframe\">\n",
              "  <thead>\n",
              "    <tr style=\"text-align: right;\">\n",
              "      <th></th>\n",
              "      <th>Name</th>\n",
              "      <th>USR_1</th>\n",
              "      <th>USR_2</th>\n",
              "      <th>USR_3</th>\n",
              "      <th>USR_4</th>\n",
              "      <th>USR_5</th>\n",
              "      <th>USR_6</th>\n",
              "      <th>USR_7</th>\n",
              "      <th>USR_8</th>\n",
              "      <th>USR_9</th>\n",
              "      <th>...</th>\n",
              "      <th>P2s</th>\n",
              "      <th>E1s</th>\n",
              "      <th>E2s</th>\n",
              "      <th>E3s</th>\n",
              "      <th>Ts</th>\n",
              "      <th>As</th>\n",
              "      <th>Vs</th>\n",
              "      <th>Ks</th>\n",
              "      <th>Ds</th>\n",
              "      <th>pIC50</th>\n",
              "    </tr>\n",
              "  </thead>\n",
              "  <tbody>\n",
              "    <tr>\n",
              "      <th>0</th>\n",
              "      <td>CHEMBL100624</td>\n",
              "      <td>5.111275</td>\n",
              "      <td>2.327562</td>\n",
              "      <td>0.521235</td>\n",
              "      <td>5.182383</td>\n",
              "      <td>2.412567</td>\n",
              "      <td>0.261987</td>\n",
              "      <td>10.162094</td>\n",
              "      <td>4.857588</td>\n",
              "      <td>-0.587224</td>\n",
              "      <td>...</td>\n",
              "      <td>0.035630</td>\n",
              "      <td>0.578233</td>\n",
              "      <td>0.466584</td>\n",
              "      <td>0.461906</td>\n",
              "      <td>41.495050</td>\n",
              "      <td>101.302079</td>\n",
              "      <td>205.098132</td>\n",
              "      <td>0.907431</td>\n",
              "      <td>1.506723</td>\n",
              "      <td>4.480172</td>\n",
              "    </tr>\n",
              "    <tr>\n",
              "      <th>1</th>\n",
              "      <td>CHEMBL102194</td>\n",
              "      <td>7.633311</td>\n",
              "      <td>3.713499</td>\n",
              "      <td>0.441644</td>\n",
              "      <td>7.719860</td>\n",
              "      <td>3.774694</td>\n",
              "      <td>0.069655</td>\n",
              "      <td>15.348278</td>\n",
              "      <td>7.987874</td>\n",
              "      <td>-0.198167</td>\n",
              "      <td>...</td>\n",
              "      <td>0.051874</td>\n",
              "      <td>0.528309</td>\n",
              "      <td>0.450719</td>\n",
              "      <td>0.414840</td>\n",
              "      <td>92.272509</td>\n",
              "      <td>496.130483</td>\n",
              "      <td>958.762968</td>\n",
              "      <td>0.907663</td>\n",
              "      <td>1.393868</td>\n",
              "      <td>7.568636</td>\n",
              "    </tr>\n",
              "    <tr>\n",
              "      <th>2</th>\n",
              "      <td>CHEMBL104</td>\n",
              "      <td>3.316825</td>\n",
              "      <td>1.164268</td>\n",
              "      <td>-0.652970</td>\n",
              "      <td>3.320040</td>\n",
              "      <td>1.202429</td>\n",
              "      <td>-0.684216</td>\n",
              "      <td>5.936920</td>\n",
              "      <td>2.267223</td>\n",
              "      <td>-0.921915</td>\n",
              "      <td>...</td>\n",
              "      <td>0.363760</td>\n",
              "      <td>0.381778</td>\n",
              "      <td>0.347660</td>\n",
              "      <td>0.354429</td>\n",
              "      <td>12.294133</td>\n",
              "      <td>49.742955</td>\n",
              "      <td>128.054407</td>\n",
              "      <td>0.111979</td>\n",
              "      <td>1.083867</td>\n",
              "      <td>4.947729</td>\n",
              "    </tr>\n",
              "    <tr>\n",
              "      <th>3</th>\n",
              "      <td>CHEMBL104061</td>\n",
              "      <td>6.317170</td>\n",
              "      <td>2.388525</td>\n",
              "      <td>0.542856</td>\n",
              "      <td>6.389362</td>\n",
              "      <td>2.895002</td>\n",
              "      <td>0.329128</td>\n",
              "      <td>11.733123</td>\n",
              "      <td>5.730873</td>\n",
              "      <td>-0.738715</td>\n",
              "      <td>...</td>\n",
              "      <td>0.143069</td>\n",
              "      <td>0.526620</td>\n",
              "      <td>0.428187</td>\n",
              "      <td>0.454695</td>\n",
              "      <td>47.080681</td>\n",
              "      <td>323.850715</td>\n",
              "      <td>721.837563</td>\n",
              "      <td>0.742848</td>\n",
              "      <td>1.409502</td>\n",
              "      <td>5.698970</td>\n",
              "    </tr>\n",
              "    <tr>\n",
              "      <th>4</th>\n",
              "      <td>CHEMBL104076</td>\n",
              "      <td>6.719421</td>\n",
              "      <td>2.934223</td>\n",
              "      <td>0.454294</td>\n",
              "      <td>6.840300</td>\n",
              "      <td>3.259092</td>\n",
              "      <td>0.102403</td>\n",
              "      <td>12.968726</td>\n",
              "      <td>6.691988</td>\n",
              "      <td>-0.536921</td>\n",
              "      <td>...</td>\n",
              "      <td>0.070443</td>\n",
              "      <td>0.511753</td>\n",
              "      <td>0.418066</td>\n",
              "      <td>0.431086</td>\n",
              "      <td>63.396541</td>\n",
              "      <td>351.071219</td>\n",
              "      <td>806.993652</td>\n",
              "      <td>0.858104</td>\n",
              "      <td>1.360906</td>\n",
              "      <td>5.154902</td>\n",
              "    </tr>\n",
              "    <tr>\n",
              "      <th>...</th>\n",
              "      <td>...</td>\n",
              "      <td>...</td>\n",
              "      <td>...</td>\n",
              "      <td>...</td>\n",
              "      <td>...</td>\n",
              "      <td>...</td>\n",
              "      <td>...</td>\n",
              "      <td>...</td>\n",
              "      <td>...</td>\n",
              "      <td>...</td>\n",
              "      <td>...</td>\n",
              "      <td>...</td>\n",
              "      <td>...</td>\n",
              "      <td>...</td>\n",
              "      <td>...</td>\n",
              "      <td>...</td>\n",
              "      <td>...</td>\n",
              "      <td>...</td>\n",
              "      <td>...</td>\n",
              "      <td>...</td>\n",
              "      <td>...</td>\n",
              "    </tr>\n",
              "    <tr>\n",
              "      <th>764</th>\n",
              "      <td>CHEMBL9841</td>\n",
              "      <td>2.808262</td>\n",
              "      <td>1.018666</td>\n",
              "      <td>-0.523950</td>\n",
              "      <td>2.794226</td>\n",
              "      <td>1.137191</td>\n",
              "      <td>0.246597</td>\n",
              "      <td>5.211146</td>\n",
              "      <td>2.421948</td>\n",
              "      <td>-0.745038</td>\n",
              "      <td>...</td>\n",
              "      <td>0.234007</td>\n",
              "      <td>0.539117</td>\n",
              "      <td>0.513825</td>\n",
              "      <td>0.364002</td>\n",
              "      <td>8.290396</td>\n",
              "      <td>15.247158</td>\n",
              "      <td>29.216612</td>\n",
              "      <td>0.558451</td>\n",
              "      <td>1.416945</td>\n",
              "      <td>4.920819</td>\n",
              "    </tr>\n",
              "    <tr>\n",
              "      <th>765</th>\n",
              "      <td>CHEMBL98773</td>\n",
              "      <td>4.720246</td>\n",
              "      <td>2.070812</td>\n",
              "      <td>0.541490</td>\n",
              "      <td>4.801094</td>\n",
              "      <td>2.184815</td>\n",
              "      <td>0.000605</td>\n",
              "      <td>9.403594</td>\n",
              "      <td>4.431506</td>\n",
              "      <td>-0.695848</td>\n",
              "      <td>...</td>\n",
              "      <td>0.053305</td>\n",
              "      <td>0.563321</td>\n",
              "      <td>0.348926</td>\n",
              "      <td>0.327525</td>\n",
              "      <td>32.689484</td>\n",
              "      <td>81.954914</td>\n",
              "      <td>163.485736</td>\n",
              "      <td>0.877189</td>\n",
              "      <td>1.239773</td>\n",
              "      <td>6.096910</td>\n",
              "    </tr>\n",
              "    <tr>\n",
              "      <th>766</th>\n",
              "      <td>CHEMBL98975</td>\n",
              "      <td>4.881656</td>\n",
              "      <td>2.179786</td>\n",
              "      <td>0.357767</td>\n",
              "      <td>4.939153</td>\n",
              "      <td>2.259584</td>\n",
              "      <td>0.357407</td>\n",
              "      <td>9.725440</td>\n",
              "      <td>4.714075</td>\n",
              "      <td>-0.643144</td>\n",
              "      <td>...</td>\n",
              "      <td>0.043330</td>\n",
              "      <td>0.546161</td>\n",
              "      <td>0.451717</td>\n",
              "      <td>0.378027</td>\n",
              "      <td>37.253539</td>\n",
              "      <td>79.454247</td>\n",
              "      <td>152.099873</td>\n",
              "      <td>0.909791</td>\n",
              "      <td>1.375905</td>\n",
              "      <td>7.397940</td>\n",
              "    </tr>\n",
              "    <tr>\n",
              "      <th>767</th>\n",
              "      <td>CHEMBL99331</td>\n",
              "      <td>5.254545</td>\n",
              "      <td>2.658496</td>\n",
              "      <td>0.540513</td>\n",
              "      <td>5.272849</td>\n",
              "      <td>2.706642</td>\n",
              "      <td>0.513514</td>\n",
              "      <td>10.339657</td>\n",
              "      <td>5.324793</td>\n",
              "      <td>-0.246769</td>\n",
              "      <td>...</td>\n",
              "      <td>0.063015</td>\n",
              "      <td>0.551476</td>\n",
              "      <td>0.472611</td>\n",
              "      <td>0.317871</td>\n",
              "      <td>37.700077</td>\n",
              "      <td>110.363174</td>\n",
              "      <td>210.885417</td>\n",
              "      <td>0.875033</td>\n",
              "      <td>1.341959</td>\n",
              "      <td>4.716699</td>\n",
              "    </tr>\n",
              "    <tr>\n",
              "      <th>768</th>\n",
              "      <td>CHEMBL99585</td>\n",
              "      <td>5.564692</td>\n",
              "      <td>2.757722</td>\n",
              "      <td>0.537166</td>\n",
              "      <td>5.571316</td>\n",
              "      <td>2.880955</td>\n",
              "      <td>0.561133</td>\n",
              "      <td>11.339257</td>\n",
              "      <td>5.670711</td>\n",
              "      <td>-0.498089</td>\n",
              "      <td>...</td>\n",
              "      <td>0.033208</td>\n",
              "      <td>0.576617</td>\n",
              "      <td>0.456166</td>\n",
              "      <td>0.385645</td>\n",
              "      <td>48.505846</td>\n",
              "      <td>115.904037</td>\n",
              "      <td>229.431228</td>\n",
              "      <td>0.923062</td>\n",
              "      <td>1.418427</td>\n",
              "      <td>5.619789</td>\n",
              "    </tr>\n",
              "  </tbody>\n",
              "</table>\n",
              "<p>769 rows × 17918 columns</p>\n",
              "</div>\n",
              "      <button class=\"colab-df-convert\" onclick=\"convertToInteractive('df-9af28c9a-f501-4831-87f4-721111d59613')\"\n",
              "              title=\"Convert this dataframe to an interactive table.\"\n",
              "              style=\"display:none;\">\n",
              "        \n",
              "  <svg xmlns=\"http://www.w3.org/2000/svg\" height=\"24px\"viewBox=\"0 0 24 24\"\n",
              "       width=\"24px\">\n",
              "    <path d=\"M0 0h24v24H0V0z\" fill=\"none\"/>\n",
              "    <path d=\"M18.56 5.44l.94 2.06.94-2.06 2.06-.94-2.06-.94-.94-2.06-.94 2.06-2.06.94zm-11 1L8.5 8.5l.94-2.06 2.06-.94-2.06-.94L8.5 2.5l-.94 2.06-2.06.94zm10 10l.94 2.06.94-2.06 2.06-.94-2.06-.94-.94-2.06-.94 2.06-2.06.94z\"/><path d=\"M17.41 7.96l-1.37-1.37c-.4-.4-.92-.59-1.43-.59-.52 0-1.04.2-1.43.59L10.3 9.45l-7.72 7.72c-.78.78-.78 2.05 0 2.83L4 21.41c.39.39.9.59 1.41.59.51 0 1.02-.2 1.41-.59l7.78-7.78 2.81-2.81c.8-.78.8-2.07 0-2.86zM5.41 20L4 18.59l7.72-7.72 1.47 1.35L5.41 20z\"/>\n",
              "  </svg>\n",
              "      </button>\n",
              "      \n",
              "  <style>\n",
              "    .colab-df-container {\n",
              "      display:flex;\n",
              "      flex-wrap:wrap;\n",
              "      gap: 12px;\n",
              "    }\n",
              "\n",
              "    .colab-df-convert {\n",
              "      background-color: #E8F0FE;\n",
              "      border: none;\n",
              "      border-radius: 50%;\n",
              "      cursor: pointer;\n",
              "      display: none;\n",
              "      fill: #1967D2;\n",
              "      height: 32px;\n",
              "      padding: 0 0 0 0;\n",
              "      width: 32px;\n",
              "    }\n",
              "\n",
              "    .colab-df-convert:hover {\n",
              "      background-color: #E2EBFA;\n",
              "      box-shadow: 0px 1px 2px rgba(60, 64, 67, 0.3), 0px 1px 3px 1px rgba(60, 64, 67, 0.15);\n",
              "      fill: #174EA6;\n",
              "    }\n",
              "\n",
              "    [theme=dark] .colab-df-convert {\n",
              "      background-color: #3B4455;\n",
              "      fill: #D2E3FC;\n",
              "    }\n",
              "\n",
              "    [theme=dark] .colab-df-convert:hover {\n",
              "      background-color: #434B5C;\n",
              "      box-shadow: 0px 1px 3px 1px rgba(0, 0, 0, 0.15);\n",
              "      filter: drop-shadow(0px 1px 2px rgba(0, 0, 0, 0.3));\n",
              "      fill: #FFFFFF;\n",
              "    }\n",
              "  </style>\n",
              "\n",
              "      <script>\n",
              "        const buttonEl =\n",
              "          document.querySelector('#df-9af28c9a-f501-4831-87f4-721111d59613 button.colab-df-convert');\n",
              "        buttonEl.style.display =\n",
              "          google.colab.kernel.accessAllowed ? 'block' : 'none';\n",
              "\n",
              "        async function convertToInteractive(key) {\n",
              "          const element = document.querySelector('#df-9af28c9a-f501-4831-87f4-721111d59613');\n",
              "          const dataTable =\n",
              "            await google.colab.kernel.invokeFunction('convertToInteractive',\n",
              "                                                     [key], {});\n",
              "          if (!dataTable) return;\n",
              "\n",
              "          const docLinkHtml = 'Like what you see? Visit the ' +\n",
              "            '<a target=\"_blank\" href=https://colab.research.google.com/notebooks/data_table.ipynb>data table notebook</a>'\n",
              "            + ' to learn more about interactive tables.';\n",
              "          element.innerHTML = '';\n",
              "          dataTable['output_type'] = 'display_data';\n",
              "          await google.colab.output.renderOutput(dataTable, element);\n",
              "          const docLink = document.createElement('div');\n",
              "          docLink.innerHTML = docLinkHtml;\n",
              "          element.appendChild(docLink);\n",
              "        }\n",
              "      </script>\n",
              "    </div>\n",
              "  </div>\n",
              "  "
            ]
          },
          "metadata": {},
          "execution_count": 194
        }
      ]
    },
    {
      "cell_type": "code",
      "source": [
        "Y5"
      ],
      "metadata": {
        "colab": {
          "base_uri": "https://localhost:8080/",
          "height": 423
        },
        "id": "9fn3q-dnAaJo",
        "outputId": "62b174ed-e9c0-4baa-e2e7-c03050e8f5a8"
      },
      "execution_count": null,
      "outputs": [
        {
          "output_type": "execute_result",
          "data": {
            "text/plain": [
              "             Name     pIC50\n",
              "0    CHEMBL100624  4.480172\n",
              "1    CHEMBL102194  7.568636\n",
              "2       CHEMBL104  4.947729\n",
              "3    CHEMBL104061  5.698970\n",
              "4    CHEMBL104076  5.154902\n",
              "..            ...       ...\n",
              "764    CHEMBL9841  4.920819\n",
              "765   CHEMBL98773  6.096910\n",
              "766   CHEMBL98975  7.397940\n",
              "767   CHEMBL99331  4.716699\n",
              "768   CHEMBL99585  5.619789\n",
              "\n",
              "[769 rows x 2 columns]"
            ],
            "text/html": [
              "\n",
              "  <div id=\"df-9b6a6f35-6ac5-45b5-93fb-0054daf1ce90\">\n",
              "    <div class=\"colab-df-container\">\n",
              "      <div>\n",
              "<style scoped>\n",
              "    .dataframe tbody tr th:only-of-type {\n",
              "        vertical-align: middle;\n",
              "    }\n",
              "\n",
              "    .dataframe tbody tr th {\n",
              "        vertical-align: top;\n",
              "    }\n",
              "\n",
              "    .dataframe thead th {\n",
              "        text-align: right;\n",
              "    }\n",
              "</style>\n",
              "<table border=\"1\" class=\"dataframe\">\n",
              "  <thead>\n",
              "    <tr style=\"text-align: right;\">\n",
              "      <th></th>\n",
              "      <th>Name</th>\n",
              "      <th>pIC50</th>\n",
              "    </tr>\n",
              "  </thead>\n",
              "  <tbody>\n",
              "    <tr>\n",
              "      <th>0</th>\n",
              "      <td>CHEMBL100624</td>\n",
              "      <td>4.480172</td>\n",
              "    </tr>\n",
              "    <tr>\n",
              "      <th>1</th>\n",
              "      <td>CHEMBL102194</td>\n",
              "      <td>7.568636</td>\n",
              "    </tr>\n",
              "    <tr>\n",
              "      <th>2</th>\n",
              "      <td>CHEMBL104</td>\n",
              "      <td>4.947729</td>\n",
              "    </tr>\n",
              "    <tr>\n",
              "      <th>3</th>\n",
              "      <td>CHEMBL104061</td>\n",
              "      <td>5.698970</td>\n",
              "    </tr>\n",
              "    <tr>\n",
              "      <th>4</th>\n",
              "      <td>CHEMBL104076</td>\n",
              "      <td>5.154902</td>\n",
              "    </tr>\n",
              "    <tr>\n",
              "      <th>...</th>\n",
              "      <td>...</td>\n",
              "      <td>...</td>\n",
              "    </tr>\n",
              "    <tr>\n",
              "      <th>764</th>\n",
              "      <td>CHEMBL9841</td>\n",
              "      <td>4.920819</td>\n",
              "    </tr>\n",
              "    <tr>\n",
              "      <th>765</th>\n",
              "      <td>CHEMBL98773</td>\n",
              "      <td>6.096910</td>\n",
              "    </tr>\n",
              "    <tr>\n",
              "      <th>766</th>\n",
              "      <td>CHEMBL98975</td>\n",
              "      <td>7.397940</td>\n",
              "    </tr>\n",
              "    <tr>\n",
              "      <th>767</th>\n",
              "      <td>CHEMBL99331</td>\n",
              "      <td>4.716699</td>\n",
              "    </tr>\n",
              "    <tr>\n",
              "      <th>768</th>\n",
              "      <td>CHEMBL99585</td>\n",
              "      <td>5.619789</td>\n",
              "    </tr>\n",
              "  </tbody>\n",
              "</table>\n",
              "<p>769 rows × 2 columns</p>\n",
              "</div>\n",
              "      <button class=\"colab-df-convert\" onclick=\"convertToInteractive('df-9b6a6f35-6ac5-45b5-93fb-0054daf1ce90')\"\n",
              "              title=\"Convert this dataframe to an interactive table.\"\n",
              "              style=\"display:none;\">\n",
              "        \n",
              "  <svg xmlns=\"http://www.w3.org/2000/svg\" height=\"24px\"viewBox=\"0 0 24 24\"\n",
              "       width=\"24px\">\n",
              "    <path d=\"M0 0h24v24H0V0z\" fill=\"none\"/>\n",
              "    <path d=\"M18.56 5.44l.94 2.06.94-2.06 2.06-.94-2.06-.94-.94-2.06-.94 2.06-2.06.94zm-11 1L8.5 8.5l.94-2.06 2.06-.94-2.06-.94L8.5 2.5l-.94 2.06-2.06.94zm10 10l.94 2.06.94-2.06 2.06-.94-2.06-.94-.94-2.06-.94 2.06-2.06.94z\"/><path d=\"M17.41 7.96l-1.37-1.37c-.4-.4-.92-.59-1.43-.59-.52 0-1.04.2-1.43.59L10.3 9.45l-7.72 7.72c-.78.78-.78 2.05 0 2.83L4 21.41c.39.39.9.59 1.41.59.51 0 1.02-.2 1.41-.59l7.78-7.78 2.81-2.81c.8-.78.8-2.07 0-2.86zM5.41 20L4 18.59l7.72-7.72 1.47 1.35L5.41 20z\"/>\n",
              "  </svg>\n",
              "      </button>\n",
              "      \n",
              "  <style>\n",
              "    .colab-df-container {\n",
              "      display:flex;\n",
              "      flex-wrap:wrap;\n",
              "      gap: 12px;\n",
              "    }\n",
              "\n",
              "    .colab-df-convert {\n",
              "      background-color: #E8F0FE;\n",
              "      border: none;\n",
              "      border-radius: 50%;\n",
              "      cursor: pointer;\n",
              "      display: none;\n",
              "      fill: #1967D2;\n",
              "      height: 32px;\n",
              "      padding: 0 0 0 0;\n",
              "      width: 32px;\n",
              "    }\n",
              "\n",
              "    .colab-df-convert:hover {\n",
              "      background-color: #E2EBFA;\n",
              "      box-shadow: 0px 1px 2px rgba(60, 64, 67, 0.3), 0px 1px 3px 1px rgba(60, 64, 67, 0.15);\n",
              "      fill: #174EA6;\n",
              "    }\n",
              "\n",
              "    [theme=dark] .colab-df-convert {\n",
              "      background-color: #3B4455;\n",
              "      fill: #D2E3FC;\n",
              "    }\n",
              "\n",
              "    [theme=dark] .colab-df-convert:hover {\n",
              "      background-color: #434B5C;\n",
              "      box-shadow: 0px 1px 3px 1px rgba(0, 0, 0, 0.15);\n",
              "      filter: drop-shadow(0px 1px 2px rgba(0, 0, 0, 0.3));\n",
              "      fill: #FFFFFF;\n",
              "    }\n",
              "  </style>\n",
              "\n",
              "      <script>\n",
              "        const buttonEl =\n",
              "          document.querySelector('#df-9b6a6f35-6ac5-45b5-93fb-0054daf1ce90 button.colab-df-convert');\n",
              "        buttonEl.style.display =\n",
              "          google.colab.kernel.accessAllowed ? 'block' : 'none';\n",
              "\n",
              "        async function convertToInteractive(key) {\n",
              "          const element = document.querySelector('#df-9b6a6f35-6ac5-45b5-93fb-0054daf1ce90');\n",
              "          const dataTable =\n",
              "            await google.colab.kernel.invokeFunction('convertToInteractive',\n",
              "                                                     [key], {});\n",
              "          if (!dataTable) return;\n",
              "\n",
              "          const docLinkHtml = 'Like what you see? Visit the ' +\n",
              "            '<a target=\"_blank\" href=https://colab.research.google.com/notebooks/data_table.ipynb>data table notebook</a>'\n",
              "            + ' to learn more about interactive tables.';\n",
              "          element.innerHTML = '';\n",
              "          dataTable['output_type'] = 'display_data';\n",
              "          await google.colab.output.renderOutput(dataTable, element);\n",
              "          const docLink = document.createElement('div');\n",
              "          docLink.innerHTML = docLinkHtml;\n",
              "          element.appendChild(docLink);\n",
              "        }\n",
              "      </script>\n",
              "    </div>\n",
              "  </div>\n",
              "  "
            ]
          },
          "metadata": {},
          "execution_count": 195
        }
      ]
    },
    {
      "cell_type": "code",
      "source": [
        "X5 = pd.merge(df5, Y5['Name'], on=[\"Name\"])\n",
        "X5 = X5.drop('Name', axis= 1)\n",
        "X5 = X5.drop('pIC50', axis=1)\n",
        "X5"
      ],
      "metadata": {
        "colab": {
          "base_uri": "https://localhost:8080/",
          "height": 487
        },
        "id": "0UuWNIOCKNPM",
        "outputId": "346c9b87-72c9-4f0d-9ba4-0ded0603cc06"
      },
      "execution_count": null,
      "outputs": [
        {
          "output_type": "execute_result",
          "data": {
            "text/plain": [
              "        USR_1     USR_2     USR_3     USR_4     USR_5     USR_6      USR_7  \\\n",
              "0    5.111275  2.327562  0.521235  5.182383  2.412567  0.261987  10.162094   \n",
              "1    7.633311  3.713499  0.441644  7.719860  3.774694  0.069655  15.348278   \n",
              "2    3.316825  1.164268 -0.652970  3.320040  1.202429 -0.684216   5.936920   \n",
              "3    6.317170  2.388525  0.542856  6.389362  2.895002  0.329128  11.733123   \n",
              "4    6.719421  2.934223  0.454294  6.840300  3.259092  0.102403  12.968726   \n",
              "..        ...       ...       ...       ...       ...       ...        ...   \n",
              "764  2.808262  1.018666 -0.523950  2.794226  1.137191  0.246597   5.211146   \n",
              "765  4.720246  2.070812  0.541490  4.801094  2.184815  0.000605   9.403594   \n",
              "766  4.881656  2.179786  0.357767  4.939153  2.259584  0.357407   9.725440   \n",
              "767  5.254545  2.658496  0.540513  5.272849  2.706642  0.513514  10.339657   \n",
              "768  5.564692  2.757722  0.537166  5.571316  2.880955  0.561133  11.339257   \n",
              "\n",
              "        USR_8     USR_9     USR_10  ...       P1s       P2s       E1s  \\\n",
              "0    4.857588 -0.587224   9.371578  ...  0.938287  0.035630  0.578233   \n",
              "1    7.987874 -0.198167  13.926388  ...  0.938442  0.051874  0.528309   \n",
              "2    2.267223 -0.921915   5.432708  ...  0.377559  0.363760  0.381778   \n",
              "3    5.730873 -0.738715  10.546449  ...  0.828565  0.143069  0.526620   \n",
              "4    6.691988 -0.536921  12.174121  ...  0.905403  0.070443  0.511753   \n",
              "..        ...       ...        ...  ...       ...       ...       ...   \n",
              "764  2.421948 -0.745038   4.421580  ...  0.705634  0.234007  0.539117   \n",
              "765  4.431506 -0.695848   8.123533  ...  0.918126  0.053305  0.563321   \n",
              "766  4.714075 -0.643144   8.593060  ...  0.939861  0.043330  0.546161   \n",
              "767  5.324793 -0.246769   9.903454  ...  0.916688  0.063015  0.551476   \n",
              "768  5.670711 -0.498089  10.509921  ...  0.948708  0.033208  0.576617   \n",
              "\n",
              "          E2s       E3s         Ts          As          Vs        Ks        Ds  \n",
              "0    0.466584  0.461906  41.495050  101.302079  205.098132  0.907431  1.506723  \n",
              "1    0.450719  0.414840  92.272509  496.130483  958.762968  0.907663  1.393868  \n",
              "2    0.347660  0.354429  12.294133   49.742955  128.054407  0.111979  1.083867  \n",
              "3    0.428187  0.454695  47.080681  323.850715  721.837563  0.742848  1.409502  \n",
              "4    0.418066  0.431086  63.396541  351.071219  806.993652  0.858104  1.360906  \n",
              "..        ...       ...        ...         ...         ...       ...       ...  \n",
              "764  0.513825  0.364002   8.290396   15.247158   29.216612  0.558451  1.416945  \n",
              "765  0.348926  0.327525  32.689484   81.954914  163.485736  0.877189  1.239773  \n",
              "766  0.451717  0.378027  37.253539   79.454247  152.099873  0.909791  1.375905  \n",
              "767  0.472611  0.317871  37.700077  110.363174  210.885417  0.875033  1.341959  \n",
              "768  0.456166  0.385645  48.505846  115.904037  229.431228  0.923062  1.418427  \n",
              "\n",
              "[769 rows x 17916 columns]"
            ],
            "text/html": [
              "\n",
              "  <div id=\"df-efa881b9-cfa9-4729-8b58-1336360ce473\">\n",
              "    <div class=\"colab-df-container\">\n",
              "      <div>\n",
              "<style scoped>\n",
              "    .dataframe tbody tr th:only-of-type {\n",
              "        vertical-align: middle;\n",
              "    }\n",
              "\n",
              "    .dataframe tbody tr th {\n",
              "        vertical-align: top;\n",
              "    }\n",
              "\n",
              "    .dataframe thead th {\n",
              "        text-align: right;\n",
              "    }\n",
              "</style>\n",
              "<table border=\"1\" class=\"dataframe\">\n",
              "  <thead>\n",
              "    <tr style=\"text-align: right;\">\n",
              "      <th></th>\n",
              "      <th>USR_1</th>\n",
              "      <th>USR_2</th>\n",
              "      <th>USR_3</th>\n",
              "      <th>USR_4</th>\n",
              "      <th>USR_5</th>\n",
              "      <th>USR_6</th>\n",
              "      <th>USR_7</th>\n",
              "      <th>USR_8</th>\n",
              "      <th>USR_9</th>\n",
              "      <th>USR_10</th>\n",
              "      <th>...</th>\n",
              "      <th>P1s</th>\n",
              "      <th>P2s</th>\n",
              "      <th>E1s</th>\n",
              "      <th>E2s</th>\n",
              "      <th>E3s</th>\n",
              "      <th>Ts</th>\n",
              "      <th>As</th>\n",
              "      <th>Vs</th>\n",
              "      <th>Ks</th>\n",
              "      <th>Ds</th>\n",
              "    </tr>\n",
              "  </thead>\n",
              "  <tbody>\n",
              "    <tr>\n",
              "      <th>0</th>\n",
              "      <td>5.111275</td>\n",
              "      <td>2.327562</td>\n",
              "      <td>0.521235</td>\n",
              "      <td>5.182383</td>\n",
              "      <td>2.412567</td>\n",
              "      <td>0.261987</td>\n",
              "      <td>10.162094</td>\n",
              "      <td>4.857588</td>\n",
              "      <td>-0.587224</td>\n",
              "      <td>9.371578</td>\n",
              "      <td>...</td>\n",
              "      <td>0.938287</td>\n",
              "      <td>0.035630</td>\n",
              "      <td>0.578233</td>\n",
              "      <td>0.466584</td>\n",
              "      <td>0.461906</td>\n",
              "      <td>41.495050</td>\n",
              "      <td>101.302079</td>\n",
              "      <td>205.098132</td>\n",
              "      <td>0.907431</td>\n",
              "      <td>1.506723</td>\n",
              "    </tr>\n",
              "    <tr>\n",
              "      <th>1</th>\n",
              "      <td>7.633311</td>\n",
              "      <td>3.713499</td>\n",
              "      <td>0.441644</td>\n",
              "      <td>7.719860</td>\n",
              "      <td>3.774694</td>\n",
              "      <td>0.069655</td>\n",
              "      <td>15.348278</td>\n",
              "      <td>7.987874</td>\n",
              "      <td>-0.198167</td>\n",
              "      <td>13.926388</td>\n",
              "      <td>...</td>\n",
              "      <td>0.938442</td>\n",
              "      <td>0.051874</td>\n",
              "      <td>0.528309</td>\n",
              "      <td>0.450719</td>\n",
              "      <td>0.414840</td>\n",
              "      <td>92.272509</td>\n",
              "      <td>496.130483</td>\n",
              "      <td>958.762968</td>\n",
              "      <td>0.907663</td>\n",
              "      <td>1.393868</td>\n",
              "    </tr>\n",
              "    <tr>\n",
              "      <th>2</th>\n",
              "      <td>3.316825</td>\n",
              "      <td>1.164268</td>\n",
              "      <td>-0.652970</td>\n",
              "      <td>3.320040</td>\n",
              "      <td>1.202429</td>\n",
              "      <td>-0.684216</td>\n",
              "      <td>5.936920</td>\n",
              "      <td>2.267223</td>\n",
              "      <td>-0.921915</td>\n",
              "      <td>5.432708</td>\n",
              "      <td>...</td>\n",
              "      <td>0.377559</td>\n",
              "      <td>0.363760</td>\n",
              "      <td>0.381778</td>\n",
              "      <td>0.347660</td>\n",
              "      <td>0.354429</td>\n",
              "      <td>12.294133</td>\n",
              "      <td>49.742955</td>\n",
              "      <td>128.054407</td>\n",
              "      <td>0.111979</td>\n",
              "      <td>1.083867</td>\n",
              "    </tr>\n",
              "    <tr>\n",
              "      <th>3</th>\n",
              "      <td>6.317170</td>\n",
              "      <td>2.388525</td>\n",
              "      <td>0.542856</td>\n",
              "      <td>6.389362</td>\n",
              "      <td>2.895002</td>\n",
              "      <td>0.329128</td>\n",
              "      <td>11.733123</td>\n",
              "      <td>5.730873</td>\n",
              "      <td>-0.738715</td>\n",
              "      <td>10.546449</td>\n",
              "      <td>...</td>\n",
              "      <td>0.828565</td>\n",
              "      <td>0.143069</td>\n",
              "      <td>0.526620</td>\n",
              "      <td>0.428187</td>\n",
              "      <td>0.454695</td>\n",
              "      <td>47.080681</td>\n",
              "      <td>323.850715</td>\n",
              "      <td>721.837563</td>\n",
              "      <td>0.742848</td>\n",
              "      <td>1.409502</td>\n",
              "    </tr>\n",
              "    <tr>\n",
              "      <th>4</th>\n",
              "      <td>6.719421</td>\n",
              "      <td>2.934223</td>\n",
              "      <td>0.454294</td>\n",
              "      <td>6.840300</td>\n",
              "      <td>3.259092</td>\n",
              "      <td>0.102403</td>\n",
              "      <td>12.968726</td>\n",
              "      <td>6.691988</td>\n",
              "      <td>-0.536921</td>\n",
              "      <td>12.174121</td>\n",
              "      <td>...</td>\n",
              "      <td>0.905403</td>\n",
              "      <td>0.070443</td>\n",
              "      <td>0.511753</td>\n",
              "      <td>0.418066</td>\n",
              "      <td>0.431086</td>\n",
              "      <td>63.396541</td>\n",
              "      <td>351.071219</td>\n",
              "      <td>806.993652</td>\n",
              "      <td>0.858104</td>\n",
              "      <td>1.360906</td>\n",
              "    </tr>\n",
              "    <tr>\n",
              "      <th>...</th>\n",
              "      <td>...</td>\n",
              "      <td>...</td>\n",
              "      <td>...</td>\n",
              "      <td>...</td>\n",
              "      <td>...</td>\n",
              "      <td>...</td>\n",
              "      <td>...</td>\n",
              "      <td>...</td>\n",
              "      <td>...</td>\n",
              "      <td>...</td>\n",
              "      <td>...</td>\n",
              "      <td>...</td>\n",
              "      <td>...</td>\n",
              "      <td>...</td>\n",
              "      <td>...</td>\n",
              "      <td>...</td>\n",
              "      <td>...</td>\n",
              "      <td>...</td>\n",
              "      <td>...</td>\n",
              "      <td>...</td>\n",
              "      <td>...</td>\n",
              "    </tr>\n",
              "    <tr>\n",
              "      <th>764</th>\n",
              "      <td>2.808262</td>\n",
              "      <td>1.018666</td>\n",
              "      <td>-0.523950</td>\n",
              "      <td>2.794226</td>\n",
              "      <td>1.137191</td>\n",
              "      <td>0.246597</td>\n",
              "      <td>5.211146</td>\n",
              "      <td>2.421948</td>\n",
              "      <td>-0.745038</td>\n",
              "      <td>4.421580</td>\n",
              "      <td>...</td>\n",
              "      <td>0.705634</td>\n",
              "      <td>0.234007</td>\n",
              "      <td>0.539117</td>\n",
              "      <td>0.513825</td>\n",
              "      <td>0.364002</td>\n",
              "      <td>8.290396</td>\n",
              "      <td>15.247158</td>\n",
              "      <td>29.216612</td>\n",
              "      <td>0.558451</td>\n",
              "      <td>1.416945</td>\n",
              "    </tr>\n",
              "    <tr>\n",
              "      <th>765</th>\n",
              "      <td>4.720246</td>\n",
              "      <td>2.070812</td>\n",
              "      <td>0.541490</td>\n",
              "      <td>4.801094</td>\n",
              "      <td>2.184815</td>\n",
              "      <td>0.000605</td>\n",
              "      <td>9.403594</td>\n",
              "      <td>4.431506</td>\n",
              "      <td>-0.695848</td>\n",
              "      <td>8.123533</td>\n",
              "      <td>...</td>\n",
              "      <td>0.918126</td>\n",
              "      <td>0.053305</td>\n",
              "      <td>0.563321</td>\n",
              "      <td>0.348926</td>\n",
              "      <td>0.327525</td>\n",
              "      <td>32.689484</td>\n",
              "      <td>81.954914</td>\n",
              "      <td>163.485736</td>\n",
              "      <td>0.877189</td>\n",
              "      <td>1.239773</td>\n",
              "    </tr>\n",
              "    <tr>\n",
              "      <th>766</th>\n",
              "      <td>4.881656</td>\n",
              "      <td>2.179786</td>\n",
              "      <td>0.357767</td>\n",
              "      <td>4.939153</td>\n",
              "      <td>2.259584</td>\n",
              "      <td>0.357407</td>\n",
              "      <td>9.725440</td>\n",
              "      <td>4.714075</td>\n",
              "      <td>-0.643144</td>\n",
              "      <td>8.593060</td>\n",
              "      <td>...</td>\n",
              "      <td>0.939861</td>\n",
              "      <td>0.043330</td>\n",
              "      <td>0.546161</td>\n",
              "      <td>0.451717</td>\n",
              "      <td>0.378027</td>\n",
              "      <td>37.253539</td>\n",
              "      <td>79.454247</td>\n",
              "      <td>152.099873</td>\n",
              "      <td>0.909791</td>\n",
              "      <td>1.375905</td>\n",
              "    </tr>\n",
              "    <tr>\n",
              "      <th>767</th>\n",
              "      <td>5.254545</td>\n",
              "      <td>2.658496</td>\n",
              "      <td>0.540513</td>\n",
              "      <td>5.272849</td>\n",
              "      <td>2.706642</td>\n",
              "      <td>0.513514</td>\n",
              "      <td>10.339657</td>\n",
              "      <td>5.324793</td>\n",
              "      <td>-0.246769</td>\n",
              "      <td>9.903454</td>\n",
              "      <td>...</td>\n",
              "      <td>0.916688</td>\n",
              "      <td>0.063015</td>\n",
              "      <td>0.551476</td>\n",
              "      <td>0.472611</td>\n",
              "      <td>0.317871</td>\n",
              "      <td>37.700077</td>\n",
              "      <td>110.363174</td>\n",
              "      <td>210.885417</td>\n",
              "      <td>0.875033</td>\n",
              "      <td>1.341959</td>\n",
              "    </tr>\n",
              "    <tr>\n",
              "      <th>768</th>\n",
              "      <td>5.564692</td>\n",
              "      <td>2.757722</td>\n",
              "      <td>0.537166</td>\n",
              "      <td>5.571316</td>\n",
              "      <td>2.880955</td>\n",
              "      <td>0.561133</td>\n",
              "      <td>11.339257</td>\n",
              "      <td>5.670711</td>\n",
              "      <td>-0.498089</td>\n",
              "      <td>10.509921</td>\n",
              "      <td>...</td>\n",
              "      <td>0.948708</td>\n",
              "      <td>0.033208</td>\n",
              "      <td>0.576617</td>\n",
              "      <td>0.456166</td>\n",
              "      <td>0.385645</td>\n",
              "      <td>48.505846</td>\n",
              "      <td>115.904037</td>\n",
              "      <td>229.431228</td>\n",
              "      <td>0.923062</td>\n",
              "      <td>1.418427</td>\n",
              "    </tr>\n",
              "  </tbody>\n",
              "</table>\n",
              "<p>769 rows × 17916 columns</p>\n",
              "</div>\n",
              "      <button class=\"colab-df-convert\" onclick=\"convertToInteractive('df-efa881b9-cfa9-4729-8b58-1336360ce473')\"\n",
              "              title=\"Convert this dataframe to an interactive table.\"\n",
              "              style=\"display:none;\">\n",
              "        \n",
              "  <svg xmlns=\"http://www.w3.org/2000/svg\" height=\"24px\"viewBox=\"0 0 24 24\"\n",
              "       width=\"24px\">\n",
              "    <path d=\"M0 0h24v24H0V0z\" fill=\"none\"/>\n",
              "    <path d=\"M18.56 5.44l.94 2.06.94-2.06 2.06-.94-2.06-.94-.94-2.06-.94 2.06-2.06.94zm-11 1L8.5 8.5l.94-2.06 2.06-.94-2.06-.94L8.5 2.5l-.94 2.06-2.06.94zm10 10l.94 2.06.94-2.06 2.06-.94-2.06-.94-.94-2.06-.94 2.06-2.06.94z\"/><path d=\"M17.41 7.96l-1.37-1.37c-.4-.4-.92-.59-1.43-.59-.52 0-1.04.2-1.43.59L10.3 9.45l-7.72 7.72c-.78.78-.78 2.05 0 2.83L4 21.41c.39.39.9.59 1.41.59.51 0 1.02-.2 1.41-.59l7.78-7.78 2.81-2.81c.8-.78.8-2.07 0-2.86zM5.41 20L4 18.59l7.72-7.72 1.47 1.35L5.41 20z\"/>\n",
              "  </svg>\n",
              "      </button>\n",
              "      \n",
              "  <style>\n",
              "    .colab-df-container {\n",
              "      display:flex;\n",
              "      flex-wrap:wrap;\n",
              "      gap: 12px;\n",
              "    }\n",
              "\n",
              "    .colab-df-convert {\n",
              "      background-color: #E8F0FE;\n",
              "      border: none;\n",
              "      border-radius: 50%;\n",
              "      cursor: pointer;\n",
              "      display: none;\n",
              "      fill: #1967D2;\n",
              "      height: 32px;\n",
              "      padding: 0 0 0 0;\n",
              "      width: 32px;\n",
              "    }\n",
              "\n",
              "    .colab-df-convert:hover {\n",
              "      background-color: #E2EBFA;\n",
              "      box-shadow: 0px 1px 2px rgba(60, 64, 67, 0.3), 0px 1px 3px 1px rgba(60, 64, 67, 0.15);\n",
              "      fill: #174EA6;\n",
              "    }\n",
              "\n",
              "    [theme=dark] .colab-df-convert {\n",
              "      background-color: #3B4455;\n",
              "      fill: #D2E3FC;\n",
              "    }\n",
              "\n",
              "    [theme=dark] .colab-df-convert:hover {\n",
              "      background-color: #434B5C;\n",
              "      box-shadow: 0px 1px 3px 1px rgba(0, 0, 0, 0.15);\n",
              "      filter: drop-shadow(0px 1px 2px rgba(0, 0, 0, 0.3));\n",
              "      fill: #FFFFFF;\n",
              "    }\n",
              "  </style>\n",
              "\n",
              "      <script>\n",
              "        const buttonEl =\n",
              "          document.querySelector('#df-efa881b9-cfa9-4729-8b58-1336360ce473 button.colab-df-convert');\n",
              "        buttonEl.style.display =\n",
              "          google.colab.kernel.accessAllowed ? 'block' : 'none';\n",
              "\n",
              "        async function convertToInteractive(key) {\n",
              "          const element = document.querySelector('#df-efa881b9-cfa9-4729-8b58-1336360ce473');\n",
              "          const dataTable =\n",
              "            await google.colab.kernel.invokeFunction('convertToInteractive',\n",
              "                                                     [key], {});\n",
              "          if (!dataTable) return;\n",
              "\n",
              "          const docLinkHtml = 'Like what you see? Visit the ' +\n",
              "            '<a target=\"_blank\" href=https://colab.research.google.com/notebooks/data_table.ipynb>data table notebook</a>'\n",
              "            + ' to learn more about interactive tables.';\n",
              "          element.innerHTML = '';\n",
              "          dataTable['output_type'] = 'display_data';\n",
              "          await google.colab.output.renderOutput(dataTable, element);\n",
              "          const docLink = document.createElement('div');\n",
              "          docLink.innerHTML = docLinkHtml;\n",
              "          element.appendChild(docLink);\n",
              "        }\n",
              "      </script>\n",
              "    </div>\n",
              "  </div>\n",
              "  "
            ]
          },
          "metadata": {},
          "execution_count": 196
        }
      ]
    },
    {
      "cell_type": "code",
      "source": [
        "Y5 = Y5.pIC50\n",
        "Y5"
      ],
      "metadata": {
        "colab": {
          "base_uri": "https://localhost:8080/"
        },
        "id": "duUh73jYLjSl",
        "outputId": "86e6dcac-64b4-4aad-b19c-ce8a47d484de"
      },
      "execution_count": null,
      "outputs": [
        {
          "output_type": "execute_result",
          "data": {
            "text/plain": [
              "0      4.480172\n",
              "1      7.568636\n",
              "2      4.947729\n",
              "3      5.698970\n",
              "4      5.154902\n",
              "         ...   \n",
              "764    4.920819\n",
              "765    6.096910\n",
              "766    7.397940\n",
              "767    4.716699\n",
              "768    5.619789\n",
              "Name: pIC50, Length: 769, dtype: float64"
            ]
          },
          "metadata": {},
          "execution_count": 197
        }
      ]
    },
    {
      "cell_type": "code",
      "source": [
        "from sklearn.feature_selection import VarianceThreshold\n",
        "selection = VarianceThreshold(threshold=(.8 * (1 - .8)))    \n",
        "X5 = selection.fit_transform(X5)"
      ],
      "metadata": {
        "id": "aEss2mDjKUSW"
      },
      "execution_count": null,
      "outputs": []
    },
    {
      "cell_type": "code",
      "source": [
        "X5.shape"
      ],
      "metadata": {
        "colab": {
          "base_uri": "https://localhost:8080/"
        },
        "id": "6RhAXpKy6DyP",
        "outputId": "e59d6554-9c3b-48d8-de8e-560330d0d055"
      },
      "execution_count": null,
      "outputs": [
        {
          "output_type": "execute_result",
          "data": {
            "text/plain": [
              "(769, 2895)"
            ]
          },
          "metadata": {},
          "execution_count": 199
        }
      ]
    },
    {
      "cell_type": "code",
      "source": [
        "# Splitting dataset into training and testing sets\n",
        "X5_train, X5_test, Y5_train, Y5_test = train_test_split(X5, Y5, test_size = 0.2, random_state = 42)\n",
        "   \n",
        "# Creating and training model\n",
        "model5 = RandomForestRegressor(n_estimators=100, random_state= 0)\n",
        "fit = model5.fit(X5_train, Y5_train)\n",
        "   \n",
        "# Model making a prediction on test data\n",
        "prediction5 = model5.predict(X5_test)\n",
        "   \n",
        "# Evaluation of r2 score of the model against the test set\n",
        "print(f\"r2 Score Of Test Set : {r2_score(Y5_test, prediction5)}\")"
      ],
      "metadata": {
        "colab": {
          "base_uri": "https://localhost:8080/"
        },
        "id": "tUDXt4wIKY_U",
        "outputId": "98461e6e-68b2-4d36-f2ad-c7f9b3693d5e"
      },
      "execution_count": null,
      "outputs": [
        {
          "output_type": "stream",
          "name": "stdout",
          "text": [
            "r2 Score Of Test Set : 0.6718755796980118\n"
          ]
        }
      ]
    },
    {
      "cell_type": "code",
      "source": [
        "df5.to_csv('Descriptors.csv', index=False)"
      ],
      "metadata": {
        "id": "-G1x2wJDiDMO"
      },
      "execution_count": null,
      "outputs": []
    },
    {
      "cell_type": "code",
      "source": [
        "from sklearn import model_selection\n",
        "from sklearn import linear_model\n",
        "from sklearn.tree import DecisionTreeRegressor \n",
        "from sklearn.ensemble import BaggingRegressor\n",
        "from sklearn.compose import TransformedTargetRegressor\n",
        "from sklearn.linear_model import Ridge\n",
        "from sklearn.discriminant_analysis import LinearDiscriminantAnalysis\n",
        "from sklearn.model_selection import cross_val_score\n",
        "from sklearn import svm"
      ],
      "metadata": {
        "id": "NiWPQ3CzBDwC"
      },
      "execution_count": null,
      "outputs": []
    },
    {
      "cell_type": "code",
      "source": [
        "# Import libraries\n",
        "import matplotlib.pyplot as plt\n",
        "import numpy as np\n",
        " \n",
        " \n",
        "# Creating dataset\n",
        "np.random.seed(10)\n",
        " \n",
        "data_DTR = 0.55, 0.32, 0.41, 0.3, 0.3, 0.46, 0.55\n",
        "data_RFM = 0.66, 0.64, 0.61, 0.66, 0.62, 0.68, 0.7\n",
        "data_R = 0.8, 0.3,0.2,0.4, 0.7, 0.56, 0.72\n",
        "data_LCV = 0.7, 0.3, 0.225, 0.111, 0.1, 0.223, 0.44\n",
        "data_BR = 0.67, 0.22, 0.45, 0.4, 0.5, 0.48, 0.66\n",
        "\n",
        "data = [data_DTR, data_RFM, data_R, data_LCV, data_BR]\n",
        "\n",
        " \n",
        "fig = plt.figure(figsize =(10, 7))\n",
        " \n",
        "# Creating axes instance\n",
        "#ax = fig.add_axes([0, 0,1 , 1])\n",
        " \n",
        "# Creating plot\n",
        "bp = ax.boxplot(data)\n",
        "\n",
        "\n",
        "fig.suptitle('Comparison of models', fontsize=14, fontweight='bold')\n",
        "\n",
        "ax = fig.add_subplot(111)\n",
        "ax.boxplot(data)\n",
        "\n",
        "ax.set_ylabel('R2')\n",
        "plt.xticks([1, 2, 3,4, 5], ['DTR', 'RF', 'R','LCV', 'BR'])\n",
        "plt.show()"
      ],
      "metadata": {
        "colab": {
          "base_uri": "https://localhost:8080/"
        },
        "id": "j9BW8_sjH1nB",
        "outputId": "ce4480d3-6418-4652-afd0-002aa57a0d4f"
      },
      "execution_count": null,
      "outputs": [
        {
          "output_type": "display_data",
          "data": {
            "text/plain": [
              "<Figure size 720x504 with 1 Axes>"
            ],
            "image/png": "[encoded data removed]"
          },
          "metadata": {}
        }
      ]
    },
    {
      "cell_type": "markdown",
      "source": [
        "Mse for above 7 0.35, Mae is 0.47 and R2 id 0.20"
      ],
      "metadata": {
        "id": "D5rTfkRlDmve"
      }
    },
    {
      "cell_type": "code",
      "source": [
        "from sklearn.metrics import mean_squared_error\n",
        "mse = mean_squared_error(Y5_test, prediction5)\n",
        "#rmse = sqrt(mse)\n",
        "mse"
      ],
      "metadata": {
        "colab": {
          "base_uri": "https://localhost:8080/"
        },
        "id": "FrPtKaUfMm1x",
        "outputId": "73beda89-38af-4d54-e228-92432be21ab8"
      },
      "execution_count": null,
      "outputs": [
        {
          "output_type": "execute_result",
          "data": {
            "text/plain": [
              "0.5225400405735526"
            ]
          },
          "metadata": {},
          "execution_count": 206
        }
      ]
    },
    {
      "cell_type": "code",
      "source": [
        "import seaborn as sns\n",
        "import matplotlib.pyplot as plt\n",
        "\n",
        "sns.set(color_codes=True)\n",
        "sns.set_style(\"white\")\n",
        "\n",
        "ax = sns.regplot(Y5_test, prediction5, scatter_kws={'alpha':0.4})\n",
        "ax.set_xlabel('Experimental pIC50', fontsize='large', fontweight='bold')\n",
        "ax.set_ylabel('Predicted pIC50', fontsize='large', fontweight='bold')\n",
        "ax.set(title='1D+2D+3D+F+USR')\n",
        "ax.set_xlim(3, 10)\n",
        "ax.set_ylim(3, 10)\n",
        "ax.figure.set_size_inches(5, 5)\n",
        "plt.show"
      ],
      "metadata": {
        "colab": {
          "base_uri": "https://localhost:8080/"
        },
        "id": "1-IjSVhHM2Dj",
        "outputId": "3fea22f9-8a93-408b-8e36-dc12d3b2b35e"
      },
      "execution_count": null,
      "outputs": [
        {
          "output_type": "stream",
          "name": "stderr",
          "text": [
            "/usr/local/lib/python3.7/dist-packages/seaborn/_decorators.py:43: FutureWarning: Pass the following variables as keyword args: x, y. From version 0.12, the only valid positional argument will be `data`, and passing other arguments without an explicit keyword will result in an error or misinterpretation.\n",
            "  FutureWarning\n"
          ]
        },
        {
          "output_type": "execute_result",
          "data": {
            "text/plain": [
              "<function matplotlib.pyplot.show>"
            ]
          },
          "metadata": {},
          "execution_count": 208
        },
        {
          "output_type": "display_data",
          "data": {
            "text/plain": [
              "<Figure size 360x360 with 1 Axes>"
            ],
            "image/png": "[encoded data removed]"
          },
          "metadata": {}
        }
      ]
    },
    {
      "cell_type": "code",
      "source": [
        "x_ax = range(len(Y5_test))\n",
        "plt.scatter(x_ax, Y5_test, s=5, color=\"blue\", label=\"original\")\n",
        "plt.plot(x_ax, prediction5, lw=0.8, color=\"red\", label=\"predicted\")\n",
        "plt.title(\"1D+2D+3D+CF+USR\")\n",
        "plt.ylabel(\"pIC50\")\n",
        "plt.legend()\n",
        "plt.show() "
      ],
      "metadata": {
        "colab": {
          "base_uri": "https://localhost:8080/",
          "height": 393
        },
        "id": "rGpWL5LhezYo",
        "outputId": "a00426f1-54ab-4107-a396-e30ba13471d9"
      },
      "execution_count": null,
      "outputs": [
        {
          "output_type": "display_data",
          "data": {
            "text/plain": [
              "<Figure size 1152x432 with 1 Axes>"
            ],
            "image/png": "[encoded data removed]"
          },
          "metadata": {}
        }
      ]
    },
    {
      "cell_type": "markdown",
      "source": [
        "The positive improvement of the higher ones has affected the predictions of the lower one. Calculate the mse and mae for above 7 and below 7 for test set. Compare 2D+USR instead of 3D+2D. Some smiles that the descriptors and the 3D can not calculate. "
      ],
      "metadata": {
        "id": "ACPi0_eDzx7K"
      }
    },
    {
      "cell_type": "markdown",
      "source": [
        "## 2D+ USR"
      ],
      "metadata": {
        "id": "R6SpzSQ0eaOl"
      }
    },
    {
      "cell_type": "code",
      "source": [
        "df5= pd.read_csv('USR_df.csv')"
      ],
      "metadata": {
        "id": "1iUookGNfBLP"
      },
      "execution_count": null,
      "outputs": []
    },
    {
      "cell_type": "code",
      "source": [
        "df6 = pd.merge(df5, df1, on=[\"Name\"])"
      ],
      "metadata": {
        "id": "FRK7h3jIezCe"
      },
      "execution_count": null,
      "outputs": []
    },
    {
      "cell_type": "code",
      "source": [
        "Y6= pd.merge(df5['Name'], df1, on=[\"Name\"])"
      ],
      "metadata": {
        "id": "-TCM6Dg5eeaX"
      },
      "execution_count": null,
      "outputs": []
    },
    {
      "cell_type": "code",
      "source": [
        "Y6= pd.merge(df5['Name'], df_y2, on=[\"Name\"])\n",
        "Y6 = Y6.pIC50\n",
        "Y6"
      ],
      "metadata": {
        "id": "dYQ7D_I7f35Q",
        "colab": {
          "base_uri": "https://localhost:8080/"
        },
        "outputId": "07b51c86-7ffe-47ac-ad9d-e40151456608"
      },
      "execution_count": null,
      "outputs": [
        {
          "output_type": "execute_result",
          "data": {
            "text/plain": [
              "0      4.480172\n",
              "1      7.568636\n",
              "2      4.947729\n",
              "3      5.698970\n",
              "4      5.154902\n",
              "         ...   \n",
              "764    4.920819\n",
              "765    6.096910\n",
              "766    7.397940\n",
              "767    4.716699\n",
              "768    5.619789\n",
              "Name: pIC50, Length: 769, dtype: float64"
            ]
          },
          "metadata": {},
          "execution_count": 213
        }
      ]
    },
    {
      "cell_type": "code",
      "source": [
        "X6= df6.drop('Name', axis=1)\n",
        "X6"
      ],
      "metadata": {
        "id": "FoUA4jY7eojK",
        "colab": {
          "base_uri": "https://localhost:8080/",
          "height": 487
        },
        "outputId": "f35065fa-317a-49c3-caa4-8e83726f9580"
      },
      "execution_count": null,
      "outputs": [
        {
          "output_type": "execute_result",
          "data": {
            "text/plain": [
              "        USR_1     USR_2     USR_3     USR_4     USR_5     USR_6      USR_7  \\\n",
              "0    5.111275  2.327562  0.521235  5.182383  2.412567  0.261987  10.162094   \n",
              "1    7.633311  3.713499  0.441644  7.719860  3.774694  0.069655  15.348278   \n",
              "2    3.316825  1.164268 -0.652970  3.320040  1.202429 -0.684216   5.936920   \n",
              "3    6.317170  2.388525  0.542856  6.389362  2.895002  0.329128  11.733123   \n",
              "4    6.719421  2.934223  0.454294  6.840300  3.259092  0.102403  12.968726   \n",
              "..        ...       ...       ...       ...       ...       ...        ...   \n",
              "764  2.808262  1.018666 -0.523950  2.794226  1.137191  0.246597   5.211146   \n",
              "765  4.720246  2.070812  0.541490  4.801094  2.184815  0.000605   9.403594   \n",
              "766  4.881656  2.179786  0.357767  4.939153  2.259584  0.357407   9.725440   \n",
              "767  5.254545  2.658496  0.540513  5.272849  2.706642  0.513514  10.339657   \n",
              "768  5.564692  2.757722  0.537166  5.571316  2.880955  0.561133  11.339257   \n",
              "\n",
              "        USR_8     USR_9     USR_10  ...       AMW     WTPT-1    WTPT-2  \\\n",
              "0    4.857588 -0.587224   9.371578  ...  7.851921  58.575573  2.019847   \n",
              "1    7.987874 -0.198167  13.926388  ...  6.785216  82.333916  2.008144   \n",
              "2    2.267223 -0.921915   5.432708  ...  8.193048  51.795270  2.071811   \n",
              "3    5.730873 -0.738715  10.546449  ...  7.533480  70.477114  2.013632   \n",
              "4    6.691988 -0.536921  12.174121  ...  7.780685  81.356258  2.033906   \n",
              "..        ...       ...        ...  ...       ...        ...       ...   \n",
              "764  2.421948 -0.745038   4.421580  ...  7.541413  26.450254  2.034635   \n",
              "765  4.431506 -0.695848   8.123533  ...  7.024563  50.935748  2.037430   \n",
              "766  4.714075 -0.643144   8.593060  ...  7.207631  53.080055  2.041541   \n",
              "767  5.324793 -0.246769   9.903454  ...  7.227377  58.551059  2.019002   \n",
              "768  5.670711 -0.498089  10.509921  ...  7.827410  62.575811  2.018575   \n",
              "\n",
              "        WTPT-3     WTPT-4     WTPT-5   WPATH  WPOL  XLogP  Zagreb  \n",
              "0    25.944313  10.326383  12.384929  3049.0  36.0  2.189   146.0  \n",
              "1    31.656990  15.650588  12.488769  8320.0  57.0  4.880   198.0  \n",
              "2     9.034916   0.000000   6.473685  1225.0  44.0  8.559   134.0  \n",
              "3    28.568629  10.059078  15.018058  5074.0  49.0  3.137   172.0  \n",
              "4    28.690945  13.082552  12.116616  7582.0  56.0  6.575   200.0  \n",
              "..         ...        ...        ...     ...   ...    ...     ...  \n",
              "764   8.993407   0.000000   6.446338   240.0  17.0  1.895    64.0  \n",
              "765  15.001111   5.574036   9.427074  1933.0  32.0  3.558   124.0  \n",
              "766  18.043942   8.644980   9.398962  2302.0  31.0  3.313   126.0  \n",
              "767  23.477416  10.330959   9.911926  2874.0  39.0  2.996   148.0  \n",
              "768  28.985889  13.396168  12.356731  3845.0  38.0  2.056   154.0  \n",
              "\n",
              "[769 rows x 1393 columns]"
            ],
            "text/html": [
              "\n",
              "  <div id=\"df-067f4a3e-d329-4618-929b-8ed49efc4f8e\">\n",
              "    <div class=\"colab-df-container\">\n",
              "      <div>\n",
              "<style scoped>\n",
              "    .dataframe tbody tr th:only-of-type {\n",
              "        vertical-align: middle;\n",
              "    }\n",
              "\n",
              "    .dataframe tbody tr th {\n",
              "        vertical-align: top;\n",
              "    }\n",
              "\n",
              "    .dataframe thead th {\n",
              "        text-align: right;\n",
              "    }\n",
              "</style>\n",
              "<table border=\"1\" class=\"dataframe\">\n",
              "  <thead>\n",
              "    <tr style=\"text-align: right;\">\n",
              "      <th></th>\n",
              "      <th>USR_1</th>\n",
              "      <th>USR_2</th>\n",
              "      <th>USR_3</th>\n",
              "      <th>USR_4</th>\n",
              "      <th>USR_5</th>\n",
              "      <th>USR_6</th>\n",
              "      <th>USR_7</th>\n",
              "      <th>USR_8</th>\n",
              "      <th>USR_9</th>\n",
              "      <th>USR_10</th>\n",
              "      <th>...</th>\n",
              "      <th>AMW</th>\n",
              "      <th>WTPT-1</th>\n",
              "      <th>WTPT-2</th>\n",
              "      <th>WTPT-3</th>\n",
              "      <th>WTPT-4</th>\n",
              "      <th>WTPT-5</th>\n",
              "      <th>WPATH</th>\n",
              "      <th>WPOL</th>\n",
              "      <th>XLogP</th>\n",
              "      <th>Zagreb</th>\n",
              "    </tr>\n",
              "  </thead>\n",
              "  <tbody>\n",
              "    <tr>\n",
              "      <th>0</th>\n",
              "      <td>5.111275</td>\n",
              "      <td>2.327562</td>\n",
              "      <td>0.521235</td>\n",
              "      <td>5.182383</td>\n",
              "      <td>2.412567</td>\n",
              "      <td>0.261987</td>\n",
              "      <td>10.162094</td>\n",
              "      <td>4.857588</td>\n",
              "      <td>-0.587224</td>\n",
              "      <td>9.371578</td>\n",
              "      <td>...</td>\n",
              "      <td>7.851921</td>\n",
              "      <td>58.575573</td>\n",
              "      <td>2.019847</td>\n",
              "      <td>25.944313</td>\n",
              "      <td>10.326383</td>\n",
              "      <td>12.384929</td>\n",
              "      <td>3049.0</td>\n",
              "      <td>36.0</td>\n",
              "      <td>2.189</td>\n",
              "      <td>146.0</td>\n",
              "    </tr>\n",
              "    <tr>\n",
              "      <th>1</th>\n",
              "      <td>7.633311</td>\n",
              "      <td>3.713499</td>\n",
              "      <td>0.441644</td>\n",
              "      <td>7.719860</td>\n",
              "      <td>3.774694</td>\n",
              "      <td>0.069655</td>\n",
              "      <td>15.348278</td>\n",
              "      <td>7.987874</td>\n",
              "      <td>-0.198167</td>\n",
              "      <td>13.926388</td>\n",
              "      <td>...</td>\n",
              "      <td>6.785216</td>\n",
              "      <td>82.333916</td>\n",
              "      <td>2.008144</td>\n",
              "      <td>31.656990</td>\n",
              "      <td>15.650588</td>\n",
              "      <td>12.488769</td>\n",
              "      <td>8320.0</td>\n",
              "      <td>57.0</td>\n",
              "      <td>4.880</td>\n",
              "      <td>198.0</td>\n",
              "    </tr>\n",
              "    <tr>\n",
              "      <th>2</th>\n",
              "      <td>3.316825</td>\n",
              "      <td>1.164268</td>\n",
              "      <td>-0.652970</td>\n",
              "      <td>3.320040</td>\n",
              "      <td>1.202429</td>\n",
              "      <td>-0.684216</td>\n",
              "      <td>5.936920</td>\n",
              "      <td>2.267223</td>\n",
              "      <td>-0.921915</td>\n",
              "      <td>5.432708</td>\n",
              "      <td>...</td>\n",
              "      <td>8.193048</td>\n",
              "      <td>51.795270</td>\n",
              "      <td>2.071811</td>\n",
              "      <td>9.034916</td>\n",
              "      <td>0.000000</td>\n",
              "      <td>6.473685</td>\n",
              "      <td>1225.0</td>\n",
              "      <td>44.0</td>\n",
              "      <td>8.559</td>\n",
              "      <td>134.0</td>\n",
              "    </tr>\n",
              "    <tr>\n",
              "      <th>3</th>\n",
              "      <td>6.317170</td>\n",
              "      <td>2.388525</td>\n",
              "      <td>0.542856</td>\n",
              "      <td>6.389362</td>\n",
              "      <td>2.895002</td>\n",
              "      <td>0.329128</td>\n",
              "      <td>11.733123</td>\n",
              "      <td>5.730873</td>\n",
              "      <td>-0.738715</td>\n",
              "      <td>10.546449</td>\n",
              "      <td>...</td>\n",
              "      <td>7.533480</td>\n",
              "      <td>70.477114</td>\n",
              "      <td>2.013632</td>\n",
              "      <td>28.568629</td>\n",
              "      <td>10.059078</td>\n",
              "      <td>15.018058</td>\n",
              "      <td>5074.0</td>\n",
              "      <td>49.0</td>\n",
              "      <td>3.137</td>\n",
              "      <td>172.0</td>\n",
              "    </tr>\n",
              "    <tr>\n",
              "      <th>4</th>\n",
              "      <td>6.719421</td>\n",
              "      <td>2.934223</td>\n",
              "      <td>0.454294</td>\n",
              "      <td>6.840300</td>\n",
              "      <td>3.259092</td>\n",
              "      <td>0.102403</td>\n",
              "      <td>12.968726</td>\n",
              "      <td>6.691988</td>\n",
              "      <td>-0.536921</td>\n",
              "      <td>12.174121</td>\n",
              "      <td>...</td>\n",
              "      <td>7.780685</td>\n",
              "      <td>81.356258</td>\n",
              "      <td>2.033906</td>\n",
              "      <td>28.690945</td>\n",
              "      <td>13.082552</td>\n",
              "      <td>12.116616</td>\n",
              "      <td>7582.0</td>\n",
              "      <td>56.0</td>\n",
              "      <td>6.575</td>\n",
              "      <td>200.0</td>\n",
              "    </tr>\n",
              "    <tr>\n",
              "      <th>...</th>\n",
              "      <td>...</td>\n",
              "      <td>...</td>\n",
              "      <td>...</td>\n",
              "      <td>...</td>\n",
              "      <td>...</td>\n",
              "      <td>...</td>\n",
              "      <td>...</td>\n",
              "      <td>...</td>\n",
              "      <td>...</td>\n",
              "      <td>...</td>\n",
              "      <td>...</td>\n",
              "      <td>...</td>\n",
              "      <td>...</td>\n",
              "      <td>...</td>\n",
              "      <td>...</td>\n",
              "      <td>...</td>\n",
              "      <td>...</td>\n",
              "      <td>...</td>\n",
              "      <td>...</td>\n",
              "      <td>...</td>\n",
              "      <td>...</td>\n",
              "    </tr>\n",
              "    <tr>\n",
              "      <th>764</th>\n",
              "      <td>2.808262</td>\n",
              "      <td>1.018666</td>\n",
              "      <td>-0.523950</td>\n",
              "      <td>2.794226</td>\n",
              "      <td>1.137191</td>\n",
              "      <td>0.246597</td>\n",
              "      <td>5.211146</td>\n",
              "      <td>2.421948</td>\n",
              "      <td>-0.745038</td>\n",
              "      <td>4.421580</td>\n",
              "      <td>...</td>\n",
              "      <td>7.541413</td>\n",
              "      <td>26.450254</td>\n",
              "      <td>2.034635</td>\n",
              "      <td>8.993407</td>\n",
              "      <td>0.000000</td>\n",
              "      <td>6.446338</td>\n",
              "      <td>240.0</td>\n",
              "      <td>17.0</td>\n",
              "      <td>1.895</td>\n",
              "      <td>64.0</td>\n",
              "    </tr>\n",
              "    <tr>\n",
              "      <th>765</th>\n",
              "      <td>4.720246</td>\n",
              "      <td>2.070812</td>\n",
              "      <td>0.541490</td>\n",
              "      <td>4.801094</td>\n",
              "      <td>2.184815</td>\n",
              "      <td>0.000605</td>\n",
              "      <td>9.403594</td>\n",
              "      <td>4.431506</td>\n",
              "      <td>-0.695848</td>\n",
              "      <td>8.123533</td>\n",
              "      <td>...</td>\n",
              "      <td>7.024563</td>\n",
              "      <td>50.935748</td>\n",
              "      <td>2.037430</td>\n",
              "      <td>15.001111</td>\n",
              "      <td>5.574036</td>\n",
              "      <td>9.427074</td>\n",
              "      <td>1933.0</td>\n",
              "      <td>32.0</td>\n",
              "      <td>3.558</td>\n",
              "      <td>124.0</td>\n",
              "    </tr>\n",
              "    <tr>\n",
              "      <th>766</th>\n",
              "      <td>4.881656</td>\n",
              "      <td>2.179786</td>\n",
              "      <td>0.357767</td>\n",
              "      <td>4.939153</td>\n",
              "      <td>2.259584</td>\n",
              "      <td>0.357407</td>\n",
              "      <td>9.725440</td>\n",
              "      <td>4.714075</td>\n",
              "      <td>-0.643144</td>\n",
              "      <td>8.593060</td>\n",
              "      <td>...</td>\n",
              "      <td>7.207631</td>\n",
              "      <td>53.080055</td>\n",
              "      <td>2.041541</td>\n",
              "      <td>18.043942</td>\n",
              "      <td>8.644980</td>\n",
              "      <td>9.398962</td>\n",
              "      <td>2302.0</td>\n",
              "      <td>31.0</td>\n",
              "      <td>3.313</td>\n",
              "      <td>126.0</td>\n",
              "    </tr>\n",
              "    <tr>\n",
              "      <th>767</th>\n",
              "      <td>5.254545</td>\n",
              "      <td>2.658496</td>\n",
              "      <td>0.540513</td>\n",
              "      <td>5.272849</td>\n",
              "      <td>2.706642</td>\n",
              "      <td>0.513514</td>\n",
              "      <td>10.339657</td>\n",
              "      <td>5.324793</td>\n",
              "      <td>-0.246769</td>\n",
              "      <td>9.903454</td>\n",
              "      <td>...</td>\n",
              "      <td>7.227377</td>\n",
              "      <td>58.551059</td>\n",
              "      <td>2.019002</td>\n",
              "      <td>23.477416</td>\n",
              "      <td>10.330959</td>\n",
              "      <td>9.911926</td>\n",
              "      <td>2874.0</td>\n",
              "      <td>39.0</td>\n",
              "      <td>2.996</td>\n",
              "      <td>148.0</td>\n",
              "    </tr>\n",
              "    <tr>\n",
              "      <th>768</th>\n",
              "      <td>5.564692</td>\n",
              "      <td>2.757722</td>\n",
              "      <td>0.537166</td>\n",
              "      <td>5.571316</td>\n",
              "      <td>2.880955</td>\n",
              "      <td>0.561133</td>\n",
              "      <td>11.339257</td>\n",
              "      <td>5.670711</td>\n",
              "      <td>-0.498089</td>\n",
              "      <td>10.509921</td>\n",
              "      <td>...</td>\n",
              "      <td>7.827410</td>\n",
              "      <td>62.575811</td>\n",
              "      <td>2.018575</td>\n",
              "      <td>28.985889</td>\n",
              "      <td>13.396168</td>\n",
              "      <td>12.356731</td>\n",
              "      <td>3845.0</td>\n",
              "      <td>38.0</td>\n",
              "      <td>2.056</td>\n",
              "      <td>154.0</td>\n",
              "    </tr>\n",
              "  </tbody>\n",
              "</table>\n",
              "<p>769 rows × 1393 columns</p>\n",
              "</div>\n",
              "      <button class=\"colab-df-convert\" onclick=\"convertToInteractive('df-067f4a3e-d329-4618-929b-8ed49efc4f8e')\"\n",
              "              title=\"Convert this dataframe to an interactive table.\"\n",
              "              style=\"display:none;\">\n",
              "        \n",
              "  <svg xmlns=\"http://www.w3.org/2000/svg\" height=\"24px\"viewBox=\"0 0 24 24\"\n",
              "       width=\"24px\">\n",
              "    <path d=\"M0 0h24v24H0V0z\" fill=\"none\"/>\n",
              "    <path d=\"M18.56 5.44l.94 2.06.94-2.06 2.06-.94-2.06-.94-.94-2.06-.94 2.06-2.06.94zm-11 1L8.5 8.5l.94-2.06 2.06-.94-2.06-.94L8.5 2.5l-.94 2.06-2.06.94zm10 10l.94 2.06.94-2.06 2.06-.94-2.06-.94-.94-2.06-.94 2.06-2.06.94z\"/><path d=\"M17.41 7.96l-1.37-1.37c-.4-.4-.92-.59-1.43-.59-.52 0-1.04.2-1.43.59L10.3 9.45l-7.72 7.72c-.78.78-.78 2.05 0 2.83L4 21.41c.39.39.9.59 1.41.59.51 0 1.02-.2 1.41-.59l7.78-7.78 2.81-2.81c.8-.78.8-2.07 0-2.86zM5.41 20L4 18.59l7.72-7.72 1.47 1.35L5.41 20z\"/>\n",
              "  </svg>\n",
              "      </button>\n",
              "      \n",
              "  <style>\n",
              "    .colab-df-container {\n",
              "      display:flex;\n",
              "      flex-wrap:wrap;\n",
              "      gap: 12px;\n",
              "    }\n",
              "\n",
              "    .colab-df-convert {\n",
              "      background-color: #E8F0FE;\n",
              "      border: none;\n",
              "      border-radius: 50%;\n",
              "      cursor: pointer;\n",
              "      display: none;\n",
              "      fill: #1967D2;\n",
              "      height: 32px;\n",
              "      padding: 0 0 0 0;\n",
              "      width: 32px;\n",
              "    }\n",
              "\n",
              "    .colab-df-convert:hover {\n",
              "      background-color: #E2EBFA;\n",
              "      box-shadow: 0px 1px 2px rgba(60, 64, 67, 0.3), 0px 1px 3px 1px rgba(60, 64, 67, 0.15);\n",
              "      fill: #174EA6;\n",
              "    }\n",
              "\n",
              "    [theme=dark] .colab-df-convert {\n",
              "      background-color: #3B4455;\n",
              "      fill: #D2E3FC;\n",
              "    }\n",
              "\n",
              "    [theme=dark] .colab-df-convert:hover {\n",
              "      background-color: #434B5C;\n",
              "      box-shadow: 0px 1px 3px 1px rgba(0, 0, 0, 0.15);\n",
              "      filter: drop-shadow(0px 1px 2px rgba(0, 0, 0, 0.3));\n",
              "      fill: #FFFFFF;\n",
              "    }\n",
              "  </style>\n",
              "\n",
              "      <script>\n",
              "        const buttonEl =\n",
              "          document.querySelector('#df-067f4a3e-d329-4618-929b-8ed49efc4f8e button.colab-df-convert');\n",
              "        buttonEl.style.display =\n",
              "          google.colab.kernel.accessAllowed ? 'block' : 'none';\n",
              "\n",
              "        async function convertToInteractive(key) {\n",
              "          const element = document.querySelector('#df-067f4a3e-d329-4618-929b-8ed49efc4f8e');\n",
              "          const dataTable =\n",
              "            await google.colab.kernel.invokeFunction('convertToInteractive',\n",
              "                                                     [key], {});\n",
              "          if (!dataTable) return;\n",
              "\n",
              "          const docLinkHtml = 'Like what you see? Visit the ' +\n",
              "            '<a target=\"_blank\" href=https://colab.research.google.com/notebooks/data_table.ipynb>data table notebook</a>'\n",
              "            + ' to learn more about interactive tables.';\n",
              "          element.innerHTML = '';\n",
              "          dataTable['output_type'] = 'display_data';\n",
              "          await google.colab.output.renderOutput(dataTable, element);\n",
              "          const docLink = document.createElement('div');\n",
              "          docLink.innerHTML = docLinkHtml;\n",
              "          element.appendChild(docLink);\n",
              "        }\n",
              "      </script>\n",
              "    </div>\n",
              "  </div>\n",
              "  "
            ]
          },
          "metadata": {},
          "execution_count": 214
        }
      ]
    },
    {
      "cell_type": "code",
      "source": [
        "from sklearn.feature_selection import VarianceThreshold\n",
        "selection = VarianceThreshold(threshold=(.8 * (1 - .8)))    \n",
        "X6 = selection.fit_transform(X6) #Remove low variance features"
      ],
      "metadata": {
        "id": "NySL4LoUfF_y"
      },
      "execution_count": null,
      "outputs": []
    },
    {
      "cell_type": "code",
      "source": [
        "# Splitting dataset into training and testing sets\n",
        "X6_train, X6_test, Y6_train, Y6_test = train_test_split(X6, Y6, test_size = 0.2, random_state = 42)\n",
        "   \n",
        "# Creating and training model\n",
        "model6 = RandomForestRegressor(n_estimators=100, random_state= 0)\n",
        "model6.fit(X6_train, Y6_train)\n",
        "   \n",
        "# Model making a prediction on test data\n",
        "prediction6 = model6.predict(X6_test)\n",
        "   \n",
        "# Evaluation of r2 score of the model against the test set\n",
        "print(f\"r2 Score Of Test Set : {r2_score(Y6_test, prediction6)}\")"
      ],
      "metadata": {
        "id": "EsYybf6GfVv4",
        "colab": {
          "base_uri": "https://localhost:8080/"
        },
        "outputId": "696d89bd-a664-415c-e44f-aaccbf62457d"
      },
      "execution_count": null,
      "outputs": [
        {
          "output_type": "stream",
          "name": "stdout",
          "text": [
            "r2 Score Of Test Set : 0.615906594440049\n"
          ]
        }
      ]
    },
    {
      "cell_type": "code",
      "source": [
        "X6.shape"
      ],
      "metadata": {
        "id": "0NZ23Be69Pga",
        "colab": {
          "base_uri": "https://localhost:8080/"
        },
        "outputId": "192e517d-f2ff-46d4-eab6-960ec6f8e2c1"
      },
      "execution_count": null,
      "outputs": [
        {
          "output_type": "execute_result",
          "data": {
            "text/plain": [
              "(769, 573)"
            ]
          },
          "metadata": {},
          "execution_count": 217
        }
      ]
    },
    {
      "cell_type": "code",
      "source": [
        "from sklearn.metrics import mean_squared_error\n",
        "mse = mean_squared_error(Y6_test, prediction6)\n",
        "#rmse = sqrt(mse)\n",
        "mse"
      ],
      "metadata": {
        "id": "W0DflXbLZ56x",
        "colab": {
          "base_uri": "https://localhost:8080/"
        },
        "outputId": "e7b8c4a7-9371-4161-8214-963e53ffa205"
      },
      "execution_count": null,
      "outputs": [
        {
          "output_type": "execute_result",
          "data": {
            "text/plain": [
              "0.6116709738964671"
            ]
          },
          "metadata": {},
          "execution_count": 218
        }
      ]
    },
    {
      "cell_type": "code",
      "source": [
        "import seaborn as sns\n",
        "import matplotlib.pyplot as plt\n",
        "\n",
        "sns.set(color_codes=True)\n",
        "sns.set_style(\"white\")\n",
        "\n",
        "ax = sns.regplot(Y6_test, prediction6, scatter_kws={'alpha':0.4})\n",
        "ax.set_xlabel('Experimental pIC50', fontsize='large', fontweight='bold')\n",
        "ax.set_ylabel('Predicted pIC50', fontsize='large', fontweight='bold')\n",
        "ax.set(title='1D+2D+USR')\n",
        "ax.set_xlim(3, 10)\n",
        "ax.set_ylim(3, 10)\n",
        "ax.figure.set_size_inches(5, 5)\n",
        "plt.show"
      ],
      "metadata": {
        "id": "vSo4BNZ0VFZC",
        "colab": {
          "base_uri": "https://localhost:8080/"
        },
        "outputId": "def5b238-3c80-4e5b-f4fe-9efcdedd0550"
      },
      "execution_count": null,
      "outputs": [
        {
          "output_type": "stream",
          "name": "stderr",
          "text": [
            "/usr/local/lib/python3.7/dist-packages/seaborn/_decorators.py:43: FutureWarning: Pass the following variables as keyword args: x, y. From version 0.12, the only valid positional argument will be `data`, and passing other arguments without an explicit keyword will result in an error or misinterpretation.\n",
            "  FutureWarning\n"
          ]
        },
        {
          "output_type": "execute_result",
          "data": {
            "text/plain": [
              "<function matplotlib.pyplot.show>"
            ]
          },
          "metadata": {},
          "execution_count": 220
        },
        {
          "output_type": "display_data",
          "data": {
            "text/plain": [
              "<Figure size 360x360 with 1 Axes>"
            ],
            "image/png": "[encoded data removed]"
          },
          "metadata": {}
        }
      ]
    },
    {
      "cell_type": "code",
      "source": [
        "x_ax = range(len(Y6_test))\n",
        "plt.scatter(x_ax, Y6_test, s=5, color=\"blue\", label=\"original\")\n",
        "plt.plot(x_ax, prediction6, lw=0.8, color=\"red\", label=\"predicted\")\n",
        "plt.title(\"1D+2D+USR\")\n",
        "plt.ylabel(\"pIC50\")\n",
        "plt.legend()\n",
        "plt.show() "
      ],
      "metadata": {
        "id": "AkYtyHIxVNg9",
        "colab": {
          "base_uri": "https://localhost:8080/"
        },
        "outputId": "df012d61-c62f-47d1-db02-92db2474a01b"
      },
      "execution_count": null,
      "outputs": [
        {
          "output_type": "display_data",
          "data": {
            "text/plain": [
              "<Figure size 1152x432 with 1 Axes>"
            ],
            "image/png": "[encoded data removed]"
          },
          "metadata": {}
        }
      ]
    }
  ]
}
