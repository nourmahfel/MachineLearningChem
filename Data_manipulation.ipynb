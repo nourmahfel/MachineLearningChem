{
 "cells": [
  {
   "cell_type": "code",
   "execution_count": 15,
   "metadata": {
    "collapsed": false
   },
   "outputs": [
   ],
   "source": [
    "import pandas as pd\n",
    "import numpy\n",
    "import regex"
   ]
  },
  {
   "cell_type": "markdown",
   "metadata": {
    "collapsed": false
   },
   "source": [
    "## Dataframe cleaning and IC50 threshold is assigned to bioactivity classes\n",
    "\n"
   ]
  },
  {
   "cell_type": "code",
   "execution_count": 16,
   "metadata": {
    "collapsed": false
   },
   "outputs": [
   ],
   "source": [
    "df1=pd.read_csv('./beta-1.csv', sep=';' )"
   ]
  },
  {
   "cell_type": "code",
   "execution_count": 17,
   "metadata": {
    "collapsed": false
   },
   "outputs": [
    {
     "data": {
      "text/plain": [
       "(1539, 45)"
      ]
     },
     "execution_count": 17,
     "metadata": {
     },
     "output_type": "execute_result"
    }
   ],
   "source": [
    "df1.shape"
   ]
  },
  {
   "cell_type": "code",
   "execution_count": 18,
   "metadata": {
    "collapsed": false
   },
   "outputs": [
    {
     "data": {
      "text/plain": [
       "Index(['Molecule ChEMBL ID', 'Molecule Name', 'Molecule Max Phase',\n",
       "       'Molecular Weight', '#RO5 Violations', 'AlogP', 'Compound Key',\n",
       "       'Smiles', 'Standard Type', 'Standard Relation', 'Standard Value',\n",
       "       'Standard Units', 'pChEMBL Value', 'Data Validity Comment', 'Comment',\n",
       "       'Uo Units', 'Ligand Efficiency BEI', 'Ligand Efficiency LE',\n",
       "       'Ligand Efficiency LLE', 'Ligand Efficiency SEI', 'Potential Duplicate',\n",
       "       'Assay ChEMBL ID', 'Assay Description', 'Assay Type', 'BAO Format ID',\n",
       "       'BAO Label', 'Assay Organism', 'Assay Tissue ChEMBL ID',\n",
       "       'Assay Tissue Name', 'Assay Cell Type', 'Assay Subcellular Fraction',\n",
       "       'Assay Parameters', 'Assay Variant Accession', 'Assay Variant Mutation',\n",
       "       'Target ChEMBL ID', 'Target Name', 'Target Organism', 'Target Type',\n",
       "       'Document ChEMBL ID', 'Source ID', 'Source Description',\n",
       "       'Document Journal', 'Document Year', 'Cell ChEMBL ID', 'Properties'],\n",
       "      dtype='object')"
      ]
     },
     "execution_count": 18,
     "metadata": {
     },
     "output_type": "execute_result"
    }
   ],
   "source": [
    "df1.columns"
   ]
  },
  {
   "cell_type": "code",
   "execution_count": 19,
   "metadata": {
    "collapsed": false
   },
   "outputs": [
   ],
   "source": [
    "df1 = df1[df1[\"Standard Type\"] == 'IC50']\n",
    "df1=df1.reset_index(drop=True)"
   ]
  },
  {
   "cell_type": "code",
   "execution_count": 20,
   "metadata": {
    "collapsed": false
   },
   "outputs": [
   ],
   "source": [
    "df1.rename(columns = {'Assay Description':'Description'}, inplace = True)\n",
    "df1.rename(columns = {'Standard Value':'Standard_Value'}, inplace = True)"
   ]
  },
  {
   "cell_type": "code",
   "execution_count": 21,
   "metadata": {
    "collapsed": false
   },
   "outputs": [
   ],
   "source": [
    "df1 = df1[df1.Standard_Value.notna()]\n",
    "df1 = df1[df1.Smiles.notna()]"
   ]
  },
  {
   "cell_type": "code",
   "execution_count": 22,
   "metadata": {
    "collapsed": false
   },
   "outputs": [
   ],
   "source": [
    "df1 = df1.drop(columns= ['Target Name', 'Target Organism', 'Source Description','Cell ChEMBL ID','Properties','Assay Subcellular Fraction','Assay Parameters','Assay Variant Accession','Document Journal','Document Year','Source ID', 'Target Type','BAO Format ID','Assay Type', 'Target ChEMBL ID','Document ChEMBL ID', 'Potential Duplicate','BAO Label','Assay Organism', 'Assay Tissue ChEMBL ID','Assay Cell Type','Assay Variant Mutation', 'Data Validity Comment','Ligand Efficiency BEI','Ligand Efficiency LE','Ligand Efficiency LLE','Ligand Efficiency SEI','Assay Tissue Name','Standard Units','pChEMBL Value','Uo Units','Molecule Name','Assay ChEMBL ID','Molecule Max Phase'])"
   ]
  },
  {
   "cell_type": "code",
   "execution_count": 24,
   "metadata": {
    "collapsed": false
   },
   "outputs": [
   ],
   "source": [
    "df1['Target_receptor'] = pd.Series([\"Beta-1\" for x in range(len(df1.index))])"
   ]
  },
  {
   "cell_type": "code",
   "execution_count": 20,
   "metadata": {
    "collapsed": false
   },
   "outputs": [
   ],
   "source": [
    "#df1.Class.unique()"
   ]
  },
  {
   "cell_type": "code",
   "execution_count": 27,
   "metadata": {
    "collapsed": false
   },
   "outputs": [
   ],
   "source": [
    "df2=pd.read_csv('./beta-2.csv', sep=';' )"
   ]
  },
  {
   "cell_type": "code",
   "execution_count": 28,
   "metadata": {
    "collapsed": false
   },
   "outputs": [
    {
     "data": {
      "text/plain": [
       "(1591, 45)"
      ]
     },
     "execution_count": 28,
     "metadata": {
     },
     "output_type": "execute_result"
    }
   ],
   "source": [
    "df2.shape"
   ]
  },
  {
   "cell_type": "code",
   "execution_count": 29,
   "metadata": {
    "collapsed": false
   },
   "outputs": [
   ],
   "source": [
    "df2 = df2[df2[\"Standard Type\"] == 'IC50']"
   ]
  },
  {
   "cell_type": "code",
   "execution_count": 30,
   "metadata": {
    "collapsed": false
   },
   "outputs": [
   ],
   "source": [
    "#df2 = df2[df2[\"Assay Organism\"] == 'Homo sapiens']"
   ]
  },
  {
   "cell_type": "code",
   "execution_count": 31,
   "metadata": {
    "collapsed": false
   },
   "outputs": [
   ],
   "source": [
    "df2.rename(columns = {'Assay Description':'Description'}, inplace = True)\n",
    "df2.rename(columns = {'Standard Value':'Standard_Value'}, inplace = True)"
   ]
  },
  {
   "cell_type": "code",
   "execution_count": 32,
   "metadata": {
    "collapsed": false
   },
   "outputs": [
   ],
   "source": [
    "df2 = df2.drop(columns= ['Target Name', 'Target Organism', 'Source Description','Cell ChEMBL ID','Properties','Assay Subcellular Fraction','Assay Parameters','Assay Variant Accession','Document Journal','Document Year','Source ID', 'Target Type','BAO Format ID','Assay Type', 'Target ChEMBL ID','Document ChEMBL ID', 'Potential Duplicate','BAO Label','Assay Organism', 'Assay Tissue ChEMBL ID','Assay Cell Type','Assay Variant Mutation', 'Data Validity Comment','Ligand Efficiency BEI','Ligand Efficiency LE','Ligand Efficiency LLE','Ligand Efficiency SEI','Assay Tissue Name','Standard Units','pChEMBL Value','Uo Units','Molecule Name','Assay ChEMBL ID','Molecule Max Phase'])"
   ]
  },
  {
   "cell_type": "code",
   "execution_count": 33,
   "metadata": {
    "collapsed": false
   },
   "outputs": [
   ],
   "source": [
    "df2=df2.reset_index(drop=True)"
   ]
  },
  {
   "cell_type": "code",
   "execution_count": 35,
   "metadata": {
    "collapsed": false
   },
   "outputs": [
   ],
   "source": [
    "df2['Target_receptor'] = pd.Series([\"Beta-2\" for x in range(len(df2.index))])"
   ]
  },
  {
   "cell_type": "code",
   "execution_count": 36,
   "metadata": {
    "collapsed": false
   },
   "outputs": [
   ],
   "source": [
    "df2 = df2[df2.Standard_Value.notna()]\n",
    "df2 = df2[df2.Smiles.notna()]"
   ]
  },
  {
   "cell_type": "code",
   "execution_count": 37,
   "metadata": {
    "collapsed": false
   },
   "outputs": [
    {
     "data": {
      "text/plain": [
       "Index(['Molecule ChEMBL ID', 'Molecular Weight', '#RO5 Violations', 'AlogP',\n",
       "       'Compound Key', 'Smiles', 'Standard Type', 'Standard Relation',\n",
       "       'Standard_Value', 'Comment', 'Description', 'Target_receptor'],\n",
       "      dtype='object')"
      ]
     },
     "execution_count": 37,
     "metadata": {
     },
     "output_type": "execute_result"
    }
   ],
   "source": [
    "df2.columns"
   ]
  },
  {
   "cell_type": "code",
   "execution_count": 38,
   "metadata": {
    "collapsed": false
   },
   "outputs": [
   ],
   "source": [
    "df2=df2.reset_index(drop=True)"
   ]
  },
  {
   "cell_type": "code",
   "execution_count": 42,
   "metadata": {
    "collapsed": false
   },
   "outputs": [
   ],
   "source": [
    "df = pd.concat([df1, df2])"
   ]
  },
  {
   "cell_type": "code",
   "execution_count": 43,
   "metadata": {
    "collapsed": false
   },
   "outputs": [
   ],
   "source": [
    "df=df.reset_index(drop=True)"
   ]
  },
  {
   "cell_type": "code",
   "execution_count": 44,
   "metadata": {
    "collapsed": false
   },
   "outputs": [
   ],
   "source": [
    "df = df[df.Standard_Value.notna()]\n",
    "df = df[df.Smiles.notna()]"
   ]
  },
  {
   "cell_type": "code",
   "execution_count": 45,
   "metadata": {
    "collapsed": false
   },
   "outputs": [
   ],
   "source": [
    "df=df.reset_index(drop=True)"
   ]
  },
  {
   "cell_type": "code",
   "execution_count": 46,
   "metadata": {
    "collapsed": false
   },
   "outputs": [
   ],
   "source": [
    "df = df.drop_duplicates(['Smiles'])\n",
    "df=df.reset_index(drop=True)"
   ]
  },
  {
   "cell_type": "code",
   "execution_count": 47,
   "metadata": {
    "collapsed": false
   },
   "outputs": [
    {
     "data": {
      "text/html": [
       "<div>\n",
       "<style scoped>\n",
       "    .dataframe tbody tr th:only-of-type {\n",
       "        vertical-align: middle;\n",
       "    }\n",
       "\n",
       "    .dataframe tbody tr th {\n",
       "        vertical-align: top;\n",
       "    }\n",
       "\n",
       "    .dataframe thead th {\n",
       "        text-align: right;\n",
       "    }\n",
       "</style>\n",
       "<table border=\"1\" class=\"dataframe\">\n",
       "  <thead>\n",
       "    <tr style=\"text-align: right;\">\n",
       "      <th></th>\n",
       "      <th>Molecule ChEMBL ID</th>\n",
       "      <th>Molecular Weight</th>\n",
       "      <th>#RO5 Violations</th>\n",
       "      <th>AlogP</th>\n",
       "      <th>Compound Key</th>\n",
       "      <th>Smiles</th>\n",
       "      <th>Standard Type</th>\n",
       "      <th>Standard Relation</th>\n",
       "      <th>Standard_Value</th>\n",
       "      <th>Comment</th>\n",
       "      <th>Description</th>\n",
       "      <th>Target_receptor</th>\n",
       "    </tr>\n",
       "  </thead>\n",
       "  <tbody>\n",
       "    <tr>\n",
       "      <th>0</th>\n",
       "      <td>CHEMBL368457</td>\n",
       "      <td>324.42</td>\n",
       "      <td>0</td>\n",
       "      <td>3.19</td>\n",
       "      <td>1a</td>\n",
       "      <td>CC(C)(C)NCC(O)CON=C1c2ccccc2-c2ccccc21</td>\n",
       "      <td>IC50</td>\n",
       "      <td>'='</td>\n",
       "      <td>37.9</td>\n",
       "      <td>NaN</td>\n",
       "      <td>Compound was tested for inhibition of [3H]dihy...</td>\n",
       "      <td>Beta-1</td>\n",
       "    </tr>\n",
       "    <tr>\n",
       "      <th>1</th>\n",
       "      <td>CHEMBL305558</td>\n",
       "      <td>558.64</td>\n",
       "      <td>1</td>\n",
       "      <td>4.13</td>\n",
       "      <td>7b</td>\n",
       "      <td>O=S(=O)(Nc1ccc(CCNC[C@H](O)c2cccnc2)cc1)c1ccc(...</td>\n",
       "      <td>IC50</td>\n",
       "      <td>'='</td>\n",
       "      <td>40000.0</td>\n",
       "      <td>NaN</td>\n",
       "      <td>Binding affinity for cloned human Beta-1 adren...</td>\n",
       "      <td>Beta-1</td>\n",
       "    </tr>\n",
       "    <tr>\n",
       "      <th>2</th>\n",
       "      <td>CHEMBL4095361</td>\n",
       "      <td>552.68</td>\n",
       "      <td>1</td>\n",
       "      <td>3.79</td>\n",
       "      <td>19b</td>\n",
       "      <td>Cc1nnc(-c2cccc(CN3CCN(C(=O)c4ccc(C[C@@H]5CC[C@...</td>\n",
       "      <td>IC50</td>\n",
       "      <td>'&gt;'</td>\n",
       "      <td>20000.0</td>\n",
       "      <td>NaN</td>\n",
       "      <td>Activity at human beta1 adrenergic receptor</td>\n",
       "      <td>Beta-1</td>\n",
       "    </tr>\n",
       "    <tr>\n",
       "      <th>3</th>\n",
       "      <td>CHEMBL4087670</td>\n",
       "      <td>524.62</td>\n",
       "      <td>1</td>\n",
       "      <td>2.90</td>\n",
       "      <td>19d</td>\n",
       "      <td>O=C(c1ccc(C[C@@H]2CC[C@H]([C@H](O)c3ccccc3)N2)...</td>\n",
       "      <td>IC50</td>\n",
       "      <td>'&gt;'</td>\n",
       "      <td>20000.0</td>\n",
       "      <td>NaN</td>\n",
       "      <td>Activity at human beta1 adrenergic receptor</td>\n",
       "      <td>Beta-1</td>\n",
       "    </tr>\n",
       "    <tr>\n",
       "      <th>4</th>\n",
       "      <td>CHEMBL1684581</td>\n",
       "      <td>649.76</td>\n",
       "      <td>2</td>\n",
       "      <td>7.69</td>\n",
       "      <td>33, diastereomeric mixture</td>\n",
       "      <td>O=S(=O)(Nc1ccc(CC2CC[C@@H]([C@H](O)c3ccccc3)N2...</td>\n",
       "      <td>IC50</td>\n",
       "      <td>'='</td>\n",
       "      <td>2150.0</td>\n",
       "      <td>NaN</td>\n",
       "      <td>Agonist activity at human beta1 adrenergic rec...</td>\n",
       "      <td>Beta-1</td>\n",
       "    </tr>\n",
       "    <tr>\n",
       "      <th>...</th>\n",
       "      <td>...</td>\n",
       "      <td>...</td>\n",
       "      <td>...</td>\n",
       "      <td>...</td>\n",
       "      <td>...</td>\n",
       "      <td>...</td>\n",
       "      <td>...</td>\n",
       "      <td>...</td>\n",
       "      <td>...</td>\n",
       "      <td>...</td>\n",
       "      <td>...</td>\n",
       "      <td>...</td>\n",
       "    </tr>\n",
       "    <tr>\n",
       "      <th>810</th>\n",
       "      <td>CHEMBL3892021</td>\n",
       "      <td>740.95</td>\n",
       "      <td>3</td>\n",
       "      <td>6.25</td>\n",
       "      <td>BDBM200743</td>\n",
       "      <td>CN(CCCn1ccc2cc(CNC[C@H](O)c3ccc(O)c4[nH]c(=O)c...</td>\n",
       "      <td>IC50</td>\n",
       "      <td>'='</td>\n",
       "      <td>220.0</td>\n",
       "      <td>356811</td>\n",
       "      <td>Adrenergic Receptor Binding Assay: The study o...</td>\n",
       "      <td>Beta-2</td>\n",
       "    </tr>\n",
       "    <tr>\n",
       "      <th>811</th>\n",
       "      <td>CHEMBL3961014</td>\n",
       "      <td>757.94</td>\n",
       "      <td>3</td>\n",
       "      <td>4.94</td>\n",
       "      <td>BDBM200742</td>\n",
       "      <td>CN(CCCn1c(=O)[nH]c2cc(CNC[C@H](O)c3ccc(O)c4[nH...</td>\n",
       "      <td>IC50</td>\n",
       "      <td>'='</td>\n",
       "      <td>120.0</td>\n",
       "      <td>356810</td>\n",
       "      <td>Adrenergic Receptor Binding Assay: The study o...</td>\n",
       "      <td>Beta-2</td>\n",
       "    </tr>\n",
       "    <tr>\n",
       "      <th>812</th>\n",
       "      <td>CHEMBL4542960</td>\n",
       "      <td>571.78</td>\n",
       "      <td>1</td>\n",
       "      <td>2.76</td>\n",
       "      <td>6.1a</td>\n",
       "      <td>CC(C)NCC(O)COc1ccccc1CCCSCC(=O)NCCOCCOCCNC(=O)...</td>\n",
       "      <td>IC50</td>\n",
       "      <td>'='</td>\n",
       "      <td>22.0</td>\n",
       "      <td>NaN</td>\n",
       "      <td>Antagonist activity at human recombinant beta2...</td>\n",
       "      <td>Beta-2</td>\n",
       "    </tr>\n",
       "    <tr>\n",
       "      <th>813</th>\n",
       "      <td>CHEMBL4527905</td>\n",
       "      <td>1267.57</td>\n",
       "      <td>None</td>\n",
       "      <td>None</td>\n",
       "      <td>6.2c</td>\n",
       "      <td>C=CCc1ccccc1OCC(O)CNCCOCCOCCOCCOCCNC(=O)CCCCCC...</td>\n",
       "      <td>IC50</td>\n",
       "      <td>'='</td>\n",
       "      <td>500.0</td>\n",
       "      <td>NaN</td>\n",
       "      <td>Antagonist activity at human recombinant beta2...</td>\n",
       "      <td>Beta-2</td>\n",
       "    </tr>\n",
       "    <tr>\n",
       "      <th>814</th>\n",
       "      <td>CHEMBL4545079</td>\n",
       "      <td>548.66</td>\n",
       "      <td>1</td>\n",
       "      <td>-0.19</td>\n",
       "      <td>6.2d</td>\n",
       "      <td>C=CCc1ccccc1OCC(O)CNCCOCCOCCOCCOCCNC(=O)CS(=O)...</td>\n",
       "      <td>IC50</td>\n",
       "      <td>'='</td>\n",
       "      <td>83.4</td>\n",
       "      <td>NaN</td>\n",
       "      <td>Antagonist activity at human recombinant beta2...</td>\n",
       "      <td>Beta-2</td>\n",
       "    </tr>\n",
       "  </tbody>\n",
       "</table>\n",
       "<p>815 rows × 12 columns</p>\n",
       "</div>"
      ],
      "text/plain": [
       "    Molecule ChEMBL ID Molecular Weight #RO5 Violations  AlogP  \\\n",
       "0         CHEMBL368457           324.42               0   3.19   \n",
       "1         CHEMBL305558           558.64               1   4.13   \n",
       "2        CHEMBL4095361           552.68               1   3.79   \n",
       "3        CHEMBL4087670           524.62               1   2.90   \n",
       "4        CHEMBL1684581           649.76               2   7.69   \n",
       "..                 ...              ...             ...    ...   \n",
       "810      CHEMBL3892021           740.95               3   6.25   \n",
       "811      CHEMBL3961014           757.94               3   4.94   \n",
       "812      CHEMBL4542960           571.78               1   2.76   \n",
       "813      CHEMBL4527905          1267.57            None   None   \n",
       "814      CHEMBL4545079           548.66               1  -0.19   \n",
       "\n",
       "                   Compound Key  \\\n",
       "0                            1a   \n",
       "1                            7b   \n",
       "2                           19b   \n",
       "3                           19d   \n",
       "4    33, diastereomeric mixture   \n",
       "..                          ...   \n",
       "810                  BDBM200743   \n",
       "811                  BDBM200742   \n",
       "812                        6.1a   \n",
       "813                        6.2c   \n",
       "814                        6.2d   \n",
       "\n",
       "                                                Smiles Standard Type  \\\n",
       "0               CC(C)(C)NCC(O)CON=C1c2ccccc2-c2ccccc21          IC50   \n",
       "1    O=S(=O)(Nc1ccc(CCNC[C@H](O)c2cccnc2)cc1)c1ccc(...          IC50   \n",
       "2    Cc1nnc(-c2cccc(CN3CCN(C(=O)c4ccc(C[C@@H]5CC[C@...          IC50   \n",
       "3    O=C(c1ccc(C[C@@H]2CC[C@H]([C@H](O)c3ccccc3)N2)...          IC50   \n",
       "4    O=S(=O)(Nc1ccc(CC2CC[C@@H]([C@H](O)c3ccccc3)N2...          IC50   \n",
       "..                                                 ...           ...   \n",
       "810  CN(CCCn1ccc2cc(CNC[C@H](O)c3ccc(O)c4[nH]c(=O)c...          IC50   \n",
       "811  CN(CCCn1c(=O)[nH]c2cc(CNC[C@H](O)c3ccc(O)c4[nH...          IC50   \n",
       "812  CC(C)NCC(O)COc1ccccc1CCCSCC(=O)NCCOCCOCCNC(=O)...          IC50   \n",
       "813  C=CCc1ccccc1OCC(O)CNCCOCCOCCOCCOCCNC(=O)CCCCCC...          IC50   \n",
       "814  C=CCc1ccccc1OCC(O)CNCCOCCOCCOCCOCCNC(=O)CS(=O)...          IC50   \n",
       "\n",
       "    Standard Relation  Standard_Value Comment  \\\n",
       "0                 '='            37.9     NaN   \n",
       "1                 '='         40000.0     NaN   \n",
       "2                 '>'         20000.0     NaN   \n",
       "3                 '>'         20000.0     NaN   \n",
       "4                 '='          2150.0     NaN   \n",
       "..                ...             ...     ...   \n",
       "810               '='           220.0  356811   \n",
       "811               '='           120.0  356810   \n",
       "812               '='            22.0     NaN   \n",
       "813               '='           500.0     NaN   \n",
       "814               '='            83.4     NaN   \n",
       "\n",
       "                                           Description Target_receptor  \n",
       "0    Compound was tested for inhibition of [3H]dihy...          Beta-1  \n",
       "1    Binding affinity for cloned human Beta-1 adren...          Beta-1  \n",
       "2          Activity at human beta1 adrenergic receptor          Beta-1  \n",
       "3          Activity at human beta1 adrenergic receptor          Beta-1  \n",
       "4    Agonist activity at human beta1 adrenergic rec...          Beta-1  \n",
       "..                                                 ...             ...  \n",
       "810  Adrenergic Receptor Binding Assay: The study o...          Beta-2  \n",
       "811  Adrenergic Receptor Binding Assay: The study o...          Beta-2  \n",
       "812  Antagonist activity at human recombinant beta2...          Beta-2  \n",
       "813  Antagonist activity at human recombinant beta2...          Beta-2  \n",
       "814  Antagonist activity at human recombinant beta2...          Beta-2  \n",
       "\n",
       "[815 rows x 12 columns]"
      ]
     },
     "execution_count": 47,
     "metadata": {
     },
     "output_type": "execute_result"
    }
   ],
   "source": [
    "df"
   ]
  },
  {
   "cell_type": "code",
   "execution_count": 48,
   "metadata": {
    "collapsed": false
   },
   "outputs": [
   ],
   "source": [
    "bioactivity_threshold = []\n",
    "for i in df.Standard_Value:\n",
    "    if float(i) >= 10000:\n",
    "        bioactivity_threshold.append(\"inactive\")\n",
    "    elif float(i) <= 1000:\n",
    "        bioactivity_threshold.append(\"active\")\n",
    "    else:\n",
    "        bioactivity_threshold.append(\"intermediate\")"
   ]
  },
  {
   "cell_type": "code",
   "execution_count": 52,
   "metadata": {
    "collapsed": false
   },
   "outputs": [
   ],
   "source": [
    "bioactivity_class = pd.Series(bioactivity_threshold, name='class')\n",
    "df = pd.concat([df, bioactivity_class], axis=1)"
   ]
  },
  {
   "cell_type": "code",
   "execution_count": 58,
   "metadata": {
    "collapsed": false,
    "scrolled": true
   },
   "outputs": [
   ],
   "source": [
    "df=df.reset_index(drop=True)"
   ]
  },
  {
   "cell_type": "code",
   "execution_count": 48,
   "metadata": {
    "collapsed": false
   },
   "outputs": [
   ],
   "source": [
    "df1 = df1.drop_duplicates(['Smiles'])\n",
    "df1=df1.reset_index(drop=True)"
   ]
  },
  {
   "cell_type": "code",
   "execution_count": 59,
   "metadata": {
    "collapsed": false
   },
   "outputs": [
   ],
   "source": [
    "df.to_csv (r'activity.csv', index = False, header=True)"
   ]
  },
  {
   "cell_type": "markdown",
   "metadata": {
    "collapsed": false
   },
   "source": [
    "## **USR dataset cleaning**\n",
    "\n"
   ]
  },
  {
   "cell_type": "code",
   "execution_count": 60,
   "metadata": {
    "collapsed": false
   },
   "outputs": [
   ],
   "source": [
    "df = pd.read_csv(r'molecules_USR.txt', sep= ',', header = None)"
   ]
  },
  {
   "cell_type": "code",
   "execution_count": 61,
   "metadata": {
    "collapsed": false
   },
   "outputs": [
   ],
   "source": [
    "df.columns = [\"Name\",\"USR_1\", \"USR_2\", \"USR_3\", \"USR_4\",\"USR_5\", \"USR_6\",\"USR_7\",\"USR_8\",\"USR_9\",\"USR_10\",\"USR_11\"]"
   ]
  },
  {
   "cell_type": "code",
   "execution_count": 62,
   "metadata": {
    "collapsed": false
   },
   "outputs": [
   ],
   "source": [
    "df1 = df.Name.str.split(pat=' ',expand=True)"
   ]
  },
  {
   "cell_type": "code",
   "execution_count": 63,
   "metadata": {
    "collapsed": false
   },
   "outputs": [
   ],
   "source": [
    "df1.columns = [\"Name\",\"Molecule\", \"USR_1\"]"
   ]
  },
  {
   "cell_type": "code",
   "execution_count": 65,
   "metadata": {
    "collapsed": false
   },
   "outputs": [
   ],
   "source": [
    "df = df.drop('Name', axis=1)"
   ]
  },
  {
   "cell_type": "code",
   "execution_count": 66,
   "metadata": {
    "collapsed": false
   },
   "outputs": [
   ],
   "source": [
    "df.columns = [\"USR_2\", \"USR_3\", \"USR_4\", \"USR_5\",\"USR_6\", \"USR_7\",\"USR_8\",\"USR_9\",\"USR_10\",\"USR_11\",\"USR_12\"]"
   ]
  },
  {
   "cell_type": "code",
   "execution_count": 67,
   "metadata": {
    "collapsed": false
   },
   "outputs": [
   ],
   "source": [
    "df = pd.merge(df1, df, left_index=True, right_index=True)"
   ]
  },
  {
   "cell_type": "code",
   "execution_count": 68,
   "metadata": {
    "collapsed": false
   },
   "outputs": [
   ],
   "source": [
    "df.to_csv (r'USR_df.csv', index = False, header=True)"
   ]
  },
  {
   "cell_type": "code",
   "execution_count": 69,
   "metadata": {
    "collapsed": false
   },
   "outputs": [
   ],
   "source": [
    "df = pd.read_csv(r'USR_df.csv', sep= ',')\n",
    "df"
   ]
  },
  {
   "cell_type": "code",
   "execution_count": 73,
   "metadata": {
    "collapsed": false
   },
   "outputs": [
   ],
   "source": [
    "df = df.groupby('Name').mean()\n",
    "df"
   ]
  },
  {
   "cell_type": "code",
   "execution_count": 10,
   "metadata": {
    "collapsed": false
   },
   "outputs": [
   ],
   "source": [
    "df1= df1['Name']"
   ]
  },
  {
   "cell_type": "code",
   "execution_count": 11,
   "metadata": {
    "collapsed": false
   },
   "outputs": [
   ],
   "source": [
    "result = pd.merge(df, df1, on=[\"Name\"])"
   ]
  },
  {
   "cell_type": "code",
   "execution_count": 12,
   "metadata": {
    "collapsed": false
   },
   "outputs": [
    {
     "data": {
      "text/html": [
       "<div>\n",
       "<style scoped>\n",
       "    .dataframe tbody tr th:only-of-type {\n",
       "        vertical-align: middle;\n",
       "    }\n",
       "\n",
       "    .dataframe tbody tr th {\n",
       "        vertical-align: top;\n",
       "    }\n",
       "\n",
       "    .dataframe thead th {\n",
       "        text-align: right;\n",
       "    }\n",
       "</style>\n",
       "<table border=\"1\" class=\"dataframe\">\n",
       "  <thead>\n",
       "    <tr style=\"text-align: right;\">\n",
       "      <th></th>\n",
       "      <th>Name</th>\n",
       "      <th>USR_1</th>\n",
       "      <th>USR_2</th>\n",
       "      <th>USR_3</th>\n",
       "      <th>USR_4</th>\n",
       "      <th>USR_5</th>\n",
       "      <th>USR_6</th>\n",
       "      <th>USR_7</th>\n",
       "      <th>USR_8</th>\n",
       "      <th>USR_9</th>\n",
       "      <th>USR_10</th>\n",
       "      <th>USR_11</th>\n",
       "      <th>USR_12</th>\n",
       "    </tr>\n",
       "  </thead>\n",
       "  <tbody>\n",
       "    <tr>\n",
       "      <th>0</th>\n",
       "      <td>CHEMBL100624</td>\n",
       "      <td>5.111275</td>\n",
       "      <td>2.327562</td>\n",
       "      <td>0.521235</td>\n",
       "      <td>5.182383</td>\n",
       "      <td>2.412567</td>\n",
       "      <td>0.261987</td>\n",
       "      <td>10.162094</td>\n",
       "      <td>4.857588</td>\n",
       "      <td>-0.587224</td>\n",
       "      <td>9.371578</td>\n",
       "      <td>4.897772</td>\n",
       "      <td>0.040960</td>\n",
       "    </tr>\n",
       "    <tr>\n",
       "      <th>1</th>\n",
       "      <td>CHEMBL102194</td>\n",
       "      <td>7.633311</td>\n",
       "      <td>3.713499</td>\n",
       "      <td>0.441644</td>\n",
       "      <td>7.719860</td>\n",
       "      <td>3.774694</td>\n",
       "      <td>0.069655</td>\n",
       "      <td>15.348278</td>\n",
       "      <td>7.987874</td>\n",
       "      <td>-0.198167</td>\n",
       "      <td>13.926388</td>\n",
       "      <td>7.749817</td>\n",
       "      <td>0.059628</td>\n",
       "    </tr>\n",
       "    <tr>\n",
       "      <th>2</th>\n",
       "      <td>CHEMBL104</td>\n",
       "      <td>3.316825</td>\n",
       "      <td>1.164268</td>\n",
       "      <td>-0.652970</td>\n",
       "      <td>3.320040</td>\n",
       "      <td>1.202429</td>\n",
       "      <td>-0.684216</td>\n",
       "      <td>5.936920</td>\n",
       "      <td>2.267223</td>\n",
       "      <td>-0.921915</td>\n",
       "      <td>5.432708</td>\n",
       "      <td>2.060528</td>\n",
       "      <td>-0.787514</td>\n",
       "    </tr>\n",
       "    <tr>\n",
       "      <th>3</th>\n",
       "      <td>CHEMBL104061</td>\n",
       "      <td>6.317170</td>\n",
       "      <td>2.388525</td>\n",
       "      <td>0.542856</td>\n",
       "      <td>6.389362</td>\n",
       "      <td>2.895002</td>\n",
       "      <td>0.329128</td>\n",
       "      <td>11.733123</td>\n",
       "      <td>5.730873</td>\n",
       "      <td>-0.738715</td>\n",
       "      <td>10.546449</td>\n",
       "      <td>5.688213</td>\n",
       "      <td>-0.083778</td>\n",
       "    </tr>\n",
       "    <tr>\n",
       "      <th>4</th>\n",
       "      <td>CHEMBL104076</td>\n",
       "      <td>6.719421</td>\n",
       "      <td>2.934223</td>\n",
       "      <td>0.454294</td>\n",
       "      <td>6.840300</td>\n",
       "      <td>3.259092</td>\n",
       "      <td>0.102403</td>\n",
       "      <td>12.968726</td>\n",
       "      <td>6.691988</td>\n",
       "      <td>-0.536921</td>\n",
       "      <td>12.174121</td>\n",
       "      <td>6.603619</td>\n",
       "      <td>0.280385</td>\n",
       "    </tr>\n",
       "    <tr>\n",
       "      <th>...</th>\n",
       "      <td>...</td>\n",
       "      <td>...</td>\n",
       "      <td>...</td>\n",
       "      <td>...</td>\n",
       "      <td>...</td>\n",
       "      <td>...</td>\n",
       "      <td>...</td>\n",
       "      <td>...</td>\n",
       "      <td>...</td>\n",
       "      <td>...</td>\n",
       "      <td>...</td>\n",
       "      <td>...</td>\n",
       "      <td>...</td>\n",
       "    </tr>\n",
       "    <tr>\n",
       "      <th>772</th>\n",
       "      <td>CHEMBL9841</td>\n",
       "      <td>2.808262</td>\n",
       "      <td>1.018666</td>\n",
       "      <td>-0.523950</td>\n",
       "      <td>2.794226</td>\n",
       "      <td>1.137191</td>\n",
       "      <td>0.246597</td>\n",
       "      <td>5.211146</td>\n",
       "      <td>2.421948</td>\n",
       "      <td>-0.745038</td>\n",
       "      <td>4.421580</td>\n",
       "      <td>2.344749</td>\n",
       "      <td>0.612615</td>\n",
       "    </tr>\n",
       "    <tr>\n",
       "      <th>773</th>\n",
       "      <td>CHEMBL98773</td>\n",
       "      <td>4.720246</td>\n",
       "      <td>2.070812</td>\n",
       "      <td>0.541490</td>\n",
       "      <td>4.801094</td>\n",
       "      <td>2.184815</td>\n",
       "      <td>0.000605</td>\n",
       "      <td>9.403594</td>\n",
       "      <td>4.431506</td>\n",
       "      <td>-0.695848</td>\n",
       "      <td>8.123533</td>\n",
       "      <td>4.404223</td>\n",
       "      <td>0.534166</td>\n",
       "    </tr>\n",
       "    <tr>\n",
       "      <th>774</th>\n",
       "      <td>CHEMBL98975</td>\n",
       "      <td>4.881656</td>\n",
       "      <td>2.179786</td>\n",
       "      <td>0.357767</td>\n",
       "      <td>4.939153</td>\n",
       "      <td>2.259584</td>\n",
       "      <td>0.357407</td>\n",
       "      <td>9.725440</td>\n",
       "      <td>4.714075</td>\n",
       "      <td>-0.643144</td>\n",
       "      <td>8.593060</td>\n",
       "      <td>4.507085</td>\n",
       "      <td>0.091799</td>\n",
       "    </tr>\n",
       "    <tr>\n",
       "      <th>775</th>\n",
       "      <td>CHEMBL99331</td>\n",
       "      <td>5.254545</td>\n",
       "      <td>2.658496</td>\n",
       "      <td>0.540513</td>\n",
       "      <td>5.272849</td>\n",
       "      <td>2.706642</td>\n",
       "      <td>0.513514</td>\n",
       "      <td>10.339657</td>\n",
       "      <td>5.324793</td>\n",
       "      <td>-0.246769</td>\n",
       "      <td>9.903454</td>\n",
       "      <td>5.236346</td>\n",
       "      <td>0.112859</td>\n",
       "    </tr>\n",
       "    <tr>\n",
       "      <th>776</th>\n",
       "      <td>CHEMBL99585</td>\n",
       "      <td>5.564692</td>\n",
       "      <td>2.757722</td>\n",
       "      <td>0.537166</td>\n",
       "      <td>5.571316</td>\n",
       "      <td>2.880955</td>\n",
       "      <td>0.561133</td>\n",
       "      <td>11.339257</td>\n",
       "      <td>5.670711</td>\n",
       "      <td>-0.498089</td>\n",
       "      <td>10.509921</td>\n",
       "      <td>5.580255</td>\n",
       "      <td>0.236725</td>\n",
       "    </tr>\n",
       "  </tbody>\n",
       "</table>\n",
       "<p>777 rows × 13 columns</p>\n",
       "</div>"
      ],
      "text/plain": [
       "             Name     USR_1     USR_2     USR_3     USR_4     USR_5     USR_6  \\\n",
       "0    CHEMBL100624  5.111275  2.327562  0.521235  5.182383  2.412567  0.261987   \n",
       "1    CHEMBL102194  7.633311  3.713499  0.441644  7.719860  3.774694  0.069655   \n",
       "2       CHEMBL104  3.316825  1.164268 -0.652970  3.320040  1.202429 -0.684216   \n",
       "3    CHEMBL104061  6.317170  2.388525  0.542856  6.389362  2.895002  0.329128   \n",
       "4    CHEMBL104076  6.719421  2.934223  0.454294  6.840300  3.259092  0.102403   \n",
       "..            ...       ...       ...       ...       ...       ...       ...   \n",
       "772    CHEMBL9841  2.808262  1.018666 -0.523950  2.794226  1.137191  0.246597   \n",
       "773   CHEMBL98773  4.720246  2.070812  0.541490  4.801094  2.184815  0.000605   \n",
       "774   CHEMBL98975  4.881656  2.179786  0.357767  4.939153  2.259584  0.357407   \n",
       "775   CHEMBL99331  5.254545  2.658496  0.540513  5.272849  2.706642  0.513514   \n",
       "776   CHEMBL99585  5.564692  2.757722  0.537166  5.571316  2.880955  0.561133   \n",
       "\n",
       "         USR_7     USR_8     USR_9     USR_10    USR_11    USR_12  \n",
       "0    10.162094  4.857588 -0.587224   9.371578  4.897772  0.040960  \n",
       "1    15.348278  7.987874 -0.198167  13.926388  7.749817  0.059628  \n",
       "2     5.936920  2.267223 -0.921915   5.432708  2.060528 -0.787514  \n",
       "3    11.733123  5.730873 -0.738715  10.546449  5.688213 -0.083778  \n",
       "4    12.968726  6.691988 -0.536921  12.174121  6.603619  0.280385  \n",
       "..         ...       ...       ...        ...       ...       ...  \n",
       "772   5.211146  2.421948 -0.745038   4.421580  2.344749  0.612615  \n",
       "773   9.403594  4.431506 -0.695848   8.123533  4.404223  0.534166  \n",
       "774   9.725440  4.714075 -0.643144   8.593060  4.507085  0.091799  \n",
       "775  10.339657  5.324793 -0.246769   9.903454  5.236346  0.112859  \n",
       "776  11.339257  5.670711 -0.498089  10.509921  5.580255  0.236725  \n",
       "\n",
       "[777 rows x 13 columns]"
      ]
     },
     "execution_count": 12,
     "metadata": {
     },
     "output_type": "execute_result"
    }
   ],
   "source": [
    "result"
   ]
  }
 ],
 "metadata": {
  "kernelspec": {
   "display_name": "Python 3 (system-wide)",
   "language": "python",
   "metadata": {
    "cocalc": {
     "description": "Python 3 programming language",
     "priority": 100,
     "url": "https://www.python.org/"
    }
   },
   "name": "python3",
   "resource_dir": "/ext/jupyter/kernels/python3"
  },
  "language_info": {
   "codemirror_mode": {
    "name": "ipython",
    "version": 3
   },
   "file_extension": ".py",
   "mimetype": "text/x-python",
   "name": "python",
   "nbconvert_exporter": "python",
   "pygments_lexer": "ipython3",
   "version": "3.8.10"
  }
 },
 "nbformat": 4,
 "nbformat_minor": 4
}
